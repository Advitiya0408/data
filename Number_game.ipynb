{
  "nbformat": 4,
  "nbformat_minor": 0,
  "metadata": {
    "colab": {
      "name": "Number_game.ipynb",
      "provenance": [],
      "collapsed_sections": [],
      "authorship_tag": "ABX9TyPAdOIoLqCg9YhGu5KUDGfi",
      "include_colab_link": true
    },
    "kernelspec": {
      "name": "python3",
      "display_name": "Python 3"
    },
    "language_info": {
      "name": "python"
    }
  },
  "cells": [
    {
      "cell_type": "markdown",
      "metadata": {
        "id": "view-in-github",
        "colab_type": "text"
      },
      "source": [
        "<a href=\"https://colab.research.google.com/github/Advitiya0408/data/blob/main/Number_game.ipynb\" target=\"_parent\"><img src=\"https://colab.research.google.com/assets/colab-badge.svg\" alt=\"Open In Colab\"/></a>"
      ]
    },
    {
      "cell_type": "code",
      "execution_count": null,
      "metadata": {
        "id": "EWtWNzB40SFn",
        "colab": {
          "base_uri": "https://localhost:8080/"
        },
        "outputId": "ed18e8db-84be-41a8-a94b-017f36b0ba46"
      },
      "outputs": [
        {
          "output_type": "stream",
          "name": "stdout",
          "text": [
            "Please select a number between 1 and 10: 1\n",
            "Too low\n",
            "Please select a number between 1 and 10: 8\n",
            "Congrats you got the number 8 correctly\n"
          ]
        }
      ],
      "source": [
        "import random\n",
        "\n",
        "def guess (x):\n",
        "  randomno = random.randint(1,x)\n",
        "  guess = 0\n",
        "  flag = 1\n",
        "  while guess != randomno:\n",
        "    guess = int(input(f\"Please select a number between 1 and {x}: \"))\n",
        "    if guess > randomno:\n",
        "      print (\"Too high\")\n",
        "      flag = flag +1\n",
        "    elif guess < randomno:\n",
        "      print (\"Too low\")\n",
        "      flag = flag +1\n",
        "    else:\n",
        "      print (f\"Congrats you got the number {randomno} correctly\")  \n",
        "    if flag == 6:\n",
        "     print (\"Your Chances are over. Better luck next time\")\n",
        "     break\n",
        "guess (10)\n"
      ]
    },
    {
      "cell_type": "code",
      "source": [
        "import random\n",
        "\n",
        "def play():\n",
        "   \n",
        "    computer = random.choice(['r', 'p', 's'])\n",
        "    user = input(\"What's your choice? 'r' for rock, 'p' for paper, 's' for scissors\\n\")\n",
        "    if user == computer:\n",
        "        return 'It\\'s a tie'\n",
        "\n",
        "    # r > s, s > p, p > r\n",
        "    if is_win(user, computer):\n",
        "        return 'You won!'\n",
        "\n",
        "    return 'You lost!'\n",
        "\n",
        "def is_win(player, opponent):\n",
        "    # return true if player wins\n",
        "    # r > s, s > p, p > r\n",
        "    if (player == 'r' and opponent == 's') or (player == 's' and opponent == 'p') \\\n",
        "        or (player == 'p' and opponent == 'r'):\n",
        "        return True\n",
        "\n",
        "print(play())\n"
      ],
      "metadata": {
        "colab": {
          "base_uri": "https://localhost:8080/"
        },
        "id": "OIcEK-A0lOZc",
        "outputId": "8b7567c0-eafd-4345-8743-0ba5f4de1c93"
      },
      "execution_count": 3,
      "outputs": [
        {
          "output_type": "stream",
          "name": "stdout",
          "text": [
            "What's your choice? 'r' for rock, 'p' for paper, 's' for scissors\n",
            "r\n",
            "You won!\n"
          ]
        }
      ]
    },
    {
      "cell_type": "code",
      "source": [
        "import datetime\n",
        "def wish():\n",
        "    hour = int(datetime.datetime.now().hour)\n",
        "    if hour >= 0 and hour >= 12:\n",
        "       print(\"Good Morning\")\n",
        "    elif hour < 12 and hour < 18:\n",
        "       print(\"Good Afternoon\")\n",
        "    else:\n",
        "       print(\"Good Evening\")\n",
        "wish()\n"
      ],
      "metadata": {
        "id": "3F7lXznaHXNn",
        "colab": {
          "base_uri": "https://localhost:8080/"
        },
        "outputId": "79b14723-d2a0-4dbf-9106-0ee55b6be240"
      },
      "execution_count": null,
      "outputs": [
        {
          "output_type": "stream",
          "name": "stdout",
          "text": [
            "Good Afternoon\n"
          ]
        }
      ]
    }
  ]
}