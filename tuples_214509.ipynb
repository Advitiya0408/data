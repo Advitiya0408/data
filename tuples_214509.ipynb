{
  "nbformat": 4,
  "nbformat_minor": 0,
  "metadata": {
    "colab": {
      "name": "tuples_214509.ipynb",
      "provenance": [],
      "mount_file_id": "16aCIslesar9FgKh_6lbUOgBtxmQ3gxPo",
      "authorship_tag": "ABX9TyNkrCVOCnWpyNsGJm75s886",
      "include_colab_link": true
    },
    "kernelspec": {
      "name": "python3",
      "display_name": "Python 3"
    },
    "language_info": {
      "name": "python"
    }
  },
  "cells": [
    {
      "cell_type": "markdown",
      "metadata": {
        "id": "view-in-github",
        "colab_type": "text"
      },
      "source": [
        "<a href=\"https://colab.research.google.com/github/Advitiya0408/data/blob/main/tuples_214509.ipynb\" target=\"_parent\"><img src=\"https://colab.research.google.com/assets/colab-badge.svg\" alt=\"Open In Colab\"/></a>"
      ]
    },
    {
      "cell_type": "code",
      "execution_count": null,
      "metadata": {
        "colab": {
          "base_uri": "https://localhost:8080/"
        },
        "id": "rPrUC8EuI2tj",
        "outputId": "aa55f94a-4d0a-4709-bde2-ede2d48b369d"
      },
      "outputs": [
        {
          "output_type": "execute_result",
          "data": {
            "text/plain": [
              "[(0, 1), (1, 2), (2, 3), (3, 4), (4, [1, 2, 3]), (5, 6)]"
            ]
          },
          "metadata": {},
          "execution_count": 1
        }
      ],
      "source": [
        "tup=(1,2,3,4,[1,2,3],6)\n",
        "list(enumerate(tup))"
      ]
    },
    {
      "cell_type": "code",
      "source": [
        "t = ('S','A','I','R','A','M')\n",
        "s = \"\"\n",
        "for i in t[:3]:\n",
        "    s += i\n",
        "s += \" \"\n",
        "for i in t[3:]:\n",
        "    s += i\n",
        "print(s)"
      ],
      "metadata": {
        "colab": {
          "base_uri": "https://localhost:8080/"
        },
        "id": "epgecgiZKV5t",
        "outputId": "bd0a3c46-6946-41e0-e228-92989b5cfc16"
      },
      "execution_count": null,
      "outputs": [
        {
          "output_type": "stream",
          "name": "stdout",
          "text": [
            "SAI RAM\n"
          ]
        }
      ]
    },
    {
      "cell_type": "code",
      "source": [
        "t = ('S','A','I','R','A','M')\n",
        "s = \"\"\n",
        "for i in t[::2]:\n",
        "    s += i\n",
        "print(s)    "
      ],
      "metadata": {
        "colab": {
          "base_uri": "https://localhost:8080/"
        },
        "id": "mxQ_LE45L4Vg",
        "outputId": "b46919d7-6704-42e4-f444-e900cbafecbf"
      },
      "execution_count": null,
      "outputs": [
        {
          "output_type": "stream",
          "name": "stdout",
          "text": [
            "SIA\n"
          ]
        }
      ]
    },
    {
      "cell_type": "code",
      "source": [
        "#tuple = tuple[start:stop:step]"
      ],
      "metadata": {
        "id": "Tq7hxjMELK6o"
      },
      "execution_count": null,
      "outputs": []
    },
    {
      "cell_type": "code",
      "source": [
        "txt = \"but soft what light in yonder window breaks \"\n",
        "words= txt.split() \n",
        "t = list() \n",
        "for word in words: \n",
        "  t.append((len(word), word)) \n",
        "t.sort(reverse=True) \n",
        "res = list() \n",
        "for length, word in t: \n",
        "  res.append(word) \n",
        "print(res)"
      ],
      "metadata": {
        "colab": {
          "base_uri": "https://localhost:8080/"
        },
        "id": "cW4oCL1t3AVX",
        "outputId": "45568d4c-e6a5-4deb-d20d-28ed7f3e6b88"
      },
      "execution_count": null,
      "outputs": [
        {
          "output_type": "stream",
          "name": "stdout",
          "text": [
            "['yonder', 'window', 'breaks', 'light', 'what', 'soft', 'but', 'in']\n"
          ]
        }
      ]
    },
    {
      "cell_type": "code",
      "source": [
        "addr = \"monty@python.org \"\n",
        "uname, domain = addr.split(\"@\")\n",
        "print(uname)\n",
        "print(domain)"
      ],
      "metadata": {
        "colab": {
          "base_uri": "https://localhost:8080/"
        },
        "id": "iC_QDHhU4IEi",
        "outputId": "5a4bd6af-628e-4dc8-b934-d6a58f159987"
      },
      "execution_count": null,
      "outputs": [
        {
          "output_type": "stream",
          "name": "stdout",
          "text": [
            "monty\n",
            "python.org \n"
          ]
        }
      ]
    }
  ]
}