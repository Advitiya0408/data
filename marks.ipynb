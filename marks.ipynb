{
  "nbformat": 4,
  "nbformat_minor": 0,
  "metadata": {
    "colab": {
      "name": "marks.ipynb",
      "provenance": [],
      "authorship_tag": "ABX9TyPwANrdOOhcek/taCDXCXdC",
      "include_colab_link": true
    },
    "kernelspec": {
      "name": "python3",
      "display_name": "Python 3"
    },
    "language_info": {
      "name": "python"
    }
  },
  "cells": [
    {
      "cell_type": "markdown",
      "metadata": {
        "id": "view-in-github",
        "colab_type": "text"
      },
      "source": [
        "<a href=\"https://colab.research.google.com/github/Advitiya0408/data/blob/main/marks.ipynb\" target=\"_parent\"><img src=\"https://colab.research.google.com/assets/colab-badge.svg\" alt=\"Open In Colab\"/></a>"
      ]
    },
    {
      "cell_type": "code",
      "execution_count": null,
      "metadata": {
        "id": "K5kS5Wj4b_of"
      },
      "outputs": [],
      "source": [
        "# import all nessary libraries\n",
        "from openpyxl import chartsheet\n",
        "import openpyxl as xl\n",
        "from openpyxl.chart import BarChart, Reference\n",
        "wb = xl.load_workbook(\"Marks.xlsx\") # load the sheet from the files uploaded\n",
        "sheet = wb[\"Sheet1\"] # first sheet of document\n",
        "cell = sheet[\"a1\"]# sheet begins at a1\n",
        "for row in range(2 , 30): #range of colloums\n",
        "  cell = sheet.cell(row,5)\n",
        "values =  Reference(sheet,  # from where it takes values\n",
        "          min_row=2, \n",
        "          max_row=30,\n",
        "          min_col=5,\n",
        "          max_col=5) \n",
        "chart = BarChart() # type of chart\n",
        "chart.add_data(values) # the values are added\n",
        "sheet.add_chart(chart, \"g5\") # the chart is added at g5 cell\n",
        "\n",
        "wb.save(\"marks.xlsx\") #the file is saved here"
      ]
    },
    {
      "cell_type": "markdown",
      "source": [
        "<p> You can find the website <a href=\"http://127.0.0.1:8000/\">here</a>"
      ],
      "metadata": {
        "id": "ojjT9zvMmraA"
      }
    }
  ]
}