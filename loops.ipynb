{
  "nbformat": 4,
  "nbformat_minor": 0,
  "metadata": {
    "colab": {
      "name": "loops.ipynb",
      "provenance": [],
      "collapsed_sections": [],
      "include_colab_link": true
    },
    "kernelspec": {
      "name": "python3",
      "display_name": "Python 3"
    },
    "language_info": {
      "name": "python"
    }
  },
  "cells": [
    {
      "cell_type": "markdown",
      "metadata": {
        "id": "view-in-github",
        "colab_type": "text"
      },
      "source": [
        "<a href=\"https://colab.research.google.com/github/Advitiya0408/data/blob/main/loops.ipynb\" target=\"_parent\"><img src=\"https://colab.research.google.com/assets/colab-badge.svg\" alt=\"Open In Colab\"/></a>"
      ]
    },
    {
      "cell_type": "markdown",
      "source": [
        "Car Game"
      ],
      "metadata": {
        "id": "2jKpEfFwLr_M"
      }
    },
    {
      "cell_type": "code",
      "execution_count": null,
      "metadata": {
        "id": "A-qUC5x12_rJ"
      },
      "outputs": [],
      "source": [
        "command = \"\"\n",
        "started = False\n",
        "\n",
        "while True:\n",
        "  command = input(\"> \").lower()\n",
        "  if command == \"start\":\n",
        "    if started:\n",
        "      print (\"Car is running now \")\n",
        "    else:\n",
        "      started = True\n",
        "      print (\"Car Started\")\n",
        "  elif command == \"stop\":\n",
        "    if not started:\n",
        "      print (\"Car is at rest now\")\n",
        "    else:\n",
        "\n",
        "        started = False\n",
        "        print (\"Car stopped\")\n",
        "  elif command == \"left\":\n",
        "    print (\"Car moved left\")\n",
        "  elif command == \"right\":\n",
        "    print (\"Car moved right\")  \n",
        "  elif command == \"help\":\n",
        "    print (\"\"\"\n",
        "start Starts the car\n",
        "stop Stops the car\n",
        "quit ends the game\n",
        "    \"\"\")\n",
        "  elif command == \"quit\":\n",
        "    break\n",
        "  else:\n",
        "    print (\"I didn't understand this\" )  \n",
        "\n"
      ]
    },
    {
      "cell_type": "code",
      "source": [
        "item = range(1,53)\n",
        "mul = 1\n",
        "for n in item:\n",
        "  mul *=n\n",
        "  print (f\"Ans= {mul}\" )"
      ],
      "metadata": {
        "id": "yulPOrvnLrZ8",
        "outputId": "d946ed00-b5cd-41d6-e996-a9b4f93062c6",
        "colab": {
          "base_uri": "https://localhost:8080/"
        }
      },
      "execution_count": null,
      "outputs": [
        {
          "output_type": "stream",
          "name": "stdout",
          "text": [
            "Ans= 1\n",
            "Ans= 2\n",
            "Ans= 6\n",
            "Ans= 24\n",
            "Ans= 120\n",
            "Ans= 720\n",
            "Ans= 5040\n",
            "Ans= 40320\n",
            "Ans= 362880\n",
            "Ans= 3628800\n",
            "Ans= 39916800\n",
            "Ans= 479001600\n",
            "Ans= 6227020800\n",
            "Ans= 87178291200\n",
            "Ans= 1307674368000\n",
            "Ans= 20922789888000\n",
            "Ans= 355687428096000\n",
            "Ans= 6402373705728000\n",
            "Ans= 121645100408832000\n",
            "Ans= 2432902008176640000\n",
            "Ans= 51090942171709440000\n",
            "Ans= 1124000727777607680000\n",
            "Ans= 25852016738884976640000\n",
            "Ans= 620448401733239439360000\n",
            "Ans= 15511210043330985984000000\n",
            "Ans= 403291461126605635584000000\n",
            "Ans= 10888869450418352160768000000\n",
            "Ans= 304888344611713860501504000000\n",
            "Ans= 8841761993739701954543616000000\n",
            "Ans= 265252859812191058636308480000000\n",
            "Ans= 8222838654177922817725562880000000\n",
            "Ans= 263130836933693530167218012160000000\n",
            "Ans= 8683317618811886495518194401280000000\n",
            "Ans= 295232799039604140847618609643520000000\n",
            "Ans= 10333147966386144929666651337523200000000\n",
            "Ans= 371993326789901217467999448150835200000000\n",
            "Ans= 13763753091226345046315979581580902400000000\n",
            "Ans= 523022617466601111760007224100074291200000000\n",
            "Ans= 20397882081197443358640281739902897356800000000\n",
            "Ans= 815915283247897734345611269596115894272000000000\n",
            "Ans= 33452526613163807108170062053440751665152000000000\n",
            "Ans= 1405006117752879898543142606244511569936384000000000\n",
            "Ans= 60415263063373835637355132068513997507264512000000000\n",
            "Ans= 2658271574788448768043625811014615890319638528000000000\n",
            "Ans= 119622220865480194561963161495657715064383733760000000000\n",
            "Ans= 5502622159812088949850305428800254892961651752960000000000\n",
            "Ans= 258623241511168180642964355153611979969197632389120000000000\n",
            "Ans= 12413915592536072670862289047373375038521486354677760000000000\n",
            "Ans= 608281864034267560872252163321295376887552831379210240000000000\n",
            "Ans= 30414093201713378043612608166064768844377641568960512000000000000\n",
            "Ans= 1551118753287382280224243016469303211063259720016986112000000000000\n",
            "Ans= 80658175170943878571660636856403766975289505440883277824000000000000\n"
          ]
        }
      ]
    },
    {
      "cell_type": "code",
      "source": [
        "for x in range(5):\n",
        "  for y in range(4):\n",
        "    print (f\"({x},{y})\")"
      ],
      "metadata": {
        "id": "LPP2YZCGeoo4"
      },
      "execution_count": null,
      "outputs": []
    },
    {
      "cell_type": "code",
      "source": [
        "num = [5,2,5,2,2]\n",
        "for item in num:\n",
        "  print (\"F\"*item)\n",
        "       "
      ],
      "metadata": {
        "id": "EmpGBEGmhY0F",
        "colab": {
          "base_uri": "https://localhost:8080/"
        },
        "outputId": "2aade54b-7da7-4e81-e0a5-22e6141d0359"
      },
      "execution_count": null,
      "outputs": [
        {
          "output_type": "stream",
          "name": "stdout",
          "text": [
            "FFFFF\n",
            "FF\n",
            "FFFFF\n",
            "FF\n",
            "FF\n"
          ]
        }
      ]
    },
    {
      "cell_type": "code",
      "source": [
        "num=[2,2,2,2,7]\n",
        "for item in num:\n",
        "  print (\"L\"*item)"
      ],
      "metadata": {
        "id": "7AKGHlnLjlyt"
      },
      "execution_count": null,
      "outputs": []
    },
    {
      "cell_type": "code",
      "source": [
        "num = [2,3,5,7,9]\n",
        "max = num[0]\n",
        "for x in num:\n",
        "  if x > max:\n",
        "    max = x\n",
        "    print (max)"
      ],
      "metadata": {
        "id": "iIEgCUNxnWYX",
        "colab": {
          "base_uri": "https://localhost:8080/"
        },
        "outputId": "fcb4d9ff-3fa6-4d2b-c82b-58360f428d1d"
      },
      "execution_count": null,
      "outputs": [
        {
          "output_type": "stream",
          "name": "stdout",
          "text": [
            "3\n",
            "5\n",
            "7\n",
            "9\n"
          ]
        }
      ]
    },
    {
      "cell_type": "code",
      "source": [
        "num = [1,2,3,4,5]\n",
        "num.insert(1,7)\n",
        "num.pop()\n",
        "print (num)\n",
        "num.sort()\n",
        "print (num) "
      ],
      "metadata": {
        "colab": {
          "base_uri": "https://localhost:8080/"
        },
        "id": "w3vyrUjQBjFN",
        "outputId": "c2854f42-b82a-4988-d582-4b586b1c89e4"
      },
      "execution_count": null,
      "outputs": [
        {
          "output_type": "stream",
          "name": "stdout",
          "text": [
            "[1, 7, 2, 3, 4]\n",
            "[1, 2, 3, 4, 7]\n"
          ]
        }
      ]
    },
    {
      "cell_type": "code",
      "source": [
        "pizza = [7,2,2,2,7]\n",
        "for slice in pizza:\n",
        "  print(\"C\"*slice)"
      ],
      "metadata": {
        "colab": {
          "base_uri": "https://localhost:8080/"
        },
        "id": "kAZ05qETW8Xr",
        "outputId": "4efe09a2-1333-45f8-8078-f6df24660f27"
      },
      "execution_count": null,
      "outputs": [
        {
          "output_type": "stream",
          "name": "stdout",
          "text": [
            "CCCCCCC\n",
            "CC\n",
            "CC\n",
            "CC\n",
            "CCCCCCC\n"
          ]
        }
      ]
    },
    {
      "cell_type": "code",
      "source": [
        ""
      ],
      "metadata": {
        "colab": {
          "base_uri": "https://localhost:8080/"
        },
        "id": "DDYPLhADEVp-",
        "outputId": "92f9ae00-1842-4321-c290-57cebfbe70f8"
      },
      "execution_count": null,
      "outputs": [
        {
          "output_type": "stream",
          "name": "stdout",
          "text": [
            "1\n"
          ]
        }
      ]
    }
  ]
}