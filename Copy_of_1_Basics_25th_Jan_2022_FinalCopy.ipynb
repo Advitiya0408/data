{
  "nbformat": 4,
  "nbformat_minor": 0,
  "metadata": {
    "kernelspec": {
      "display_name": "Python 3",
      "name": "python3"
    },
    "language_info": {
      "name": "python"
    },
    "colab": {
      "name": "Copy of 1_Basics_25th Jan 2022_FinalCopy",
      "provenance": [],
      "include_colab_link": true
    }
  },
  "cells": [
    {
      "cell_type": "markdown",
      "metadata": {
        "id": "view-in-github",
        "colab_type": "text"
      },
      "source": [
        "<a href=\"https://colab.research.google.com/github/Advitiya0408/data/blob/main/Copy_of_1_Basics_25th_Jan_2022_FinalCopy.ipynb\" target=\"_parent\"><img src=\"https://colab.research.google.com/assets/colab-badge.svg\" alt=\"Open In Colab\"/></a>"
      ]
    },
    {
      "cell_type": "markdown",
      "metadata": {
        "id": "15ak4b_c4FPW"
      },
      "source": [
        "<h1>Python - Writing Your First Python Code!</h1>"
      ]
    },
    {
      "cell_type": "markdown",
      "metadata": {
        "id": "DwveLNvH4FPY"
      },
      "source": [
        "<p><strong>Welcome!</strong> This notebook will teach you the basics of the Python programming language. Although the information presented here is quite basic, it is an important foundation that will help you read and write Python code. By the end of this notebook, you'll know the basics of Python, including how to write basic commands, understand some basic types, and how to perform simple operations on them.</p> "
      ]
    },
    {
      "cell_type": "markdown",
      "metadata": {
        "id": "c9vMY3uj4FPb"
      },
      "source": [
        "<h2>Table of Contents</h2>\n",
        "<div class=\"alert alert-block alert-info\" style=\"margin-top: 20px\">\n",
        "    <ul>\n",
        "        <li>\n",
        "            <a href=\"#hello\">Say \"Hello\" to the world in Python</a>\n",
        "            <ul>\n",
        "                <li><a href=\"version\">What version of Python are we using?</a></li>\n",
        "                <li><a href=\"comments\">Writing comments in Python</a></li>\n",
        "                <li><a href=\"errors\">Errors in Python</a></li>\n",
        "                <li><a href=\"python_error\">Does Python know about your error before it runs your code?</a></li>\n",
        "                <li><a href=\"exercise\">Exercise: Your First Program</a></li>\n",
        "            </ul>\n",
        "        </li>\n",
        "        <li>\n",
        "            <a href=\"#types_objects\">Types of objects in Python</a>\n",
        "            <ul>\n",
        "                <li><a href=\"int\">Integers</a></li>\n",
        "                <li><a href=\"float\">Floats</a></li>\n",
        "                <li><a href=\"convert\">Converting from one object type to a different object type</a></li>\n",
        "                <li><a href=\"bool\">Boolean data type</a></li>\n",
        "                <li><a href=\"exer_type\">Exercise: Types</a></li>\n",
        "            </ul>\n",
        "        </li>\n",
        "        <li>\n",
        "            <a href=\"#expressions\">Expressions and Variables</a>\n",
        "            <ul>\n",
        "                <li><a href=\"exp\">Expressions</a></li>\n",
        "                <li><a href=\"exer_exp\">Exercise: Expressions</a></li>\n",
        "                <li><a href=\"var\">Variables</a></li>\n",
        "                <li><a href=\"exer_exp_var\">Exercise: Expression and Variables in Python</a></li>\n",
        "            </ul>\n",
        "        </li>\n",
        "    </ul>\n",
        "    <p>\n",
        "        Estimated time needed: <strong>25 min</strong>\n",
        "    </p>\n",
        "</div>\n",
        "\n",
        "<hr>"
      ]
    },
    {
      "cell_type": "markdown",
      "metadata": {
        "id": "BRH__Y7d4FPd"
      },
      "source": [
        "<h2 id=\"hello\">Say \"Hello\" to the world in Python</h2>"
      ]
    },
    {
      "cell_type": "markdown",
      "metadata": {
        "id": "tApxym-h4FPe"
      },
      "source": [
        "When learning a new programming language, it is customary to start with an \"hello world\" example. As simple as it is, this one line of code will ensure that we know how to print a string in output and how to execute code within cells in a notebook."
      ]
    },
    {
      "cell_type": "markdown",
      "metadata": {
        "id": "ODPWCNeY4FPg"
      },
      "source": [
        "<hr/>\n",
        "<div class=\"alert alert-success alertsuccess\" style=\"margin-top: 20px\">\n",
        "[Tip]: To execute the Python code in the code cell below, click on the cell to select it and press <kbd>Shift</kbd> + <kbd>Enter</kbd>.\n",
        "</div>\n",
        "<hr/>"
      ]
    },
    {
      "cell_type": "code",
      "metadata": {
        "id": "xhyBw-5T4FPh",
        "colab": {
          "base_uri": "https://localhost:8080/"
        },
        "outputId": "a2328754-297d-4e47-c9c5-781c113b5986"
      },
      "source": [
        "# Try your first Python output\n",
        "\n",
        "print('Sai Ram')"
      ],
      "execution_count": null,
      "outputs": [
        {
          "output_type": "stream",
          "name": "stdout",
          "text": [
            "Sai Ram\n"
          ]
        }
      ]
    },
    {
      "cell_type": "markdown",
      "metadata": {
        "id": "05rRkuvw4FPj"
      },
      "source": [
        "After executing the cell above, you should see that Python prints <code>Hello, Python!</code>. Congratulations on running your first Python code!"
      ]
    },
    {
      "cell_type": "markdown",
      "metadata": {
        "id": "fTbeh7lv4FPk"
      },
      "source": [
        "<hr/>\n",
        "<div class=\"alert alert-success alertsuccess\" style=\"margin-top: 20px\">\n",
        "    [Tip:] <code>print()</code> is a function. You passed the string <code>'Hello, Python!'</code> as an argument to instruct Python on what to print.\n",
        "</div>\n",
        "<hr/>"
      ]
    },
    {
      "cell_type": "markdown",
      "metadata": {
        "id": "iWznJ-1f4FPq"
      },
      "source": [
        "<h3 id=\"comments\">Writing comments in Python</h3>"
      ]
    },
    {
      "cell_type": "markdown",
      "metadata": {
        "id": "g3QmY-m-4FPr"
      },
      "source": [
        "<p>\n",
        "    In addition to writing code, note that it's always a good idea to add comments to your code. It will help others understand what you were trying to accomplish (the reason why you wrote a given snippet of code). Not only does this help <strong>other people</strong> understand your code, it can also serve as a reminder <strong>to you</strong> when you come back to it weeks or months later.</p>\n",
        "\n",
        "<p>\n",
        "    To write comments in Python, use the number symbol <code>#</code> before writing your comment. When you run your code, Python will ignore everything past the <code>#</code> on a given line.\n",
        "</p>"
      ]
    },
    {
      "cell_type": "code",
      "metadata": {
        "id": "EkBfqoIP4FPs",
        "outputId": "830c96ce-6d52-4a38-8574-70a64c83e771",
        "colab": {
          "base_uri": "https://localhost:8080/"
        }
      },
      "source": [
        "# Practice on writing comments\n",
        "\n",
        "print('Hello, Sai') # This line prints a string\n",
        "# print('Hi')"
      ],
      "execution_count": null,
      "outputs": [
        {
          "output_type": "stream",
          "name": "stdout",
          "text": [
            "Hello, Sai\n"
          ]
        }
      ]
    },
    {
      "cell_type": "markdown",
      "metadata": {
        "id": "AiIc9gmc4FPt"
      },
      "source": [
        "<p>\n",
        "    After executing the cell above, you should notice that <code>This line prints a string</code> did not appear in the output, because it was a comment (and thus ignored by Python).\n",
        "</p>\n",
        "<p>\n",
        "    The second line was also not executed because <code>print('Hi')</code> was preceded by the number sign (<code>#</code>) as well! Since this isn't an explanatory comment from the programmer, but an actual line of code, we might say that the programmer <em>commented out</em> that second line of code.\n",
        "</p>"
      ]
    },
    {
      "cell_type": "markdown",
      "metadata": {
        "id": "HngscMtL4FPu"
      },
      "source": [
        "<h3 id=\"errors\">Errors in Python</h3>"
      ]
    },
    {
      "cell_type": "markdown",
      "metadata": {
        "id": "k1OnTgIT4FPy"
      },
      "source": [
        "<p>Everyone makes mistakes. For many types of mistakes, Python will tell you that you have made a mistake by giving you an error message. It is important to read error messages carefully to really understand where you made a mistake and how you may go about correcting it.</p>\n",
        "<p>For example, if you spell <code>print</code> as <code>frint</code>, Python will display an error message. Give it a try:</p>"
      ]
    },
    {
      "cell_type": "code",
      "metadata": {
        "id": "JtXP3Ote4FPz",
        "outputId": "70fb0ed4-f8a5-4500-bc36-8592d51cd199"
      },
      "source": [
        "# Print string as error message\n",
        "\n",
        "frint(\"Hello, Python!\")"
      ],
      "execution_count": null,
      "outputs": [
        {
          "output_type": "error",
          "ename": "NameError",
          "evalue": "name 'frint' is not defined",
          "traceback": [
            "\u001b[0;31m---------------------------------------------------------------------------\u001b[0m",
            "\u001b[0;31mNameError\u001b[0m                                 Traceback (most recent call last)",
            "\u001b[0;32m<ipython-input-4-313a1769a8a5>\u001b[0m in \u001b[0;36m<module>\u001b[0;34m\u001b[0m\n\u001b[1;32m      1\u001b[0m \u001b[0;31m# Print string as error message\u001b[0m\u001b[0;34m\u001b[0m\u001b[0;34m\u001b[0m\u001b[0;34m\u001b[0m\u001b[0m\n\u001b[1;32m      2\u001b[0m \u001b[0;34m\u001b[0m\u001b[0m\n\u001b[0;32m----> 3\u001b[0;31m \u001b[0mfrint\u001b[0m\u001b[0;34m(\u001b[0m\u001b[0;34m\"Hello, Python!\"\u001b[0m\u001b[0;34m)\u001b[0m\u001b[0;34m\u001b[0m\u001b[0;34m\u001b[0m\u001b[0m\n\u001b[0m",
            "\u001b[0;31mNameError\u001b[0m: name 'frint' is not defined"
          ]
        }
      ]
    },
    {
      "cell_type": "markdown",
      "metadata": {
        "id": "hJk1YBwa4FP0"
      },
      "source": [
        "<p>The error message tells you: \n",
        "<ol>\n",
        "    <li>where the error occurred (more useful in large notebook cells or scripts), and</li> \n",
        "    <li>what kind of error it was (NameError)</li> \n",
        "</ol>\n",
        "<p>Here, Python attempted to run the function <code>frint</code>, but could not determine what <code>frint</code> is since it's not a built-in function and it has not been previously defined by us either.</p>"
      ]
    },
    {
      "cell_type": "markdown",
      "metadata": {
        "id": "ypLiqLfC4FP1"
      },
      "source": [
        "<p>\n",
        "    You'll notice that if we make a different type of mistake, by forgetting to close the string, we'll obtain a different error (i.e., a <code>SyntaxError</code>). Try it below:\n",
        "</p>"
      ]
    },
    {
      "cell_type": "code",
      "metadata": {
        "id": "x80kRBDI4FP3",
        "outputId": "a3f2eb2e-9549-473f-82f6-c085ab901bc8",
        "colab": {
          "base_uri": "https://localhost:8080/"
        }
      },
      "source": [
        "# Try to see build in error message\n",
        "# Saying hello to a particular Roll Number\n",
        "\n",
        "print(\"Hello, 2145xx!\")"
      ],
      "execution_count": null,
      "outputs": [
        {
          "output_type": "stream",
          "name": "stdout",
          "text": [
            "Hello, 2145xx!\n"
          ]
        }
      ]
    },
    {
      "cell_type": "markdown",
      "metadata": {
        "id": "6sqnYeif4FP4"
      },
      "source": [
        "<h3 id=\"python_error\">Does Python know about your error before it runs your code?</h3>"
      ]
    },
    {
      "cell_type": "markdown",
      "metadata": {
        "id": "mBL6jXn_4FP5"
      },
      "source": [
        "Python is what is called an <em>interpreted language</em>. Compiled languages examine your entire program at compile time, and are able to warn you about a whole class of errors prior to execution. In contrast, Python interprets your script line by line as it executes it. Python will stop executing the entire program when it encounters an error (unless the error is expected and handled by the programmer, a more advanced subject that we'll cover later on in this course)."
      ]
    },
    {
      "cell_type": "markdown",
      "metadata": {
        "id": "47_TltMT4FP6"
      },
      "source": [
        "Try to run the code in the cell below and see what happens:"
      ]
    },
    {
      "cell_type": "code",
      "metadata": {
        "id": "DYfRddkz4FP6",
        "outputId": "43faa6af-f3f2-4090-de61-b2801c390974"
      },
      "source": [
        "# Print string and error to see the running order\n",
        "\n",
        "print(\"This will be printed\")\n",
        "print(\"This will cause an error\")\n",
        "print(\"This will NOT be printed\")"
      ],
      "execution_count": null,
      "outputs": [
        {
          "output_type": "stream",
          "text": [
            "This will be printed\n",
            "This will cause an error\n",
            "This will NOT be printed\n"
          ],
          "name": "stdout"
        }
      ]
    },
    {
      "cell_type": "markdown",
      "metadata": {
        "id": "c4cYk0qz4FP7"
      },
      "source": [
        "<h3 id=\"exercise\">Exercise: Your First Program</h3>"
      ]
    },
    {
      "cell_type": "markdown",
      "metadata": {
        "id": "srH5PSVP4FP8"
      },
      "source": [
        "<p>Generations of programmers have started their coding careers by simply printing \"Hello, world!\". You will be following in their footsteps.</p>\n",
        "<p>In the code cell below, use the <code>print()</code> function to print out the phrase: <code>Hello, world!</code></p>"
      ]
    },
    {
      "cell_type": "code",
      "metadata": {
        "id": "WhdHGT2w4FP9"
      },
      "source": [
        "# Write your code below and press Shift+Enter to execute "
      ],
      "execution_count": null,
      "outputs": []
    },
    {
      "cell_type": "code",
      "metadata": {
        "id": "RWr_ml054FP9",
        "outputId": "6d911fd0-81cd-46e6-d9d9-0d64cfdce450",
        "colab": {
          "base_uri": "https://localhost:8080/"
        }
      },
      "source": [
        "print(\"Hello, world!\")"
      ],
      "execution_count": null,
      "outputs": [
        {
          "output_type": "stream",
          "name": "stdout",
          "text": [
            "Hello, world!\n"
          ]
        }
      ]
    },
    {
      "cell_type": "markdown",
      "metadata": {
        "id": "1k9tJkMs4FP-"
      },
      "source": [
        "Double-click __here__ for the solution.\n",
        "\n",
        "<!-- Your answer is below:\n",
        "\n",
        "print(\"Hello, world!\")\n",
        "\n",
        "-->"
      ]
    },
    {
      "cell_type": "markdown",
      "metadata": {
        "id": "LBuQLXtI4FQA"
      },
      "source": [
        "<p>Now, let's enhance your code with a comment. In the code cell below, print out the phrase: <code>Hello, world!</code> and comment it with the phrase <code>Print the traditional hello world</code> all in one line of code.</p>"
      ]
    },
    {
      "cell_type": "code",
      "metadata": {
        "id": "y5zSDPC74FQA"
      },
      "source": [
        "# Write your code below and press Shift+Enter to execute "
      ],
      "execution_count": null,
      "outputs": []
    },
    {
      "cell_type": "code",
      "metadata": {
        "id": "aEAaWG3b4FQB",
        "outputId": "125e3575-bbc0-4450-a398-5bc681e89804"
      },
      "source": [
        "print(\"Hello, world!\") # Print the traditional hello world"
      ],
      "execution_count": null,
      "outputs": [
        {
          "output_type": "stream",
          "text": [
            "Hello, world!\n"
          ],
          "name": "stdout"
        }
      ]
    },
    {
      "cell_type": "markdown",
      "metadata": {
        "id": "mN4tRQE84FQC"
      },
      "source": [
        "Double-click __here__ for the solution.\n",
        "\n",
        "<!-- Your answer is below:\n",
        "\n",
        "print(\"Hello, world!\") # Print the traditional hello world\n",
        "\n",
        "-->\n"
      ]
    },
    {
      "cell_type": "markdown",
      "metadata": {
        "id": "DxPR6BA-4FQE"
      },
      "source": [
        "<hr>"
      ]
    },
    {
      "cell_type": "markdown",
      "metadata": {
        "id": "3_i963C24FQE"
      },
      "source": [
        "<h2 id=\"types_objects\" align=\"center\">Types of objects in Python</h2>"
      ]
    },
    {
      "cell_type": "markdown",
      "metadata": {
        "id": "EA2r2UAH4FQF"
      },
      "source": [
        "<p>Python is an object-oriented language. There are many different types of objects in Python. Let's start with the most common object types: <i>strings</i>, <i>integers</i> and <i>floats</i>. Anytime you write words (text) in Python, you're using <i>character strings</i> (strings for short). The most common numbers, on the other hand, are <i>integers</i> (e.g. -1, 0, 100) and <i>floats</i>, which represent real numbers (e.g. 3.14, -42.0).</p>"
      ]
    },
    {
      "cell_type": "markdown",
      "metadata": {
        "id": "EVXSjF2F4FQF"
      },
      "source": [
        "<a align=\"center\">\n",
        "    <img src=\"https://s3-api.us-geo.objectstorage.softlayer.net/cf-courses-data/CognitiveClass/PY0101EN/Chapter%201/Images/TypesObjects.png\" width=\"600\">\n",
        "</a>"
      ]
    },
    {
      "cell_type": "markdown",
      "metadata": {
        "id": "S75LTniq4FQG"
      },
      "source": [
        "<p>The following code cells contain some examples.</p>"
      ]
    },
    {
      "cell_type": "code",
      "metadata": {
        "id": "vNlxarSd4FQH",
        "outputId": "c1b5fe9c-921e-4543-8ef2-7faeba523a36",
        "colab": {
          "base_uri": "https://localhost:8080/"
        }
      },
      "source": [
        "# Integer\n",
        "\n",
        "11"
      ],
      "execution_count": null,
      "outputs": [
        {
          "output_type": "execute_result",
          "data": {
            "text/plain": [
              "11"
            ]
          },
          "metadata": {},
          "execution_count": 10
        }
      ]
    },
    {
      "cell_type": "code",
      "metadata": {
        "id": "1mYHM-mp4FQI",
        "outputId": "f17b92b6-c7ee-44b5-daca-74b2970dc147",
        "colab": {
          "base_uri": "https://localhost:8080/"
        }
      },
      "source": [
        "# Float\n",
        "\n",
        "3.14"
      ],
      "execution_count": null,
      "outputs": [
        {
          "output_type": "execute_result",
          "data": {
            "text/plain": [
              "3.14"
            ]
          },
          "metadata": {},
          "execution_count": 11
        }
      ]
    },
    {
      "cell_type": "code",
      "metadata": {
        "id": "2vcxxJET4FQJ",
        "outputId": "f2579ce9-6ba6-485b-c3eb-07f10f94a794",
        "colab": {
          "base_uri": "https://localhost:8080/",
          "height": 35
        }
      },
      "source": [
        "# String\n",
        "\n",
        "\"Hello, Python 101!\""
      ],
      "execution_count": null,
      "outputs": [
        {
          "output_type": "execute_result",
          "data": {
            "application/vnd.google.colaboratory.intrinsic+json": {
              "type": "string"
            },
            "text/plain": [
              "'Hello, Python 101!'"
            ]
          },
          "metadata": {},
          "execution_count": 12
        }
      ]
    },
    {
      "cell_type": "markdown",
      "metadata": {
        "id": "xrSkX4St4FQJ"
      },
      "source": [
        "<p>You can get Python to tell you the type of an expression by using the built-in <code>type()</code> function. You'll notice that Python refers to integers as <code>int</code>, floats as <code>float</code>, and character strings as <code>str</code>.</p>"
      ]
    },
    {
      "cell_type": "code",
      "metadata": {
        "id": "UQvQ-NOF4FQK",
        "outputId": "11d3b74a-2ea8-45e1-c639-ee1c46defb6a",
        "colab": {
          "base_uri": "https://localhost:8080/"
        }
      },
      "source": [
        "# Type of 25\n",
        "\n",
        "type(25)"
      ],
      "execution_count": null,
      "outputs": [
        {
          "output_type": "execute_result",
          "data": {
            "text/plain": [
              "int"
            ]
          },
          "metadata": {},
          "execution_count": 13
        }
      ]
    },
    {
      "cell_type": "code",
      "metadata": {
        "id": "e9Wnp6CV4FQL",
        "outputId": "8cbb408c-9478-45f8-944d-e4d9cf32314b"
      },
      "source": [
        "# Type of 2.14\n",
        "\n",
        "type(2.14)"
      ],
      "execution_count": null,
      "outputs": [
        {
          "output_type": "execute_result",
          "data": {
            "text/plain": [
              "float"
            ]
          },
          "metadata": {
            "tags": []
          },
          "execution_count": 15
        }
      ]
    },
    {
      "cell_type": "code",
      "metadata": {
        "id": "9cQuqxN44FQM",
        "outputId": "632f0133-4945-46b0-8cce-2d0fe317055c"
      },
      "source": [
        "# Type of \"Hello, Python 101!\"\n",
        "\n",
        "type(\"Hello, Python 101!\")"
      ],
      "execution_count": null,
      "outputs": [
        {
          "output_type": "execute_result",
          "data": {
            "text/plain": [
              "str"
            ]
          },
          "metadata": {
            "tags": []
          },
          "execution_count": 16
        }
      ]
    },
    {
      "cell_type": "markdown",
      "metadata": {
        "id": "lBMtdN8W4FQO"
      },
      "source": [
        "<p>In the code cell below, use the <code>type()</code> function to check the object type of <code>12.0</code>."
      ]
    },
    {
      "cell_type": "code",
      "metadata": {
        "id": "5E-AnY4H4FQO"
      },
      "source": [
        "# Write your code below. Don't forget to press Shift+Enter to execute the cell"
      ],
      "execution_count": null,
      "outputs": []
    },
    {
      "cell_type": "code",
      "metadata": {
        "id": "CK6DbNwJ4FQQ",
        "outputId": "98f1b59e-f093-4439-dfab-e126f7dcea1e"
      },
      "source": [
        "type(12.0)"
      ],
      "execution_count": null,
      "outputs": [
        {
          "output_type": "execute_result",
          "data": {
            "text/plain": [
              "float"
            ]
          },
          "metadata": {
            "tags": []
          },
          "execution_count": 17
        }
      ]
    },
    {
      "cell_type": "markdown",
      "metadata": {
        "id": "iemkLIgY4FQR"
      },
      "source": [
        "Double-click __here__ for the solution.\n",
        "\n",
        "<!-- Your answer is below:\n",
        "\n",
        "type(12.0)\n",
        "\n",
        "-->"
      ]
    },
    {
      "cell_type": "markdown",
      "metadata": {
        "id": "YyuYLooY4FQS"
      },
      "source": [
        "<h3 id=\"int\">Integers</h3>"
      ]
    },
    {
      "cell_type": "markdown",
      "metadata": {
        "id": "ho1gZdPU4FQT"
      },
      "source": [
        "<p>Here are some examples of integers. Integers can be negative or positive numbers:</p>"
      ]
    },
    {
      "cell_type": "markdown",
      "metadata": {
        "id": "rp94qF3F4FQT"
      },
      "source": [
        "<a align=\"center\">\n",
        "    <img src=\"https://s3-api.us-geo.objectstorage.softlayer.net/cf-courses-data/CognitiveClass/PY0101EN/Chapter%201/Images/TypesInt.png\" width=\"600\">\n",
        "</a>"
      ]
    },
    {
      "cell_type": "markdown",
      "metadata": {
        "id": "p4hs-SWv4FQU"
      },
      "source": [
        "<p>We can verify this is the case by using, you guessed it, the <code>type()</code> function:"
      ]
    },
    {
      "cell_type": "code",
      "metadata": {
        "id": "5ReHJnKN4FQV",
        "outputId": "304a4aa8-d49f-4c6b-f0e8-6f3cade02e70"
      },
      "source": [
        "# Print the type of -1\n",
        "\n",
        "type(-1)"
      ],
      "execution_count": null,
      "outputs": [
        {
          "output_type": "execute_result",
          "data": {
            "text/plain": [
              "int"
            ]
          },
          "metadata": {
            "tags": []
          },
          "execution_count": 18
        }
      ]
    },
    {
      "cell_type": "code",
      "metadata": {
        "id": "LsUtxTVx4FQW",
        "outputId": "002d593d-372f-45af-9e66-2d1fcbfd02fd",
        "colab": {
          "base_uri": "https://localhost:8080/"
        }
      },
      "source": [
        "# Print the type of 4\n",
        "\n",
        "a= type(4)\n",
        "print (a)\n",
        "type (1.4)"
      ],
      "execution_count": null,
      "outputs": [
        {
          "output_type": "stream",
          "name": "stdout",
          "text": [
            "<class 'int'>\n"
          ]
        },
        {
          "output_type": "execute_result",
          "data": {
            "text/plain": [
              "float"
            ]
          },
          "metadata": {},
          "execution_count": 15
        }
      ]
    },
    {
      "cell_type": "code",
      "metadata": {
        "id": "tJDP8f224FQW",
        "outputId": "6f6460a7-c126-4ea8-def9-11ad0cab47bf"
      },
      "source": [
        "# Print the type of 0\n",
        "\n",
        "type(0)"
      ],
      "execution_count": null,
      "outputs": [
        {
          "output_type": "execute_result",
          "data": {
            "text/plain": [
              "int"
            ]
          },
          "metadata": {
            "tags": []
          },
          "execution_count": 20
        }
      ]
    },
    {
      "cell_type": "markdown",
      "metadata": {
        "id": "j9xJQT9B4FQX"
      },
      "source": [
        "<h3 id=\"float\">Floats</h3> "
      ]
    },
    {
      "cell_type": "markdown",
      "metadata": {
        "id": "_lODHVmP4FQY"
      },
      "source": [
        "<p>Floats represent real numbers; they are a superset of integer numbers but also include \"numbers with decimals\". There are some limitations when it comes to machines representing real numbers, but floating point numbers are a good representation in most cases. You can learn more about the specifics of floats for your runtime environment, by checking the value of <code>sys.float_info</code>. This will also tell you what's the largest and smallest number that can be represented with them.</p>\n",
        "\n",
        "<p>Once again, can test some examples with the <code>type()</code> function:"
      ]
    },
    {
      "cell_type": "code",
      "metadata": {
        "id": "1hF9fHMP4FQY",
        "outputId": "eb2b4950-98c4-4ee8-8c6c-c5a1a8e7e6ab"
      },
      "source": [
        "# Print the type of 1.0\n",
        "\n",
        "type(1.0) # Notice that 1 is an int, and 1.0 is a float"
      ],
      "execution_count": null,
      "outputs": [
        {
          "output_type": "execute_result",
          "data": {
            "text/plain": [
              "float"
            ]
          },
          "metadata": {
            "tags": []
          },
          "execution_count": 21
        }
      ]
    },
    {
      "cell_type": "code",
      "metadata": {
        "id": "UhaQZjUH4FQZ",
        "outputId": "7a2c8e9d-42df-485c-bc95-1d8a9a757a90"
      },
      "source": [
        "# Print the type of 0.5\n",
        "\n",
        "type(0.5)"
      ],
      "execution_count": null,
      "outputs": [
        {
          "output_type": "execute_result",
          "data": {
            "text/plain": [
              "float"
            ]
          },
          "metadata": {
            "tags": []
          },
          "execution_count": 22
        }
      ]
    },
    {
      "cell_type": "code",
      "metadata": {
        "id": "6kKoMYpu4FQa",
        "outputId": "3f83c15a-1677-44e8-86e5-8e23380f6023"
      },
      "source": [
        "# Print the type of 0.56\n",
        "\n",
        "type(0.56)"
      ],
      "execution_count": null,
      "outputs": [
        {
          "output_type": "execute_result",
          "data": {
            "text/plain": [
              "float"
            ]
          },
          "metadata": {
            "tags": []
          },
          "execution_count": 23
        }
      ]
    },
    {
      "cell_type": "code",
      "metadata": {
        "id": "zObsxkrw4FQb",
        "outputId": "e223da8e-a576-42b2-906d-09aba1156bf0"
      },
      "source": [
        "# System settings about float type\n",
        "\n",
        "sys.float_info"
      ],
      "execution_count": null,
      "outputs": [
        {
          "output_type": "execute_result",
          "data": {
            "text/plain": [
              "sys.float_info(max=1.7976931348623157e+308, max_exp=1024, max_10_exp=308, min=2.2250738585072014e-308, min_exp=-1021, min_10_exp=-307, dig=15, mant_dig=53, epsilon=2.220446049250313e-16, radix=2, rounds=1)"
            ]
          },
          "metadata": {
            "tags": []
          },
          "execution_count": 24
        }
      ]
    },
    {
      "cell_type": "markdown",
      "metadata": {
        "id": "d4l5NHWK4FQc"
      },
      "source": [
        "<h3 id=\"convert\">Converting from one object type to a different object type</h3>"
      ]
    },
    {
      "cell_type": "markdown",
      "metadata": {
        "id": "_bTMAqSe4FQc"
      },
      "source": [
        "<p>You can change the type of the object in Python; this is called typecasting. For example, you can convert an <i>integer</i> into a <i>float</i> (e.g. 2 to 2.0).</p>\n",
        "<p>Let's try it:</p>"
      ]
    },
    {
      "cell_type": "code",
      "metadata": {
        "id": "FA_EsNZq4FQd",
        "outputId": "6f021c18-8144-4c42-d294-961517d52061"
      },
      "source": [
        "# Verify that this is an integer\n",
        "\n",
        "type(2)"
      ],
      "execution_count": null,
      "outputs": [
        {
          "output_type": "execute_result",
          "data": {
            "text/plain": [
              "int"
            ]
          },
          "metadata": {
            "tags": []
          },
          "execution_count": 25
        }
      ]
    },
    {
      "cell_type": "markdown",
      "metadata": {
        "id": "eCowHSK54FQd"
      },
      "source": [
        "<h4>Converting integers to floats</h4>\n",
        "<p>Let's cast integer 2 to float:</p>"
      ]
    },
    {
      "cell_type": "code",
      "metadata": {
        "id": "mjPK_r8h4FQe",
        "outputId": "a8dcc98b-19cc-46dd-c407-16565a1c9a7c"
      },
      "source": [
        "# Convert 2 to a float\n",
        "\n",
        "float(2)"
      ],
      "execution_count": null,
      "outputs": [
        {
          "output_type": "execute_result",
          "data": {
            "text/plain": [
              "2.0"
            ]
          },
          "metadata": {
            "tags": []
          },
          "execution_count": 26
        }
      ]
    },
    {
      "cell_type": "code",
      "metadata": {
        "id": "SlBNOtQu4FQf",
        "outputId": "8f8c5b23-0976-4955-a440-d971f0b8b763"
      },
      "source": [
        "# Convert integer 2 to a float and check its type\n",
        "\n",
        "type(float(2))"
      ],
      "execution_count": null,
      "outputs": [
        {
          "output_type": "execute_result",
          "data": {
            "text/plain": [
              "float"
            ]
          },
          "metadata": {
            "tags": []
          },
          "execution_count": 27
        }
      ]
    },
    {
      "cell_type": "markdown",
      "metadata": {
        "id": "amkUlbX94FQg"
      },
      "source": [
        "<p>When we convert an integer into a float, we don't really change the value (i.e., the significand) of the number. However, if we cast a float into an integer, we could potentially lose some information. For example, if we cast the float 1.1 to integer we will get 1 and lose the decimal information (i.e., 0.1):</p>"
      ]
    },
    {
      "cell_type": "code",
      "metadata": {
        "id": "MNYFRpD44FQh",
        "outputId": "b1937cfd-4eea-455b-fed1-80b595dc2353"
      },
      "source": [
        "# Casting 1.1 to integer will result in loss of information\n",
        "\n",
        "int(1.1)"
      ],
      "execution_count": null,
      "outputs": [
        {
          "output_type": "execute_result",
          "data": {
            "text/plain": [
              "1"
            ]
          },
          "metadata": {
            "tags": []
          },
          "execution_count": 28
        }
      ]
    },
    {
      "cell_type": "markdown",
      "metadata": {
        "id": "YUgNJpwo4FQi"
      },
      "source": [
        "<h4>Converting from strings to integers or floats</h4>"
      ]
    },
    {
      "cell_type": "markdown",
      "metadata": {
        "id": "X7QkXXUl4FQi"
      },
      "source": [
        "<p>Sometimes, we can have a string that contains a number within it. If this is the case, we can cast that string that represents a number into an integer using <code>int()</code>:</p>"
      ]
    },
    {
      "cell_type": "code",
      "metadata": {
        "id": "seaWGUJ14FQj",
        "outputId": "57bba586-da2b-4e6d-e684-5d8eadc2cd09"
      },
      "source": [
        "# Convert a string into an integer\n",
        "\n",
        "int('1')"
      ],
      "execution_count": null,
      "outputs": [
        {
          "output_type": "execute_result",
          "data": {
            "text/plain": [
              "1"
            ]
          },
          "metadata": {
            "tags": []
          },
          "execution_count": 29
        }
      ]
    },
    {
      "cell_type": "markdown",
      "metadata": {
        "id": "1PAbqMG04FQk"
      },
      "source": [
        "<p>But if you try to do so with a string that is not a perfect match for a number, you'll get an error. Try the following:</p>"
      ]
    },
    {
      "cell_type": "code",
      "metadata": {
        "id": "l8okZ4LS4FQk",
        "outputId": "df86ea8d-ae6e-43a3-9782-9e1e21b9538b"
      },
      "source": [
        "# Convert a string into an integer with error\n",
        "\n",
        "int('1 or 2 people')"
      ],
      "execution_count": null,
      "outputs": [
        {
          "output_type": "error",
          "ename": "ValueError",
          "evalue": "invalid literal for int() with base 10: '1 or 2 people'",
          "traceback": [
            "\u001b[0;31m---------------------------------------------------------------------------\u001b[0m",
            "\u001b[0;31mValueError\u001b[0m                                Traceback (most recent call last)",
            "\u001b[0;32m<ipython-input-30-b78145d165c7>\u001b[0m in \u001b[0;36m<module>\u001b[0;34m\u001b[0m\n\u001b[1;32m      1\u001b[0m \u001b[0;31m# Convert a string into an integer with error\u001b[0m\u001b[0;34m\u001b[0m\u001b[0;34m\u001b[0m\u001b[0;34m\u001b[0m\u001b[0m\n\u001b[1;32m      2\u001b[0m \u001b[0;34m\u001b[0m\u001b[0m\n\u001b[0;32m----> 3\u001b[0;31m \u001b[0mint\u001b[0m\u001b[0;34m(\u001b[0m\u001b[0;34m'1 or 2 people'\u001b[0m\u001b[0;34m)\u001b[0m\u001b[0;34m\u001b[0m\u001b[0;34m\u001b[0m\u001b[0m\n\u001b[0m",
            "\u001b[0;31mValueError\u001b[0m: invalid literal for int() with base 10: '1 or 2 people'"
          ]
        }
      ]
    },
    {
      "cell_type": "markdown",
      "metadata": {
        "id": "q5GLO3dc4FQl"
      },
      "source": [
        "<p>You can also convert strings containing floating point numbers into <i>float</i> objects:</p>"
      ]
    },
    {
      "cell_type": "code",
      "metadata": {
        "id": "b-e-HYWm4FQm",
        "outputId": "b384fa1a-069c-4aeb-d32d-87b70401784b"
      },
      "source": [
        "# Convert the string \"1.2\" into a float\n",
        "\n",
        "float('1.2')"
      ],
      "execution_count": null,
      "outputs": [
        {
          "output_type": "execute_result",
          "data": {
            "text/plain": [
              "1.2"
            ]
          },
          "metadata": {
            "tags": []
          },
          "execution_count": 31
        }
      ]
    },
    {
      "cell_type": "markdown",
      "metadata": {
        "id": "nxCu3zhy4FQm"
      },
      "source": [
        "<hr/>\n",
        "<div class=\"alert alert-success alertsuccess\" style=\"margin-top: 20px\">\n",
        "    [Tip:] Note that strings can be represented with single quotes (<code>'1.2'</code>) or double quotes (<code>\"1.2\"</code>), but you can't mix both (e.g., <code>\"1.2'</code>).\n",
        "</div>\n",
        "<hr/>"
      ]
    },
    {
      "cell_type": "markdown",
      "metadata": {
        "id": "vaUQUYjR4FQn"
      },
      "source": [
        "<h4>Converting numbers to strings</h4>"
      ]
    },
    {
      "cell_type": "markdown",
      "metadata": {
        "id": "yBzzleV_4FQn"
      },
      "source": [
        "<p>If we can convert strings to numbers, it is only natural to assume that we can convert numbers to strings, right?</p>"
      ]
    },
    {
      "cell_type": "code",
      "metadata": {
        "id": "Q0eYrT-W4FQo",
        "outputId": "24d0bdfe-c4db-492e-82e6-f84be471f8f9",
        "colab": {
          "base_uri": "https://localhost:8080/",
          "height": 35
        }
      },
      "source": [
        "# Convert an integer to a string\n",
        "\n",
        "str(1)"
      ],
      "execution_count": null,
      "outputs": [
        {
          "output_type": "execute_result",
          "data": {
            "application/vnd.google.colaboratory.intrinsic+json": {
              "type": "string"
            },
            "text/plain": [
              "'1'"
            ]
          },
          "metadata": {},
          "execution_count": 18
        }
      ]
    },
    {
      "cell_type": "markdown",
      "metadata": {
        "id": "Dspk5nHL4FQp"
      },
      "source": [
        "<p>And there is no reason why we shouldn't be able to make floats into strings as well:</p> "
      ]
    },
    {
      "cell_type": "code",
      "metadata": {
        "id": "oHif6WQw4FQp",
        "outputId": "e9cc5b0e-c5ba-4761-fef2-0b1d3e7885ee"
      },
      "source": [
        "# Convert a float to a string\n",
        "\n",
        "str(1.2)"
      ],
      "execution_count": null,
      "outputs": [
        {
          "output_type": "execute_result",
          "data": {
            "text/plain": [
              "'1.2'"
            ]
          },
          "metadata": {
            "tags": []
          },
          "execution_count": 33
        }
      ]
    },
    {
      "cell_type": "markdown",
      "metadata": {
        "id": "abYzrvI24FQq"
      },
      "source": [
        "<h3 id=\"bool\">Boolean data type</h3>"
      ]
    },
    {
      "cell_type": "markdown",
      "metadata": {
        "id": "11iU0hf84FQr"
      },
      "source": [
        "<p><i>Boolean</i> is another important type in Python. An object of type <i>Boolean</i> can take on one of two values: <code>True</code> or <code>False</code>:</p>"
      ]
    },
    {
      "cell_type": "code",
      "metadata": {
        "id": "1WoLh0Ve4FQr",
        "outputId": "4d0db2c1-f856-4228-831d-b89cbfc85555"
      },
      "source": [
        "# Value true\n",
        "\n",
        "True"
      ],
      "execution_count": null,
      "outputs": [
        {
          "output_type": "execute_result",
          "data": {
            "text/plain": [
              "True"
            ]
          },
          "metadata": {
            "tags": []
          },
          "execution_count": 34
        }
      ]
    },
    {
      "cell_type": "markdown",
      "metadata": {
        "id": "uE-W8Joo4FQs"
      },
      "source": [
        "<p>Notice that the value <code>True</code> has an uppercase \"T\". The same is true for <code>False</code> (i.e. you must use the uppercase \"F\").</p>"
      ]
    },
    {
      "cell_type": "code",
      "metadata": {
        "id": "1akbA3iY4FQt",
        "outputId": "671ffc24-1b52-44b0-9f6c-c97e82560014"
      },
      "source": [
        "# Value false\n",
        "\n",
        "False"
      ],
      "execution_count": null,
      "outputs": [
        {
          "output_type": "execute_result",
          "data": {
            "text/plain": [
              "False"
            ]
          },
          "metadata": {
            "tags": []
          },
          "execution_count": 35
        }
      ]
    },
    {
      "cell_type": "markdown",
      "metadata": {
        "id": "e9cKHrW-4FQu"
      },
      "source": [
        "<p>When you ask Python to display the type of a boolean object it will show <code>bool</code> which stands for <i>boolean</i>:</p> "
      ]
    },
    {
      "cell_type": "code",
      "metadata": {
        "id": "TYQRAm834FQu",
        "outputId": "7bc12363-240d-486f-f4a5-3cff75eb54da"
      },
      "source": [
        "# Type of True\n",
        "\n",
        "type(True)"
      ],
      "execution_count": null,
      "outputs": [
        {
          "output_type": "execute_result",
          "data": {
            "text/plain": [
              "bool"
            ]
          },
          "metadata": {
            "tags": []
          },
          "execution_count": 36
        }
      ]
    },
    {
      "cell_type": "code",
      "metadata": {
        "id": "s1EUOqAI4FQv",
        "outputId": "949ea45c-3616-4feb-8fc1-51d162c943e1"
      },
      "source": [
        "# Type of False\n",
        "\n",
        "type(False)"
      ],
      "execution_count": null,
      "outputs": [
        {
          "output_type": "execute_result",
          "data": {
            "text/plain": [
              "bool"
            ]
          },
          "metadata": {
            "tags": []
          },
          "execution_count": 37
        }
      ]
    },
    {
      "cell_type": "markdown",
      "metadata": {
        "id": "O7-c-u654FQw"
      },
      "source": [
        "<p>We can cast boolean objects to other data types. If we cast a boolean with a value of <code>True</code> to an integer or float we will get a one. If we cast a boolean with a value of <code>False</code> to an integer or float we will get a zero. Similarly, if we cast a 1 to a Boolean, you get a <code>True</code>. And if we cast a 0 to a Boolean we will get a <code>False</code>. Let's give it a try:</p> "
      ]
    },
    {
      "cell_type": "code",
      "metadata": {
        "id": "vgWR2mGK4FQw",
        "outputId": "5a1fd49c-377a-48fb-a26d-f784bb4e3432"
      },
      "source": [
        "# Convert True to int\n",
        "\n",
        "int(True)"
      ],
      "execution_count": null,
      "outputs": [
        {
          "output_type": "execute_result",
          "data": {
            "text/plain": [
              "1"
            ]
          },
          "metadata": {
            "tags": []
          },
          "execution_count": 38
        }
      ]
    },
    {
      "cell_type": "code",
      "metadata": {
        "id": "oSeV0vnX4FQy",
        "outputId": "36ffc340-c3ea-4881-fd91-a587e3a25e6b"
      },
      "source": [
        "# Convert 1 to boolean\n",
        "\n",
        "bool(1)"
      ],
      "execution_count": null,
      "outputs": [
        {
          "output_type": "execute_result",
          "data": {
            "text/plain": [
              "True"
            ]
          },
          "metadata": {
            "tags": []
          },
          "execution_count": 39
        }
      ]
    },
    {
      "cell_type": "code",
      "metadata": {
        "id": "TBl_dlRq4FQz",
        "outputId": "a883cf10-ec61-4634-c996-491fa83be87f"
      },
      "source": [
        "# Convert 0 to boolean\n",
        "\n",
        "bool(0)"
      ],
      "execution_count": null,
      "outputs": [
        {
          "output_type": "execute_result",
          "data": {
            "text/plain": [
              "False"
            ]
          },
          "metadata": {
            "tags": []
          },
          "execution_count": 40
        }
      ]
    },
    {
      "cell_type": "code",
      "metadata": {
        "id": "MIP-uXhq4FQ7",
        "outputId": "5b0e6afd-1c39-49de-9d04-2b8e8e397ed5"
      },
      "source": [
        "# Convert True to float\n",
        "\n",
        "float(True)"
      ],
      "execution_count": null,
      "outputs": [
        {
          "output_type": "execute_result",
          "data": {
            "text/plain": [
              "1.0"
            ]
          },
          "metadata": {
            "tags": []
          },
          "execution_count": 41
        }
      ]
    },
    {
      "cell_type": "markdown",
      "metadata": {
        "id": "RpCueCyj4FQ8"
      },
      "source": [
        "<h3 id=\"exer_type\">Exercise: Types</h3>"
      ]
    },
    {
      "cell_type": "markdown",
      "metadata": {
        "id": "w81AjrNE4FQ9"
      },
      "source": [
        "<p>What is the data type of the result of: <code>6 / 2</code>?</p>"
      ]
    },
    {
      "cell_type": "code",
      "metadata": {
        "id": "0yPbQ6Ah4FQ9"
      },
      "source": [
        "# Write your code below. Don't forget to press Shift+Enter to execute the cell"
      ],
      "execution_count": null,
      "outputs": []
    },
    {
      "cell_type": "code",
      "metadata": {
        "id": "-cPHG0ke4FQ-",
        "outputId": "4c482140-b79b-4e14-e67b-ddd891e5be0d",
        "colab": {
          "base_uri": "https://localhost:8080/"
        }
      },
      "source": [
        "e = 6/2\n",
        "type(e)"
      ],
      "execution_count": null,
      "outputs": [
        {
          "output_type": "execute_result",
          "data": {
            "text/plain": [
              "float"
            ]
          },
          "metadata": {},
          "execution_count": 19
        }
      ]
    },
    {
      "cell_type": "markdown",
      "metadata": {
        "id": "2Om39UYw4FQ_"
      },
      "source": [
        "Double-click __here__ for the solution.\n",
        "\n",
        "<!-- Your answer is below:\n",
        "type(6/2) # float\n",
        "-->"
      ]
    },
    {
      "cell_type": "markdown",
      "metadata": {
        "id": "wOvPK8WN4FRA"
      },
      "source": [
        "<p>What is the type of the result of: <code>6 // 2</code>? (Note the double slash <code>//</code>.)</p>"
      ]
    },
    {
      "cell_type": "code",
      "metadata": {
        "id": "1Hzobx5c4FRB"
      },
      "source": [
        "# Write your code below. Don't forget to press Shift+Enter to execute the cell"
      ],
      "execution_count": null,
      "outputs": []
    },
    {
      "cell_type": "code",
      "metadata": {
        "id": "v3FfxC9B4FRD",
        "outputId": "fffa9ac6-14ac-4ec3-9dcb-fab3796cd7a8",
        "colab": {
          "base_uri": "https://localhost:8080/"
        }
      },
      "source": [
        "f = 6//2\n",
        "print (\"Quotient is\", f)\n",
        "type(f)"
      ],
      "execution_count": null,
      "outputs": [
        {
          "output_type": "stream",
          "name": "stdout",
          "text": [
            "Quotient is 3\n"
          ]
        },
        {
          "output_type": "execute_result",
          "data": {
            "text/plain": [
              "int"
            ]
          },
          "metadata": {},
          "execution_count": 25
        }
      ]
    },
    {
      "cell_type": "code",
      "source": [
        "f = 6%2\n",
        "print (\"Remaninder is\", f)\n",
        "type (f)"
      ],
      "metadata": {
        "colab": {
          "base_uri": "https://localhost:8080/"
        },
        "id": "ARboHjya9-Eq",
        "outputId": "7f5b005f-7a64-40d1-ac5a-c20e8c3949ed"
      },
      "execution_count": null,
      "outputs": [
        {
          "output_type": "stream",
          "name": "stdout",
          "text": [
            "Remaninder is 0\n"
          ]
        },
        {
          "output_type": "execute_result",
          "data": {
            "text/plain": [
              "int"
            ]
          },
          "metadata": {},
          "execution_count": 26
        }
      ]
    },
    {
      "cell_type": "markdown",
      "metadata": {
        "id": "dRpnYoPJ4FRF"
      },
      "source": [
        "Double-click __here__ for the solution.\n",
        "\n",
        "<!-- Your answer is below:\n",
        "type(6//2) # int, as the double slashes stand for integer division \n",
        "-->"
      ]
    },
    {
      "cell_type": "markdown",
      "metadata": {
        "id": "BtQouPbR4FRF"
      },
      "source": [
        "<hr>"
      ]
    },
    {
      "cell_type": "markdown",
      "metadata": {
        "id": "9taHp7-q4FRG"
      },
      "source": [
        "<h2 id=\"expressions\">Expression and Variables</h2>"
      ]
    },
    {
      "cell_type": "markdown",
      "metadata": {
        "id": "B38za-qe4FRH"
      },
      "source": [
        "<h3 id=\"exp\">Expressions</h3>"
      ]
    },
    {
      "cell_type": "markdown",
      "metadata": {
        "id": "75ul9AnU4FRH"
      },
      "source": [
        "<p>Expressions in Python can include operations among compatible types (e.g., integers and floats). For example, basic arithmetic operations like adding multiple numbers:</p>"
      ]
    },
    {
      "cell_type": "code",
      "metadata": {
        "id": "7ACAaiDQ4FRI",
        "outputId": "dc5dd15c-b12e-4511-e7dd-e0d8d892c484"
      },
      "source": [
        "# Addition operation expression\n",
        "\n",
        "43 + 60 + 16 + 41"
      ],
      "execution_count": null,
      "outputs": [
        {
          "output_type": "execute_result",
          "data": {
            "text/plain": [
              "160"
            ]
          },
          "metadata": {
            "tags": []
          },
          "execution_count": 44
        }
      ]
    },
    {
      "cell_type": "markdown",
      "metadata": {
        "id": "D2VdJXNC4FRJ"
      },
      "source": [
        "<p>We can perform subtraction operations using the minus operator. In this case the result is a negative number:</p>"
      ]
    },
    {
      "cell_type": "code",
      "metadata": {
        "id": "-HtrF4to4FRJ",
        "outputId": "4a938ac6-805c-4b3d-ad24-7684bb4bc4fd"
      },
      "source": [
        "# Subtraction operation expression\n",
        "\n",
        "50 - 60"
      ],
      "execution_count": null,
      "outputs": [
        {
          "output_type": "execute_result",
          "data": {
            "text/plain": [
              "-10"
            ]
          },
          "metadata": {
            "tags": []
          },
          "execution_count": 45
        }
      ]
    },
    {
      "cell_type": "markdown",
      "metadata": {
        "id": "1gkj6ZD84FRK"
      },
      "source": [
        "<p>We can do multiplication using an asterisk:</p>"
      ]
    },
    {
      "cell_type": "code",
      "metadata": {
        "id": "WlZXtwNz4FRL",
        "outputId": "91be76aa-405a-4d76-a5ea-3355f8969705"
      },
      "source": [
        "# Multiplication operation expression\n",
        "\n",
        "5 * 5"
      ],
      "execution_count": null,
      "outputs": [
        {
          "output_type": "execute_result",
          "data": {
            "text/plain": [
              "25"
            ]
          },
          "metadata": {
            "tags": []
          },
          "execution_count": 46
        }
      ]
    },
    {
      "cell_type": "markdown",
      "metadata": {
        "id": "FOh3NbjJ4FRM"
      },
      "source": [
        "<p>We can also perform division with the forward slash:"
      ]
    },
    {
      "cell_type": "code",
      "metadata": {
        "id": "Gh6aBAnN4FRN",
        "outputId": "5a084858-5a3f-4d10-ee24-deec7e72a688"
      },
      "source": [
        "# Division operation expression\n",
        "\n",
        "25 / 5"
      ],
      "execution_count": null,
      "outputs": [
        {
          "output_type": "execute_result",
          "data": {
            "text/plain": [
              "5.0"
            ]
          },
          "metadata": {
            "tags": []
          },
          "execution_count": 47
        }
      ]
    },
    {
      "cell_type": "code",
      "metadata": {
        "id": "W6NlJ7MC4FRN",
        "outputId": "dc59d3a0-e831-4303-c756-59fbb8b1a86a"
      },
      "source": [
        "# Division operation expression\n",
        "\n",
        "25 / 6"
      ],
      "execution_count": null,
      "outputs": [
        {
          "output_type": "execute_result",
          "data": {
            "text/plain": [
              "4.166666666666667"
            ]
          },
          "metadata": {
            "tags": []
          },
          "execution_count": 48
        }
      ]
    },
    {
      "cell_type": "markdown",
      "metadata": {
        "id": "CE8pXSJx4FRP"
      },
      "source": [
        "<p>As seen in the quiz above, we can use the double slash for integer division, where the result is rounded to the nearest integer:"
      ]
    },
    {
      "cell_type": "code",
      "metadata": {
        "id": "gV-gddVG4FRQ",
        "outputId": "ccfa13e4-5a9d-415b-f658-23fd6b306f85"
      },
      "source": [
        "# Integer division operation expression\n",
        "\n",
        "25 // 5"
      ],
      "execution_count": null,
      "outputs": [
        {
          "output_type": "execute_result",
          "data": {
            "text/plain": [
              "5"
            ]
          },
          "metadata": {
            "tags": []
          },
          "execution_count": 49
        }
      ]
    },
    {
      "cell_type": "code",
      "metadata": {
        "id": "hiEo5c0T4FRQ",
        "outputId": "272c0d60-1cc9-41f5-a3fe-94f414a67712"
      },
      "source": [
        "# Integer division operation expression\n",
        "\n",
        "25 // 6"
      ],
      "execution_count": null,
      "outputs": [
        {
          "output_type": "execute_result",
          "data": {
            "text/plain": [
              "4"
            ]
          },
          "metadata": {
            "tags": []
          },
          "execution_count": 50
        }
      ]
    },
    {
      "cell_type": "markdown",
      "metadata": {
        "id": "xENdyk0R4FRR"
      },
      "source": [
        "<h3 id=\"exer_exp\">Exercise: Expression</h3>"
      ]
    },
    {
      "cell_type": "markdown",
      "metadata": {
        "id": "Rz00_M0f4FRS"
      },
      "source": [
        "<p>Let's write an expression that calculates how many hours there are in 160 minutes:"
      ]
    },
    {
      "cell_type": "code",
      "metadata": {
        "id": "rC7ZWS0-4FRT"
      },
      "source": [
        "# Write your code below. Don't forget to press Shift+Enter to execute the cell"
      ],
      "execution_count": null,
      "outputs": []
    },
    {
      "cell_type": "code",
      "metadata": {
        "id": "2OoSNF7n4FRU",
        "outputId": "559ea0c8-55cd-477a-8b5a-4a79014a9b58"
      },
      "source": [
        "total_min = 160 \n",
        "total_hr = total_min/60\n",
        "total_hr"
      ],
      "execution_count": null,
      "outputs": [
        {
          "output_type": "execute_result",
          "data": {
            "text/plain": [
              "2.6666666666666665"
            ]
          },
          "metadata": {
            "tags": []
          },
          "execution_count": 52
        }
      ]
    },
    {
      "cell_type": "markdown",
      "metadata": {
        "id": "IANb2na14FRV"
      },
      "source": [
        "Double-click __here__ for the solution.\n",
        "\n",
        "<!-- Your answer is below:\n",
        "160/60 \n",
        "# Or \n",
        "160//60\n",
        "-->"
      ]
    },
    {
      "cell_type": "markdown",
      "metadata": {
        "id": "IjsmgNv54FRV"
      },
      "source": [
        "<p>Python follows well accepted mathematical conventions when evaluating mathematical expressions. In the following example, Python adds 30 to the result of the multiplication (i.e., 120)."
      ]
    },
    {
      "cell_type": "code",
      "metadata": {
        "id": "yc0joUSe4FRW",
        "outputId": "31ce5eec-f1a0-4378-b8b0-ae05a161c96a"
      },
      "source": [
        "# Mathematical expression\n",
        "\n",
        "30 + 2 * 60"
      ],
      "execution_count": null,
      "outputs": [
        {
          "output_type": "execute_result",
          "data": {
            "text/plain": [
              "150"
            ]
          },
          "metadata": {
            "tags": []
          },
          "execution_count": 53
        }
      ]
    },
    {
      "cell_type": "markdown",
      "metadata": {
        "id": "0IxDEltQ4FRW"
      },
      "source": [
        "<p>And just like mathematics, expressions enclosed in parentheses have priority. So the following multiplies 32 by 60."
      ]
    },
    {
      "cell_type": "code",
      "metadata": {
        "id": "acZPx06_4FRX",
        "outputId": "aa647f2c-08a6-4435-fe67-ecac22bfc4d4"
      },
      "source": [
        "# Mathematical expression\n",
        "\n",
        "(30 + 2) * 60"
      ],
      "execution_count": null,
      "outputs": [
        {
          "output_type": "execute_result",
          "data": {
            "text/plain": [
              "1920"
            ]
          },
          "metadata": {
            "tags": []
          },
          "execution_count": 54
        }
      ]
    },
    {
      "cell_type": "markdown",
      "metadata": {
        "id": "IEYHFo6r4FRY"
      },
      "source": [
        "<h3 id=\"var\">Variables</h3>"
      ]
    },
    {
      "cell_type": "markdown",
      "metadata": {
        "id": "Ki3RtwAS4FRY"
      },
      "source": [
        "<p>Just like with most programming languages, we can store values in <i>variables</i>, so we can use them later on. For example:</p>"
      ]
    },
    {
      "cell_type": "code",
      "metadata": {
        "id": "-TRSDlGP4FRZ"
      },
      "source": [
        "# Store value into variable\n",
        "\n",
        "x = 43 + 60 + 16 + 41"
      ],
      "execution_count": null,
      "outputs": []
    },
    {
      "cell_type": "markdown",
      "metadata": {
        "id": "g_BSinw34FRZ"
      },
      "source": [
        "<p>To see the value of <code>x</code> in a Notebook, we can simply place it on the last line of a cell:</p>"
      ]
    },
    {
      "cell_type": "code",
      "metadata": {
        "id": "iLGHt5vR4FRa",
        "outputId": "de56cc90-a29a-4fd2-b57e-4574fa0ad6b2"
      },
      "source": [
        "# Print out the value in variable\n",
        "\n",
        "x"
      ],
      "execution_count": null,
      "outputs": [
        {
          "output_type": "execute_result",
          "data": {
            "text/plain": [
              "160"
            ]
          },
          "metadata": {
            "tags": []
          },
          "execution_count": 56
        }
      ]
    },
    {
      "cell_type": "markdown",
      "metadata": {
        "id": "oVc0D7M84FRb"
      },
      "source": [
        "<p>We can also perform operations on <code>x</code> and save the result to a new variable:</p>"
      ]
    },
    {
      "cell_type": "code",
      "metadata": {
        "id": "Qm9jWaiK4FRb",
        "outputId": "74d215ba-5f04-4459-defd-e6d0c52c499f"
      },
      "source": [
        "# Use another variable to store the result of the operation between variable and value\n",
        "\n",
        "y = x / 60\n",
        "y"
      ],
      "execution_count": null,
      "outputs": [
        {
          "output_type": "execute_result",
          "data": {
            "text/plain": [
              "2.6666666666666665"
            ]
          },
          "metadata": {
            "tags": []
          },
          "execution_count": 57
        }
      ]
    },
    {
      "cell_type": "markdown",
      "metadata": {
        "id": "tkVP4lVa4FRc"
      },
      "source": [
        "<p>If we save a value to an existing variable, the new value will overwrite the previous value:</p>"
      ]
    },
    {
      "cell_type": "code",
      "metadata": {
        "id": "Li5wQAoX4FRc",
        "outputId": "51905c60-79a0-4c9b-df90-a3eb1c2668a5"
      },
      "source": [
        "# Overwrite variable with new value\n",
        "\n",
        "x = x / 60\n",
        "x"
      ],
      "execution_count": null,
      "outputs": [
        {
          "output_type": "execute_result",
          "data": {
            "text/plain": [
              "2.6666666666666665"
            ]
          },
          "metadata": {
            "tags": []
          },
          "execution_count": 58
        }
      ]
    },
    {
      "cell_type": "markdown",
      "metadata": {
        "id": "1yx-JhCo4FRd"
      },
      "source": [
        "<p>It's a good practice to use meaningful variable names, so you and others can read the code and understand it more easily:</p>"
      ]
    },
    {
      "cell_type": "code",
      "metadata": {
        "id": "9jGw7EYq4FRe",
        "outputId": "7e902cf4-e7c7-485c-c39c-9351596fdd0e"
      },
      "source": [
        "# Name the variables meaningfully\n",
        "\n",
        "total_min = 43 + 42 + 57 # Total length of albums in minutes\n",
        "total_min"
      ],
      "execution_count": null,
      "outputs": [
        {
          "output_type": "execute_result",
          "data": {
            "text/plain": [
              "142"
            ]
          },
          "metadata": {
            "tags": []
          },
          "execution_count": 59
        }
      ]
    },
    {
      "cell_type": "code",
      "metadata": {
        "id": "fJeNU2Rx4FRf",
        "outputId": "a1c9e5ef-2c13-4976-a208-84af30dff1c9"
      },
      "source": [
        "# Name the variables meaningfully\n",
        "\n",
        "total_hours = total_min / 60 # Total length of albums in hours \n",
        "total_hours"
      ],
      "execution_count": null,
      "outputs": [
        {
          "output_type": "execute_result",
          "data": {
            "text/plain": [
              "2.3666666666666667"
            ]
          },
          "metadata": {
            "tags": []
          },
          "execution_count": 60
        }
      ]
    },
    {
      "cell_type": "markdown",
      "metadata": {
        "id": "HC8sJ44G4FRg"
      },
      "source": [
        "<p>In the cells above we added the length of three albums in minutes and stored it in <code>total_min</code>. We then divided it by 60 to calculate total length <code>total_hours</code> in hours. You can also do it all at once in a single expression, as long as you use parenthesis to add the albums length before you divide, as shown below.</p>"
      ]
    },
    {
      "cell_type": "code",
      "metadata": {
        "id": "G4vkEAhK4FRg",
        "outputId": "50ea3e95-1d3e-4a98-e187-1611b6d9c199"
      },
      "source": [
        "# Complicate expression\n",
        "\n",
        "total_hours = (43 + 42 + 57) / 60  # Total hours in a single expression\n",
        "total_hours"
      ],
      "execution_count": null,
      "outputs": [
        {
          "output_type": "execute_result",
          "data": {
            "text/plain": [
              "2.3666666666666667"
            ]
          },
          "metadata": {
            "tags": []
          },
          "execution_count": 61
        }
      ]
    },
    {
      "cell_type": "markdown",
      "metadata": {
        "id": "bpTXwn0-4FRi"
      },
      "source": [
        "<p>If you'd rather have total hours as an integer, you can of course replace the floating point division with integer division (i.e., <code>//</code>).</p>"
      ]
    },
    {
      "cell_type": "markdown",
      "metadata": {
        "id": "XlBS9R834FRi"
      },
      "source": [
        "<h3 id=\"exer_exp_var\">Exercise: Expression and Variables in Python</h3>"
      ]
    },
    {
      "cell_type": "markdown",
      "metadata": {
        "id": "ObyuJ2Xu4FRk"
      },
      "source": [
        "<p>What is the value of <code>x</code> where <code>x = 3 + 2 * 2</code></p>"
      ]
    },
    {
      "cell_type": "code",
      "metadata": {
        "id": "HkfSKwZ_4FRl"
      },
      "source": [
        "# Write your code below. Don't forget to press Shift+Enter to execute the cell"
      ],
      "execution_count": null,
      "outputs": []
    },
    {
      "cell_type": "code",
      "metadata": {
        "id": "2fivdJG54FRl",
        "outputId": "a6375012-46eb-4a81-c4ee-f71a9159b8f3"
      },
      "source": [
        "x = 3 + 2 * 2\n",
        "x"
      ],
      "execution_count": null,
      "outputs": [
        {
          "output_type": "execute_result",
          "data": {
            "text/plain": [
              "7"
            ]
          },
          "metadata": {
            "tags": []
          },
          "execution_count": 63
        }
      ]
    },
    {
      "cell_type": "markdown",
      "metadata": {
        "id": "FI7i1FSk4FRn"
      },
      "source": [
        "Double-click __here__ for the solution.\n",
        "\n",
        "<!-- Your answer is below:\n",
        "7\n",
        "-->\n"
      ]
    },
    {
      "cell_type": "markdown",
      "metadata": {
        "id": "1Xrto9mj4FRo"
      },
      "source": [
        "<p>What is the value of <code>y</code> where <code>y = (3 + 2) * 2</code>?</p>"
      ]
    },
    {
      "cell_type": "code",
      "metadata": {
        "id": "lOJgEAmC4FRp"
      },
      "source": [
        "# Write your code below. Don't forget to press Shift+Enter to execute the cell"
      ],
      "execution_count": null,
      "outputs": []
    },
    {
      "cell_type": "code",
      "metadata": {
        "id": "XtJPmu7G4FRp",
        "outputId": "e4175924-861b-4219-ccb2-b037de6ba5e1"
      },
      "source": [
        "y = (3 + 2) * 2\n",
        "y"
      ],
      "execution_count": null,
      "outputs": [
        {
          "output_type": "execute_result",
          "data": {
            "text/plain": [
              "10"
            ]
          },
          "metadata": {
            "tags": []
          },
          "execution_count": 64
        }
      ]
    },
    {
      "cell_type": "markdown",
      "metadata": {
        "id": "ZS442qBX4FRq"
      },
      "source": [
        "Double-click __here__ for the solution.\n",
        "\n",
        "<!-- Your answer is below:\n",
        "10\n",
        "-->"
      ]
    },
    {
      "cell_type": "markdown",
      "metadata": {
        "id": "O_fSp02Z4FRr"
      },
      "source": [
        "<p>What is the value of <code>z</code> where <code>z = x + y</code>?</p>"
      ]
    },
    {
      "cell_type": "code",
      "metadata": {
        "id": "X_1c0ArG4FRr"
      },
      "source": [
        "# Write your code below. Don't forget to press Shift+Enter to execute the cell"
      ],
      "execution_count": null,
      "outputs": []
    },
    {
      "cell_type": "code",
      "metadata": {
        "id": "LxWU8f4C4FRs",
        "outputId": "f48603e2-7bfc-444a-8d0e-9dc246137ef8"
      },
      "source": [
        "z = x + y\n",
        "z"
      ],
      "execution_count": null,
      "outputs": [
        {
          "output_type": "execute_result",
          "data": {
            "text/plain": [
              "17"
            ]
          },
          "metadata": {
            "tags": []
          },
          "execution_count": 65
        }
      ]
    },
    {
      "cell_type": "markdown",
      "source": [
        "What are Strings?\n",
        "The following example shows a string contained within 2 quotation marks:"
      ],
      "metadata": {
        "id": "yNgfUk_3Es3m"
      }
    },
    {
      "cell_type": "code",
      "source": [
        "# Use quotation marks for defining string\n",
        "\n",
        "\"Sai Ram\""
      ],
      "metadata": {
        "colab": {
          "base_uri": "https://localhost:8080/",
          "height": 35
        },
        "id": "YrAq_HTDEzlm",
        "outputId": "3b561119-83d8-43d2-e81a-e88ae0849cff"
      },
      "execution_count": null,
      "outputs": [
        {
          "output_type": "execute_result",
          "data": {
            "application/vnd.google.colaboratory.intrinsic+json": {
              "type": "string"
            },
            "text/plain": [
              "'Sai Ram'"
            ]
          },
          "metadata": {},
          "execution_count": 1
        }
      ]
    },
    {
      "cell_type": "markdown",
      "source": [
        "![image.png](data:image/png;base64,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)"
      ],
      "metadata": {
        "id": "6XEbe0yZFhc2"
      }
    },
    {
      "cell_type": "code",
      "source": [
        "# Print the first element in the string\n",
        "Name = \"Michael Jackson\"\n",
        "Name\n",
        "\n",
        "print(Name[0])"
      ],
      "metadata": {
        "colab": {
          "base_uri": "https://localhost:8080/"
        },
        "id": "bPVAkYr4FqCw",
        "outputId": "b3633be0-93ce-416a-c0c0-26d58b42a83e"
      },
      "execution_count": null,
      "outputs": [
        {
          "output_type": "stream",
          "name": "stdout",
          "text": [
            "M\n"
          ]
        }
      ]
    },
    {
      "cell_type": "code",
      "source": [
        "# Print the element on index 6 in the string"
      ],
      "metadata": {
        "id": "j2dsXlJ7FzgA"
      },
      "execution_count": null,
      "outputs": []
    },
    {
      "cell_type": "markdown",
      "source": [
        "Negative Indexing\n",
        "We can also use negative indexing with strings:![image.png](data:image/png;base64,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)"
      ],
      "metadata": {
        "id": "5bpUMORcF_fM"
      }
    },
    {
      "cell_type": "code",
      "source": [
        "# Print the last element in the string\n",
        "\n",
        "print(Name[-1])"
      ],
      "metadata": {
        "id": "wmOHzODdGUvx"
      },
      "execution_count": null,
      "outputs": []
    },
    {
      "cell_type": "code",
      "source": [
        "# Find the length of string\n",
        "\n",
        "len(\"Michael Jackson\")"
      ],
      "metadata": {
        "id": "PDzx0SQiGcPc"
      },
      "execution_count": null,
      "outputs": []
    },
    {
      "cell_type": "code",
      "source": [
        "# Take the slice on variable Name with only index 0 to index 3\n",
        "\n",
        "Name[0:4]"
      ],
      "metadata": {
        "id": "NpjF9j10GdsT"
      },
      "execution_count": null,
      "outputs": []
    },
    {
      "cell_type": "code",
      "source": [
        "# Take the slice on variable Name with only index 8 to index 11\n",
        "\n",
        "Name[8:12]"
      ],
      "metadata": {
        "id": "rnLABUQ8GiCL"
      },
      "execution_count": null,
      "outputs": []
    },
    {
      "cell_type": "code",
      "source": [
        "# Get every second element. The elments on index 1, 3, 5 ...\n",
        "\n",
        "Name[::2]"
      ],
      "metadata": {
        "id": "7fOFHGUfGpKS"
      },
      "execution_count": null,
      "outputs": []
    },
    {
      "cell_type": "code",
      "source": [
        "# Get every second element in the range from index 0 to index 4\n",
        "\n",
        "Name[0:5:2]"
      ],
      "metadata": {
        "id": "wNEZnClSGs2P"
      },
      "execution_count": null,
      "outputs": []
    },
    {
      "cell_type": "code",
      "source": [
        "# Concatenate two strings\n",
        "\n",
        "Statement = Name + \"is the best\"\n",
        "Statement"
      ],
      "metadata": {
        "colab": {
          "base_uri": "https://localhost:8080/",
          "height": 35
        },
        "id": "kNsAW2daGzHx",
        "outputId": "8a02a335-80b3-4aab-8616-9e0be0a80c14"
      },
      "execution_count": null,
      "outputs": [
        {
          "output_type": "execute_result",
          "data": {
            "application/vnd.google.colaboratory.intrinsic+json": {
              "type": "string"
            },
            "text/plain": [
              "'Michael Jacksonis the best'"
            ]
          },
          "metadata": {},
          "execution_count": 3
        }
      ]
    },
    {
      "cell_type": "code",
      "source": [
        "# Find out an area of a triangle whose base is 15 meter and height is 22 meter. The mathematical equation for an area of a triangle is: Area = ½*Base*Height\n",
        "b = int(15)\n",
        "h = int(22)\n",
        "area = (1/2*b*h)\n",
        "print(area)"
      ],
      "metadata": {
        "id": "7sQBHbF_HDV2",
        "colab": {
          "base_uri": "https://localhost:8080/"
        },
        "outputId": "d50fa14d-411a-4fd2-8000-bdf0a7735148"
      },
      "execution_count": null,
      "outputs": [
        {
          "output_type": "stream",
          "name": "stdout",
          "text": [
            "165.0\n"
          ]
        }
      ]
    },
    {
      "cell_type": "markdown",
      "source": [
        "Create a string variable to store this text \"Earth revolves around the sun\",\n",
        "    (a) Print substring “revolves” \n",
        "    (b) Print substring “sun” using negative index"
      ],
      "metadata": {
        "id": "R5AzxsjiHPfi"
      }
    },
    {
      "cell_type": "code",
      "source": [
        "a= \"The earth revolves around the sun\"\n",
        "print (\"revolves\")\n",
        "print (a[-3],a[-2],a[-1])\n",
        "print(a[10:18])"
      ],
      "metadata": {
        "colab": {
          "base_uri": "https://localhost:8080/"
        },
        "id": "X4-DfVTX5OcO",
        "outputId": "2cf72be6-ebc5-4e70-ec8a-fc6b45c51b96"
      },
      "execution_count": null,
      "outputs": [
        {
          "output_type": "stream",
          "name": "stdout",
          "text": [
            "revolves\n",
            "s u n\n",
            "revolves\n"
          ]
        }
      ]
    },
    {
      "cell_type": "markdown",
      "source": [
        "(3) Create three string variables with values “I love eating“, “veggies”, “fruits” \n",
        "    (a) Print “I love eating veggies and fruits” (Hint: Use + operator)\n",
        "(b) Create fourth variable to store number of fruits you eat everyday. Say for example you eat 2 fruits everyday, in that case print “I love eating 2 fruits everyday”"
      ],
      "metadata": {
        "id": "FRNRGibDHYrW"
      }
    },
    {
      "cell_type": "code",
      "source": [
        "action = \"I love eating \"\n",
        "raw = \"fruits \"\n",
        "cooked = \"veggies\"\n",
        "number = \"2 \"\n",
        "print (action + raw +\"and \"+ cooked)\n",
        "print(action + number + raw+ \"everyday\")\n"
      ],
      "metadata": {
        "colab": {
          "base_uri": "https://localhost:8080/"
        },
        "id": "-SZH27s06OKR",
        "outputId": "2ad3c59b-1abf-4438-e3d4-d8446d6769cb"
      },
      "execution_count": null,
      "outputs": [
        {
          "output_type": "stream",
          "name": "stdout",
          "text": [
            "I love eating fruits and veggies\n",
            "I love eating 2 fruits everyday\n"
          ]
        }
      ]
    }
  ]
}