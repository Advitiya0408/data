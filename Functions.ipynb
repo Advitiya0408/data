{
  "nbformat": 4,
  "nbformat_minor": 0,
  "metadata": {
    "colab": {
      "name": "Functions.ipynb",
      "provenance": [],
      "collapsed_sections": [],
      "mount_file_id": "1awcFcQPu-NPGQiYWuwGZtmE9UCv-7Mmx",
      "authorship_tag": "ABX9TyOJhrb4rx5nhSdnhXy+4AZP",
      "include_colab_link": true
    },
    "kernelspec": {
      "name": "python3",
      "display_name": "Python 3"
    },
    "language_info": {
      "name": "python"
    }
  },
  "cells": [
    {
      "cell_type": "markdown",
      "metadata": {
        "id": "view-in-github",
        "colab_type": "text"
      },
      "source": [
        "<a href=\"https://colab.research.google.com/github/Advitiya0408/data/blob/main/Functions.ipynb\" target=\"_parent\"><img src=\"https://colab.research.google.com/assets/colab-badge.svg\" alt=\"Open In Colab\"/></a>"
      ]
    },
    {
      "cell_type": "code",
      "execution_count": null,
      "metadata": {
        "id": "1Ou-CF80Xf8A",
        "colab": {
          "base_uri": "https://localhost:8080/"
        },
        "outputId": "786342f1-7951-4e95-f8cd-299c4c963d29"
      },
      "outputs": [
        {
          "output_type": "stream",
          "name": "stdout",
          "text": [
            "Welcome, Akshay Kumar\n",
            "Python was created by Guido Van Rossum, Akshay Kumar\n",
            "He was inspired by Monty Python's flying circus, Akshay Kumar\n",
            " \n",
            "Welcome, Mukesh\n",
            "Python was created by Guido Van Rossum, Mukesh\n",
            "He was inspired by Monty Python's flying circus, Mukesh\n",
            " \n",
            "Welcome, Rahul Dravid\n",
            "Python was created by Guido Van Rossum, Rahul Dravid\n",
            "He was inspired by Monty Python's flying circus, Rahul Dravid\n",
            " \n",
            "Welcome, Ram Charan\n",
            "Python was created by Guido Van Rossum, Ram Charan\n",
            "He was inspired by Monty Python's flying circus, Ram Charan\n",
            " \n"
          ]
        }
      ],
      "source": [
        "def greeter(students): # Define a function  \n",
        "  for student in students:\n",
        "    \n",
        "    print(\"Welcome, \" + student.title())\n",
        "    print(\"Python was created by Guido Van Rossum, \" + student.title())  #} messeges for students\n",
        "    print(\"He was inspired by Monty Python's flying circus, \" + student.title())\n",
        "    print (\" \")\n",
        "\n",
        "students = [\"Ram Charan\",\"Mukesh\", \"Rahul Dravid\", \"Akshay Kumar\" ]    #(List of people in all films )\n",
        "students.sort()\n",
        "greeter(students)\n"
      ]
    },
    {
      "cell_type": "code",
      "source": [
        "def greeter(students):\n",
        "  for student in students:\n",
        "    print(\"Welcome, \" + student.title() + \" !\")\n",
        "    print(\"Python was created by Guido Van Rossum,  \" + student.title() + \" !\") \n",
        "    print(\"He was inspired by Monty Python's flying circus, \" + student.title() + \" !\")\n",
        "    print (\" \")\n",
        "\n",
        "\n",
        "students = [\"Ram Charan\",\"Mukesh\", \"Rahul\", \"Akshay\" ]    \n",
        "students.sort(reverse = True)\n",
        "greeter(students)"
      ],
      "metadata": {
        "id": "iD2_sTci9l3o"
      },
      "execution_count": null,
      "outputs": []
    },
    {
      "cell_type": "code",
      "source": [
        "work = ['programmer', 'teacher', 'actor', 'auto driver']\n",
        "print(work[0])\n",
        "print(work[1])\n",
        "print(work[2])\n",
        "print(work[3])\n",
        "print(\" \")\n",
        "for energy in work:\n",
        "  print(energy)\n",
        "print(\" \")\n",
        "\n",
        "work.append('singer')\n",
        "for item in work:\n",
        "  print(item)\n",
        "print(len(work))\n",
        "print(\" \")\n",
        "\n",
        "print ('actor' in work)\n",
        "print ('Dancer' in work)\n",
        "print(\" \")\n",
        "work.insert(2,'accountant' )\n",
        "print(work[0])\n",
        "print(work[1])\n",
        "print(work[2])\n",
        "print(work[3])\n",
        "print(work[4])\n",
        "print(work[5])\n",
        "print(\" \")\n",
        "for item in work:\n",
        "  print(item)\n",
        "print (\" \")\n",
        "a = str(work.index('actor'))\n",
        "print(a)\n",
        "print(\" \")  \n",
        "work.sort()\n",
        "for job in work:\n",
        "  print(job.title())\n",
        "print(\" \")\n",
        "work.sort(reverse = True)\n",
        "for slice in work:\n",
        "  print(slice.title())\n",
        "print(\" \") \n",
        "work.reverse()\n",
        "for item in work:\n",
        "  print(item.title())\n",
        "print(\" \")\n",
        "\n",
        "for item in sorted(work):\n",
        "  print(item.title())\n",
        "print(\" \")     \n",
        "for item in sorted(work, reverse = True):\n",
        "  print(item.title())\n",
        "print(\" \")   "
      ],
      "metadata": {
        "id": "-peF_69p-3Ib"
      },
      "execution_count": null,
      "outputs": []
    },
    {
      "cell_type": "code",
      "source": [
        "work = ['programmer', 'teacher', 'actor', 'auto driver']\n",
        "work.reverse()\n",
        "for item in work:\n",
        "  print(item.title()) "
      ],
      "metadata": {
        "id": "WGFlh_l1VqnJ"
      },
      "execution_count": null,
      "outputs": []
    },
    {
      "cell_type": "code",
      "source": [
        "def full_name():  \n",
        "  print(\"Welcome user\")\n",
        "  print(\"Follow the following instructions\")\n",
        "  fn = input(\"Please provide first name: \")\n",
        "  ln = input(\"Please provide last name: \")\n",
        "  return (\"Hello \"+ fn + \" \" + ln )\n",
        "\n",
        "print(full_name())"
      ],
      "metadata": {
        "id": "ETXfXwO3DHyU"
      },
      "execution_count": null,
      "outputs": []
    },
    {
      "cell_type": "code",
      "source": [
        "def add(x,y):\n",
        "  print(\"The first no is \", x)\n",
        "  print(\"The second no is \",y )\n",
        "  print (\"Their sum is\", int(x)+int(y))\n",
        "  print(\" \")\n",
        "\n",
        "\n",
        "add(5,6)\n",
        "add(3,4)\n",
        "add(3,5)  "
      ],
      "metadata": {
        "colab": {
          "base_uri": "https://localhost:8080/"
        },
        "id": "5UIlXHABGm0T",
        "outputId": "1e80ad58-5c65-4848-ca7e-b9a8f77434d4"
      },
      "execution_count": null,
      "outputs": [
        {
          "output_type": "stream",
          "name": "stdout",
          "text": [
            "The first no is  5\n",
            "The second no is  6\n",
            "Their sum is 11\n",
            " \n",
            "The first no is  3\n",
            "The second no is  4\n",
            "Their sum is 7\n",
            " \n",
            "The first no is  3\n",
            "The second no is  5\n",
            "Their sum is 8\n",
            " \n"
          ]
        }
      ]
    },
    {
      "cell_type": "code",
      "source": [
        "def return_add():\n",
        "  x = input(\"Please provide first no: \")\n",
        "  y = input(\"Please provide second no: \")\n",
        "  z = (int(x)+int(y))\n",
        "  z = str(z)\n",
        "  return(\"The sum is \" + z)\n",
        "\n",
        "print(return_add())\n"
      ],
      "metadata": {
        "id": "CWkrEJb7OLB8"
      },
      "execution_count": null,
      "outputs": []
    },
    {
      "cell_type": "code",
      "source": [
        "proguge = ['python', 'c', 'java']\n",
        "for item in proguge:\n",
        "  print (item.title())"
      ],
      "metadata": {
        "id": "TO7CazctHlz1"
      },
      "execution_count": null,
      "outputs": []
    },
    {
      "cell_type": "code",
      "source": [
        "proguge = ['python', 'c', 'java']\n",
        "item = proguge[-1]\n",
        "print(item.title())"
      ],
      "metadata": {
        "id": "4xiXbT8cIvQI"
      },
      "execution_count": null,
      "outputs": []
    },
    {
      "cell_type": "code",
      "source": [
        "pizza =['python', 'linux', 'c++', 'java']\n",
        "for slice in pizza:\n",
        "  print(\"A famous programing languge is \" + slice.title()+ \"!\")"
      ],
      "metadata": {
        "id": "LVMoKBSmJrfV"
      },
      "execution_count": null,
      "outputs": []
    },
    {
      "cell_type": "code",
      "source": [
        "music = ['piano', 'drum', 'guitar', 'ukulele']\n",
        "for note in music:\n",
        "  print (\"An item in my list is \" + note.title())"
      ],
      "metadata": {
        "id": "Nwpt1f5KKi62"
      },
      "execution_count": null,
      "outputs": []
    },
    {
      "cell_type": "code",
      "source": [
        "dogs = ['golden retriver', 'bull dog', 'german shepard', 'boxer']\n",
        "for dog in dogs:\n",
        "  print(\"I love \" + dog.title()+\"s\\n\")"
      ],
      "metadata": {
        "id": "iqnFBDq9Lxqq",
        "outputId": "4e046f9d-77e6-45a1-b6e5-99d43466a609",
        "colab": {
          "base_uri": "https://localhost:8080/"
        }
      },
      "execution_count": null,
      "outputs": [
        {
          "output_type": "stream",
          "name": "stdout",
          "text": [
            "I love Golden Retrivers\n",
            "\n",
            "I love Bull Dogs\n",
            "\n",
            "I love German Shepards\n",
            "\n",
            "I love Boxers\n",
            "\n"
          ]
        }
      ]
    },
    {
      "cell_type": "code",
      "source": [
        "dogs = ['golden retriver', 'bull dog', 'german shepard', 'boxer']\n",
        "print (\"Result for best pet are as follows\\n\")\n",
        "for index, dog in enumerate(dogs):\n",
        "  place = str(index + 1)\n",
        "  print (\"Place: \"+ place + \" holder is: \" + dog.title())\n"
      ],
      "metadata": {
        "colab": {
          "base_uri": "https://localhost:8080/"
        },
        "id": "1l99dzapO0P8",
        "outputId": "03ecc9b7-9f7e-42b1-b03a-6f2725abfcf6"
      },
      "execution_count": null,
      "outputs": [
        {
          "output_type": "stream",
          "name": "stdout",
          "text": [
            "Result for best pet are as follows\n",
            "\n",
            "Place: 1 holder is: Golden Retriver\n",
            "Place: 2 holder is: Bull Dog\n",
            "Place: 3 holder is: German Shepard\n",
            "Place: 4 holder is: Boxer\n"
          ]
        }
      ]
    },
    {
      "cell_type": "code",
      "source": [
        "numbers = [1,9,7,6,3]\n",
        "for number in numbers:\n",
        "  print(number)\n",
        "print(\" \")\n",
        "numbers.sort()\n",
        "for number in numbers:\n",
        "  print(number)\n",
        "print(\" \")\n",
        "for number in numbers:\n",
        "  print (number)\n",
        "print(\" \") \n",
        "numbers.sort(reverse = True)\n",
        "for number in numbers:\n",
        "  print (number)\n",
        "print(\" \")\n",
        "\n",
        "for no in numbers:\n",
        "  print (no)\n",
        "print(\" \")\n",
        "for no in sorted(numbers):\n",
        "  print (no)\n",
        "print (\" \")  \n",
        "for no in sorted(numbers, reverse = True):\n",
        "  print (no)\n",
        "print (\" \")  "
      ],
      "metadata": {
        "id": "siiIZTU9HmFy"
      },
      "execution_count": null,
      "outputs": []
    },
    {
      "cell_type": "code",
      "source": [
        "numbers = [1,9,7,6,3]\n",
        "numbers.reverse()\n",
        "for num in numbers:\n",
        "  print (num)"
      ],
      "metadata": {
        "id": "VaZXsBofMAcz"
      },
      "execution_count": null,
      "outputs": []
    },
    {
      "cell_type": "code",
      "source": [
        "f = [5, 2, 5, 2, 2]\n",
        "for num in f:\n",
        "  print (\"F\"*num)"
      ],
      "metadata": {
        "id": "CwC2UarkVKTi",
        "colab": {
          "base_uri": "https://localhost:8080/"
        },
        "outputId": "edf0e9c8-b8f0-4f7a-f4d1-fd1e0af7ee08"
      },
      "execution_count": null,
      "outputs": [
        {
          "output_type": "stream",
          "name": "stdout",
          "text": [
            "FFFFF\n",
            "FF\n",
            "FFFFF\n",
            "FF\n",
            "FF\n"
          ]
        }
      ]
    },
    {
      "cell_type": "code",
      "source": [
        "def tum_hi_ho():\n",
        "  return (\"\"\"\n",
        "Kyunki tum hi ho\n",
        "Ab tum hi ho\n",
        "Zindagi ab tum hi ho\n",
        "Chain bhi, mera dard bhi\n",
        "Meri aashiqui ab tum hi ho\n",
        "\"\"\") \n",
        "print (\"\"\"Hum tere bin ab reh nahi sakte\n",
        "Tere bina kya wajood mera\n",
        "Hum tere bin ab reh nahi sakte\n",
        "Tere bina kya wajood mera\n",
        "Tujhse juda gar ho jaayenge\n",
        "Toh khud se hi ho jaayenge judaa\"\"\")\n",
        "print(tum_hi_ho())\n",
        "print(\"\"\"Tera mera rishta hai kaisa\n",
        "Ik pal door gawara nahi\n",
        "Tere liye har roz hai jeete\n",
        "Tujh ko diya mera waqt sabhi\n",
        "Koi lamha mera na ho tere bina\n",
        "Har saans pe naam tera\"\"\") \n",
        "print(tum_hi_ho())\n",
        "print(\"\"\"Tere liye hi jiya main\n",
        "Khud ko jo yun de diya hai\n",
        "Teri wafa ne mujhko sambhala\n",
        "Saare ghamon ko dil se nikala\n",
        "Tere saath mera hai naseeb juda\n",
        "Tujhe paake adhoora naa raha hmm\n",
        "\"\"\")\n",
        "print(tum_hi_ho())"
      ],
      "metadata": {
        "colab": {
          "base_uri": "https://localhost:8080/"
        },
        "id": "Q8h_ruShe82V",
        "outputId": "b4c74707-6ecb-435b-fed4-ed0f2058011b"
      },
      "execution_count": null,
      "outputs": [
        {
          "output_type": "stream",
          "name": "stdout",
          "text": [
            "Hum tere bin ab reh nahi sakte\n",
            "Tere bina kya wajood mera\n",
            "Hum tere bin ab reh nahi sakte\n",
            "Tere bina kya wajood mera\n",
            "Tujhse juda gar ho jaayenge\n",
            "Toh khud se hi ho jaayenge judaa\n",
            "\n",
            "Kyunki tum hi ho\n",
            "Ab tum hi ho\n",
            "Zindagi ab tum hi ho\n",
            "Chain bhi, mera dard bhi\n",
            "Meri aashiqui ab tum hi ho\n",
            "\n",
            "Tera mera rishta hai kaisa\n",
            "Ik pal door gawara nahi\n",
            "Tere liye har roz hai jeete\n",
            "Tujh ko diya mera waqt sabhi\n",
            "Koi lamha mera na ho tere bina\n",
            "Har saans pe naam tera\n",
            "\n",
            "Kyunki tum hi ho\n",
            "Ab tum hi ho\n",
            "Zindagi ab tum hi ho\n",
            "Chain bhi, mera dard bhi\n",
            "Meri aashiqui ab tum hi ho\n",
            "\n",
            "Tere liye hi jiya main\n",
            "Khud ko jo yun de diya hai\n",
            "Teri wafa ne mujhko sambhala\n",
            "Saare ghamon ko dil se nikala\n",
            "Tere saath mera hai naseeb juda\n",
            "Tujhe paake adhoora naa raha hmm\n",
            "\n",
            "\n",
            "Kyunki tum hi ho\n",
            "Ab tum hi ho\n",
            "Zindagi ab tum hi ho\n",
            "Chain bhi, mera dard bhi\n",
            "Meri aashiqui ab tum hi ho\n",
            "\n"
          ]
        }
      ]
    },
    {
      "cell_type": "code",
      "source": [
        "def gal_karke(antara):\n",
        "  print (antara)\n",
        "antara =(\"\"\"Gal taan jatti naal teri bani payi ae\n",
        "Vekh taan sahi tu jatta gal karke\n",
        "Gal taan jatti naal teri bani payi ae\n",
        "Vekh taan sahi tu jatta gal karke\n",
        "Haan... haan...\n",
        "\"\"\")\n",
        "print(\"\"\"Haan...\n",
        "Jihde utte mardi mandeer mundeya\n",
        "Mar gayi aa oh kudi teri look te\n",
        "Sadkaan te phire teri car labhdi\n",
        "Labhdi ni kudi jehdi Facebook te\n",
        "\n",
        "Number nu chhad jatta dil mera leja\n",
        "Langh jaana akh mere val karke\n",
        "\"\"\")\n",
        "(gal_karke(antara))\n",
        "print(\"\"\"Manneya main rate tere high karte\n",
        "Ik vaari vekh ke taan hass deya kar\n",
        "Tainu vekhe bina din langhda nahi\n",
        "Kithe ae location taan dass deya kar\n",
        "\n",
        "Munde mere pichhe, tere pichhe auna main\n",
        "La lai zor tainu apna banauna main\n",
        "Car'ch bithaake tainu gera launa main\n",
        "Kudiyan naal bet aayi kal karke\n",
        "\"\"\")\n",
        "gal_karke(antara)\n",
        "print (\"\"\"\n",
        "Tere kadmaan ch ohne dil dhareya\n",
        "Thokar te jehdi kudi shehar rakhdi\n",
        "Hoodie paake shammi tere ghar baar aundi\n",
        "Chheti ni si gharon baahar pair rakhdi\n",
        "\n",
        "Puch taan sahi tu Babbu haan kahvangi\n",
        "Laaye hoye paper main rok lawangi\n",
        "Jaandi ni Toronto Chandigarh ravaangi\n",
        "Already baithi saare hal karke\n",
        "\"\"\")\n",
        "gal_karke(antara)"
      ],
      "metadata": {
        "id": "aoxVrXqafdqK",
        "outputId": "67546284-16f7-4c1c-9ce5-6a2161cde525",
        "colab": {
          "base_uri": "https://localhost:8080/"
        }
      },
      "execution_count": null,
      "outputs": [
        {
          "output_type": "stream",
          "name": "stdout",
          "text": [
            "Haan...\n",
            "Jihde utte mardi mandeer mundeya\n",
            "Mar gayi aa oh kudi teri look te\n",
            "Sadkaan te phire teri car labhdi\n",
            "Labhdi ni kudi jehdi Facebook te\n",
            "\n",
            "Number nu chhad jatta dil mera leja\n",
            "Langh jaana akh mere val karke\n",
            "\n",
            "Gal taan jatti naal teri bani payi ae\n",
            "Vekh taan sahi tu jatta gal karke\n",
            "Gal taan jatti naal teri bani payi ae\n",
            "Vekh taan sahi tu jatta gal karke\n",
            "Haan... haan...\n",
            "\n",
            "Manneya main rate tere high karte\n",
            "Ik vaari vekh ke taan hass deya kar\n",
            "Tainu vekhe bina din langhda nahi\n",
            "Kithe ae location taan dass deya kar\n",
            "\n",
            "Munde mere pichhe, tere pichhe auna main\n",
            "La lai zor tainu apna banauna main\n",
            "Car'ch bithaake tainu gera launa main\n",
            "Kudiyan naal bet aayi kal karke\n",
            "\n",
            "Gal taan jatti naal teri bani payi ae\n",
            "Vekh taan sahi tu jatta gal karke\n",
            "Gal taan jatti naal teri bani payi ae\n",
            "Vekh taan sahi tu jatta gal karke\n",
            "Haan... haan...\n",
            "\n",
            "\n",
            "Tere kadmaan ch ohne dil dhareya\n",
            "Thokar te jehdi kudi shehar rakhdi\n",
            "Hoodie paake shammi tere ghar baar aundi\n",
            "Chheti ni si gharon baahar pair rakhdi\n",
            "\n",
            "Puch taan sahi tu Babbu haan kahvangi\n",
            "Laaye hoye paper main rok lawangi\n",
            "Jaandi ni Toronto Chandigarh ravaangi\n",
            "Already baithi saare hal karke\n",
            "\n",
            "Gal taan jatti naal teri bani payi ae\n",
            "Vekh taan sahi tu jatta gal karke\n",
            "Gal taan jatti naal teri bani payi ae\n",
            "Vekh taan sahi tu jatta gal karke\n",
            "Haan... haan...\n",
            "\n"
          ]
        }
      ]
    },
    {
      "cell_type": "code",
      "source": [
        "def ajeeb_dastaana(syanthi,antara):\n",
        "  print (\"Notes are as follows: \")\n",
        "  print(syanthi)\n",
        "  print(antara) \n",
        "  print(syanthi)\n",
        "  print(antara) \n",
        "  print(syanthi)\n",
        "  print(antara)  \n",
        "\n",
        "syanthi=(\"\"\"\n",
        "D C D C A G F A\n",
        "D C D C A G F G\n",
        "A G A G F E D E D\n",
        "C C D C A G D F\"\"\")\n",
        "\n",
        "antara = (\"\"\"\n",
        "F G A A# A A# G A#\n",
        "D C D C A# A# D C\n",
        "F G A A# A A# G A#\n",
        "D C D C A# A# D C\n",
        "E E D E D E D C A#\n",
        "E E D E D E D C A#\n",
        "\"\"\")\n",
        "\n",
        "\n",
        "ajeeb_dastaana(syanthi, antara)"
      ],
      "metadata": {
        "id": "Jr1UvuM6njaE",
        "outputId": "b3dfe387-66e0-4881-bfcf-e6c3ebbf3652",
        "colab": {
          "base_uri": "https://localhost:8080/"
        }
      },
      "execution_count": null,
      "outputs": [
        {
          "output_type": "stream",
          "name": "stdout",
          "text": [
            "Notes are as follows: \n",
            "\n",
            "D C D C A G F A\n",
            "D C D C A G F G\n",
            "A G A G F E D E D\n",
            "C C D C A G D F\n",
            "\n",
            "F G A A# A A# G A#\n",
            "D C D C A# A# D C\n",
            "F G A A# A A# G A#\n",
            "D C D C A# A# D C\n",
            "E E D E D E D C A#\n",
            "E E D E D E D C A#\n",
            "\n",
            "\n",
            "D C D C A G F A\n",
            "D C D C A G F G\n",
            "A G A G F E D E D\n",
            "C C D C A G D F\n",
            "\n",
            "F G A A# A A# G A#\n",
            "D C D C A# A# D C\n",
            "F G A A# A A# G A#\n",
            "D C D C A# A# D C\n",
            "E E D E D E D C A#\n",
            "E E D E D E D C A#\n",
            "\n",
            "\n",
            "D C D C A G F A\n",
            "D C D C A G F G\n",
            "A G A G F E D E D\n",
            "C C D C A G D F\n",
            "\n",
            "F G A A# A A# G A#\n",
            "D C D C A# A# D C\n",
            "F G A A# A A# G A#\n",
            "D C D C A# A# D C\n",
            "E E D E D E D C A#\n",
            "E E D E D E D C A#\n",
            "\n"
          ]
        }
      ]
    },
    {
      "cell_type": "code",
      "source": [
        "import random\n",
        "def name_meaning(naam):\n",
        "  naam.upper()\n",
        "  meaning = list(naam.upper())\n",
        "  matlab = {\n",
        "     \"A\" : \"Adorable\",\n",
        "     \"B\" : \"Brilliant\",\n",
        "     \"C\" : \"Cheerful\",\n",
        "     \"D\" : \"Devoted\",\n",
        "     \"E\" : \"Energetic\",\n",
        "     \"F\" : \"Fabulous\",\n",
        "     \"G\" : \"Grace\",\n",
        "     \"H\" : \"Humble\",\n",
        "     \"I\" : \"Incredible\",\n",
        "     \"J\" : \"Jolly\",\n",
        "     \"K\" : \"Kindhearted\",\n",
        "     \"L\" : \"Loyal\",\n",
        "     \"M\" : \"Majestic\",\n",
        "     \"N\" : \"Nice\",\n",
        "     \"O\" : \"Outstanding\",\n",
        "     \"P\" : \"Perfect\",\n",
        "     \"Q\" : \"Quick\",\n",
        "     \"R\" : \"Royal\",\n",
        "     \"S\" : \"Superb\",\n",
        "     \"T\" : \"Terrific\",\n",
        "     \"U\" : \"Unique\",\n",
        "     \"V\" : \"Versatile\",\n",
        "     \"W\" : \"Wise\",\n",
        "     \"X\" : \"Xenial\",\n",
        "     \"Y\" : \"Young\",\n",
        "     \"Z\" : \"zeal\",\n",
        " }\n",
        "  real = \"\"\n",
        "  for item in meaning:\n",
        "    real += matlab.get(item, item ) + \" \\n\"\n",
        "  print (real)  \n",
        "\n",
        "\n",
        "naam =  input(\"Please enter your name: \")\n",
        "name_meaning(naam)"
      ],
      "metadata": {
        "colab": {
          "base_uri": "https://localhost:8080/"
        },
        "id": "zR8cnM7otdS8",
        "outputId": "01f2dd16-fd94-42b4-e4f9-4deec4b86ea4"
      },
      "execution_count": null,
      "outputs": [
        {
          "output_type": "stream",
          "name": "stdout",
          "text": [
            "Please enter your name: Ad A\n",
            "Adorable \n",
            "Devoted \n",
            "  \n",
            "Adorable \n",
            "\n"
          ]
        }
      ]
    },
    {
      "cell_type": "code",
      "source": [
        "def palindrome():\n",
        "  a = input(\"Please enter your word \")\n",
        "  b = (a.lower())\n",
        "  c = \"\".join(reversed(b))\n",
        "  if b == c :\n",
        "    print (\"This is a palindrome\")\n",
        "  else:\n",
        "    print (\"This is not a palindrome\")\n",
        "\n",
        "print(\"Welcome you can check if the word is a palindrome \")\n",
        "palindrome()\n",
        "\n"
      ],
      "metadata": {
        "id": "wAxJt1OzvYMI",
        "colab": {
          "base_uri": "https://localhost:8080/"
        },
        "outputId": "567fefe3-372b-4397-ed4c-fa871cfeec60"
      },
      "execution_count": null,
      "outputs": [
        {
          "output_type": "stream",
          "name": "stdout",
          "text": [
            "Welcome you can check if the word is a palindrome \n",
            "Please enter your word Malayalam\n",
            "This is a palindrome\n"
          ]
        }
      ]
    },
    {
      "cell_type": "markdown",
      "source": [
        "Dr Chuck's Exersises"
      ],
      "metadata": {
        "id": "ETOD4J0g5bMS"
      }
    },
    {
      "cell_type": "code",
      "source": [
        "def wage_rate():\n",
        "  try:  \n",
        "    hours = float(input(\"Please enter hours \"))\n",
        "    rate = float(input(\"Please enter rate \"))\n",
        "    if hours >= 45 :\n",
        "      pay = (hours*rate+(rate+rate*1.5))\n",
        "    else:\n",
        "      pay = (hours*rate) \n",
        "    print (f\"The payment is  {pay}\")   \n",
        "\n",
        "  except:\n",
        "    ValueError()\n",
        "    print(\"Please enter a number only\")\n",
        "\n",
        "wage_rate()    "
      ],
      "metadata": {
        "colab": {
          "base_uri": "https://localhost:8080/"
        },
        "id": "SJtWAHrn5QH0",
        "outputId": "5d30b4a2-9290-4def-a9d0-9621e7a63047"
      },
      "execution_count": null,
      "outputs": [
        {
          "output_type": "stream",
          "name": "stdout",
          "text": [
            "Please enter hours 45\n",
            "Please enter rate 10\n",
            "The payment is  475.0\n"
          ]
        }
      ]
    },
    {
      "cell_type": "markdown",
      "source": [
        "Question 2"
      ],
      "metadata": {
        "id": "VeA1bRGf8q54"
      }
    },
    {
      "cell_type": "code",
      "source": [
        "def grade_calc():\n",
        "  try:  \n",
        "    grade = float(input(\"Enter score: \"))\n",
        "    if grade >= 0.9 and grade < 1.0 :\n",
        "      print(\"A\")\n",
        "    elif grade >=0.8 and grade <0.9:\n",
        "      print(\"B\")\n",
        "    \n",
        "    elif grade >=0.7 and grade <0.8:\n",
        "      print(\"C\")\n",
        "    elif grade >=0.6 and grade <0.7 :\n",
        "      print(\"B\")\n",
        "    elif grade < 0.6:\n",
        "      print (\"F\")\n",
        "    else:\n",
        "      print (\"Bad Score\")  \n",
        "  except ValueError:\n",
        "    print (\"This is not acceptable here\")\n",
        "\n",
        "print (\"Welcome.Calculate your grade here \")   \n",
        "grade_calc()\n"
      ],
      "metadata": {
        "colab": {
          "base_uri": "https://localhost:8080/"
        },
        "id": "TD01NNiq8xn3",
        "outputId": "a867ead9-e73e-49bb-dd7b-ff7096359b29"
      },
      "execution_count": null,
      "outputs": [
        {
          "output_type": "stream",
          "name": "stdout",
          "text": [
            "Welcome.Calculate your grade here \n",
            "Enter score: Mukesh Ram Charan\n",
            "This is not acceptable here\n"
          ]
        }
      ]
    },
    {
      "cell_type": "code",
      "source": [
        "def elasticity():\n",
        "  try:  \n",
        "    p1 = float(input(\"Please enter the org price \"))\n",
        "    p2 = float (input(\"Please enter new price \"))\n",
        "    a1 = float(input(\"Please enter old amount \"))\n",
        "    a2 = float(input(\"Please enter new amount \"))\n",
        "    elasticity = (a2-a1)/(p2-p1)\n",
        "    print(elasticity)\n",
        "    if elasticity == 0:\n",
        "      return (\"Demand is totally inelastic\")\n",
        "    elif elasticity < 0 :\n",
        "      return (\"Demand is inelastic\")\n",
        "    elif elasticity == 1 :\n",
        "      return (\"Demand is unit elastic\")\n",
        "    elif elasticity > 1:\n",
        "      return(\"Demand is elastic\") \n",
        "  except ZeroDivisionError:\n",
        "    return (\"Demand is infinite\")\n",
        "\n",
        "\n",
        "print(elasticity())       \n",
        "\n",
        "    "
      ],
      "metadata": {
        "id": "Yx7uXhjrbAHR"
      },
      "execution_count": null,
      "outputs": []
    },
    {
      "cell_type": "code",
      "source": [
        "n = 10\n",
        "while n >= 0:\n",
        "  print (f\"T - {n} seconds\")\n",
        "  n = n-1\n",
        " \n",
        "  \n",
        "print (\"Huston We have ignitation\")  "
      ],
      "metadata": {
        "colab": {
          "base_uri": "https://localhost:8080/"
        },
        "id": "1Mg9g7pHgaLi",
        "outputId": "61fe05b2-c2d9-4d65-ec6e-cfd2815cdd30"
      },
      "execution_count": null,
      "outputs": [
        {
          "output_type": "stream",
          "name": "stdout",
          "text": [
            "T - 10 seconds\n",
            "T - 9 seconds\n",
            "T - 8 seconds\n",
            "T - 7 seconds\n",
            "T - 6 seconds\n",
            "T - 5 seconds\n",
            "T - 4 seconds\n",
            "T - 3 seconds\n",
            "T - 2 seconds\n",
            "T - 1 seconds\n",
            "T - 0 seconds\n",
            "Huston We have ignitation\n"
          ]
        }
      ]
    },
    {
      "cell_type": "code",
      "source": [
        "import datetime\n",
        "\n",
        "\n",
        "def wish(names):\n",
        "    for name in names:\n",
        "        \n",
        "      hour = int(datetime.datetime.now().hour)\n",
        "      if hour >= 0 and hour >= 12:\n",
        "        print(\"Good Morning\", name.title())\n",
        "      elif hour < 12 and hour < 18:\n",
        "          print(\"Good Afternoon\", name.title())\n",
        "      else:\n",
        "          print(\"Good Evening\", name.title())\n",
        "      print(\"Hope you are doin' well\", name.title())\n",
        "\n",
        "\n",
        "names = [\"KOYYANA SYAMA SUNDARA RAO\",\n",
        "         \"KUPPILI SIVA SAI KRISHNA CHAITANYA\",\n",
        "         \"MAHENDRA RV\",\n",
        "         \"OMKARAM NIRANJAN KUMAR\",\n",
        "         \"S RAM SRI CHARAN\",\n",
        "         \"SAI KUSHAL\",\n",
        "         \"ADVITIYA SAKSENA\",\n",
        "         \"ANKUSH SAHU\",\n",
        "         \"ASHISH SAI K\",\n",
        "         \"BURADA VENKATA ANISH RAJ\",\n",
        "         \"D ESHWAR DORA\",\n",
        "         \"D VEDAVARDHAN\",\n",
        "         \"DEBA DURLABHA DAS\",\n",
        "         \"ERAKKAGARI SHANMUKHA SAI\",\n",
        "         \"GANTA GEETAM\",\n",
        "         \"GIRISH GAUTAM\",\n",
        "         \"GONELLA MANIKYAPRABHU MAHARAJU\",\n",
        "         \"HARSHIT GOYAL\",\n",
        "         \"JAMMI VISHAL\",\n",
        "         \"KARTHIK H N\",\n",
        "         \"MANVENDRA MANOJ PATIL\",\n",
        "         \"PHURBA TAMANG\",\n",
        "         \"S ARAVIND ABISHEK\",\n",
        "         \"SAI KISHEN MANOJ PILLAI\",\n",
        "         \"SAI NISHANT SREERANGAM\",\n",
        "         \"SANKALP SINGH BHADOURIA\",\n",
        "         \"SIVA BHANU PRASAD NOONEY\",\n",
        "         \"SRAJAN SANJEEV CHOURASIA\",\n",
        "         \"V SURYA\"]\n",
        "\n",
        "wish(names)\n"
      ],
      "metadata": {
        "colab": {
          "base_uri": "https://localhost:8080/"
        },
        "id": "ajHufzYnAAQT",
        "outputId": "ad05d96a-b93f-4d65-9ffe-47eb2a31abb4"
      },
      "execution_count": null,
      "outputs": [
        {
          "output_type": "stream",
          "name": "stdout",
          "text": [
            "Good Afternoon Koyyana Syama Sundara Rao\n",
            "Hope you are doin' well Koyyana Syama Sundara Rao\n",
            "Good Afternoon Kuppili Siva Sai Krishna Chaitanya\n",
            "Hope you are doin' well Kuppili Siva Sai Krishna Chaitanya\n",
            "Good Afternoon Mahendra Rv\n",
            "Hope you are doin' well Mahendra Rv\n",
            "Good Afternoon Omkaram Niranjan Kumar\n",
            "Hope you are doin' well Omkaram Niranjan Kumar\n",
            "Good Afternoon S Ram Sri Charan\n",
            "Hope you are doin' well S Ram Sri Charan\n",
            "Good Afternoon Sai Kushal\n",
            "Hope you are doin' well Sai Kushal\n",
            "Good Afternoon Advitiya Saksena\n",
            "Hope you are doin' well Advitiya Saksena\n",
            "Good Afternoon Ankush Sahu\n",
            "Hope you are doin' well Ankush Sahu\n",
            "Good Afternoon Ashish Sai K\n",
            "Hope you are doin' well Ashish Sai K\n",
            "Good Afternoon Burada Venkata Anish Raj\n",
            "Hope you are doin' well Burada Venkata Anish Raj\n",
            "Good Afternoon D Eshwar Dora\n",
            "Hope you are doin' well D Eshwar Dora\n",
            "Good Afternoon D Vedavardhan\n",
            "Hope you are doin' well D Vedavardhan\n",
            "Good Afternoon Deba Durlabha Das\n",
            "Hope you are doin' well Deba Durlabha Das\n",
            "Good Afternoon Erakkagari Shanmukha Sai\n",
            "Hope you are doin' well Erakkagari Shanmukha Sai\n",
            "Good Afternoon Ganta Geetam\n",
            "Hope you are doin' well Ganta Geetam\n",
            "Good Afternoon Girish Gautam\n",
            "Hope you are doin' well Girish Gautam\n",
            "Good Afternoon Gonella Manikyaprabhu Maharaju\n",
            "Hope you are doin' well Gonella Manikyaprabhu Maharaju\n",
            "Good Afternoon Harshit Goyal\n",
            "Hope you are doin' well Harshit Goyal\n",
            "Good Afternoon Jammi Vishal\n",
            "Hope you are doin' well Jammi Vishal\n",
            "Good Afternoon Karthik H N\n",
            "Hope you are doin' well Karthik H N\n",
            "Good Afternoon Manvendra Manoj Patil\n",
            "Hope you are doin' well Manvendra Manoj Patil\n",
            "Good Afternoon Phurba Tamang\n",
            "Hope you are doin' well Phurba Tamang\n",
            "Good Afternoon S Aravind Abishek\n",
            "Hope you are doin' well S Aravind Abishek\n",
            "Good Afternoon Sai Kishen Manoj Pillai\n",
            "Hope you are doin' well Sai Kishen Manoj Pillai\n",
            "Good Afternoon Sai Nishant Sreerangam\n",
            "Hope you are doin' well Sai Nishant Sreerangam\n",
            "Good Afternoon Sankalp Singh Bhadouria\n",
            "Hope you are doin' well Sankalp Singh Bhadouria\n",
            "Good Afternoon Siva Bhanu Prasad Nooney\n",
            "Hope you are doin' well Siva Bhanu Prasad Nooney\n",
            "Good Afternoon Srajan Sanjeev Chourasia\n",
            "Hope you are doin' well Srajan Sanjeev Chourasia\n",
            "Good Afternoon V Surya\n",
            "Hope you are doin' well V Surya\n"
          ]
        }
      ]
    },
    {
      "cell_type": "code",
      "source": [
        "from google.colab import drive\n",
        "drive.mount('/content/drive', force_remount=1)\n",
        "!ls\n",
        "!cd sample_data\n",
        "!ls\n",
        "#data = open(\"words.gdoc\").read()\n",
        "#data"
      ],
      "metadata": {
        "colab": {
          "base_uri": "https://localhost:8080/"
        },
        "id": "-s92fSo6Qfmo",
        "outputId": "7f914ba9-8e4e-4dc3-97ad-0ee59e4a58b9"
      },
      "execution_count": null,
      "outputs": [
        {
          "output_type": "stream",
          "name": "stdout",
          "text": [
            "Mounted at /content/drive\n",
            "drive  sample_data\n",
            "drive  sample_data\n"
          ]
        }
      ]
    },
    {
      "cell_type": "code",
      "source": [
        "!cd MyDrive\n",
        "data = open(\"words.txt\").read()\n",
        "data\n",
        "/content/drive/MyDrive/words.gdoc"
      ],
      "metadata": {
        "id": "f9F5kIOCWiPl",
        "outputId": "7147dbf4-9574-4c6f-dce7-ff4306d260e8",
        "colab": {
          "base_uri": "https://localhost:8080/",
          "height": 219
        }
      },
      "execution_count": null,
      "outputs": [
        {
          "output_type": "stream",
          "name": "stdout",
          "text": [
            "/bin/bash: line 0: cd: MyDrive: No such file or directory\n"
          ]
        },
        {
          "output_type": "error",
          "ename": "FileNotFoundError",
          "evalue": "ignored",
          "traceback": [
            "\u001b[0;31m---------------------------------------------------------------------------\u001b[0m",
            "\u001b[0;31mFileNotFoundError\u001b[0m                         Traceback (most recent call last)",
            "\u001b[0;32m<ipython-input-12-9b8ccece2b9c>\u001b[0m in \u001b[0;36m<module>\u001b[0;34m()\u001b[0m\n\u001b[1;32m      1\u001b[0m \u001b[0mget_ipython\u001b[0m\u001b[0;34m(\u001b[0m\u001b[0;34m)\u001b[0m\u001b[0;34m.\u001b[0m\u001b[0msystem\u001b[0m\u001b[0;34m(\u001b[0m\u001b[0;34m'cd MyDrive'\u001b[0m\u001b[0;34m)\u001b[0m\u001b[0;34m\u001b[0m\u001b[0;34m\u001b[0m\u001b[0m\n\u001b[0;32m----> 2\u001b[0;31m \u001b[0mdata\u001b[0m \u001b[0;34m=\u001b[0m \u001b[0mopen\u001b[0m\u001b[0;34m(\u001b[0m\u001b[0;34m\"words.txt\"\u001b[0m\u001b[0;34m)\u001b[0m\u001b[0;34m.\u001b[0m\u001b[0mread\u001b[0m\u001b[0;34m(\u001b[0m\u001b[0;34m)\u001b[0m\u001b[0;34m\u001b[0m\u001b[0;34m\u001b[0m\u001b[0m\n\u001b[0m\u001b[1;32m      3\u001b[0m \u001b[0mdata\u001b[0m\u001b[0;34m\u001b[0m\u001b[0;34m\u001b[0m\u001b[0m\n",
            "\u001b[0;31mFileNotFoundError\u001b[0m: [Errno 2] No such file or directory: 'words.txt'"
          ]
        }
      ]
    },
    {
      "cell_type": "code",
      "source": [
        "def conclusion():\n",
        "  print (\"Jai Sai Ram\")\n",
        "\n",
        "\n",
        "conclusion()"
      ],
      "metadata": {
        "colab": {
          "base_uri": "https://localhost:8080/"
        },
        "id": "_-TFsIZ3-meV",
        "outputId": "5a5be926-6281-46d3-c7f4-59af3775e1f0"
      },
      "execution_count": null,
      "outputs": [
        {
          "output_type": "stream",
          "name": "stdout",
          "text": [
            "Jai Sai Ram\n"
          ]
        }
      ]
    },
    {
      "cell_type": "code",
      "source": [
        "!python"
      ],
      "metadata": {
        "colab": {
          "base_uri": "https://localhost:8080/"
        },
        "id": "ai4SObcv915y",
        "outputId": "bb87e809-3bfb-4711-e720-31421208d675"
      },
      "execution_count": null,
      "outputs": [
        {
          "output_type": "stream",
          "name": "stdout",
          "text": [
            "ERROR: unknown command \"update\"\n"
          ]
        }
      ]
    }
  ]
}