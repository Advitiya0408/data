{
  "nbformat": 4,
  "nbformat_minor": 0,
  "metadata": {
    "colab": {
      "name": "Trial_of_WhatsApp_E-E_encryption.ipynb",
      "provenance": [],
      "collapsed_sections": [],
      "authorship_tag": "ABX9TyML+P+r1mzNzB7rJ00RWpdj",
      "include_colab_link": true
    },
    "kernelspec": {
      "name": "python3",
      "display_name": "Python 3"
    },
    "language_info": {
      "name": "python"
    }
  },
  "cells": [
    {
      "cell_type": "markdown",
      "metadata": {
        "id": "view-in-github",
        "colab_type": "text"
      },
      "source": [
        "<a href=\"https://colab.research.google.com/github/Advitiya0408/data/blob/main/Trial_of_WhatsApp_E_E_encryption.ipynb\" target=\"_parent\"><img src=\"https://colab.research.google.com/assets/colab-badge.svg\" alt=\"Open In Colab\"/></a>"
      ]
    },
    {
      "cell_type": "code",
      "execution_count": null,
      "metadata": {
        "id": "gAuqNo6zkGLK"
      },
      "outputs": [],
      "source": [
        "def encode(message):\n",
        "  message.upper()\n",
        "  meaning = list(message.upper())\n",
        "  encode = {\n",
        "     \"A\" : \"nvuesekta\",\n",
        "     \"B\" : \"lpouyt\",\n",
        "     \"C\" : \"kolate\",\n",
        "     \"D\" : \"entrmt\",\n",
        "     \"E\" : \"gterfjn\",\n",
        "     \"F\" : \"mnutyb\",\n",
        "     \"G\" : \"rdshgh\",\n",
        "     \"H\" : \"nklmno\",\n",
        "     \"I\" : \"mnbfgcn\",\n",
        "     \"J\" : \"kmhkloj\",\n",
        "     \"K\" : \"bhfhgfg\",\n",
        "     \"L\" : \"arghnghd\",\n",
        "     \"M\" : \"klopjjmv\",\n",
        "     \"N\" : \"polkjfds\",\n",
        "     \"O\" : \"hbhnnbchf\",\n",
        "     \"P\" : \"lknlolop\",\n",
        "     \"Q\" : \"cnnhbvbp\",\n",
        "     \"R\" : \"alokmkbl\",\n",
        "     \"S\" : \"hrialdhdhiay\",\n",
        "     \"T\" : \"eriblkassca\",\n",
        "     \"U\" : \"bgklgkjfjjhkf\",\n",
        "     \"V\" : \"jsfvvhghnp\",\n",
        "     \"W\" : \"ghcmgjjfkj\",\n",
        "     \"X\" : \"bjkjnial\",\n",
        "     \"Y\" : \"jvjhngcgkjhg\",\n",
        "     \"Z\" : \"mbnjklbjpmm\",\n",
        "      \" \" : \"+\",\n",
        "      \"1\" : \"46546776\",\n",
        "      \"2\" : \"75800897\",\n",
        "      \"3\" : \"77577968\",\n",
        "      \"4\" : \"5588308\",\n",
        "      \"5\" : \"3678780\",\n",
        "      \"6\": \"55865485\",\n",
        "      \"7\" :\"69650750\",\n",
        "      \"8\" :\"023565434\",\n",
        "      \"9\" : \"57634734\",\n",
        "      \"0\" : \"08554740\",\n",
        "      \n",
        " }\n",
        "\n",
        "  real = \"\"\n",
        "  for item in meaning:\n",
        "    real += encode.get(item, item ) + \" \"\n",
        "  print (real)  \n",
        "\n",
        "\n",
        "message =  input(\"😊📎 \")\n",
        "encode(message)"
      ]
    },
    {
      "cell_type": "code",
      "source": [
        "def decode(mes):\n",
        "  words = mes.split(\" \")\n",
        "  coded ={\"nvuesekta\" : \"A\", \n",
        "\"lpouyt\" : \"B\", \n",
        "\"kolate\" : \"C\",\n",
        "\"entrmt\" : \"D\",\n",
        "\"gterfjn\" : \"E\",\n",
        "\"mnutyb\" : \"F\",\n",
        "\"rdshgh\": \"G\",\n",
        "\"nklmno\": \"H\",\n",
        "\"mnbfgcn\": \"I\",\n",
        "\"kmhkloj\": \"J\",\n",
        "\"bhfhgfg\": \"K\",\n",
        "\"arghnghd\": \"L\",\n",
        "\"klopjjmv\": \"M\",\n",
        "\"polkjfds\": \"N\",\n",
        "\"hbhnnbchf\": \"O\",\n",
        "\"lknlolop\": \"P\",\n",
        "\"cnnhbvbp\": \"Q\",\n",
        "\"alokmkbl\": \"R\",\n",
        "\"hrialdhdhiay\" : \"S\",\n",
        "\"eriblkassca\" : \"T\",\n",
        "\"bgklgkjfjjhkf\": \"U\",\n",
        "\"jsfvvhghnp\": \"V\",\n",
        "\"ghcmgjjfkj\": \"W\",\n",
        "\"bjkjnial\": \"X\",\n",
        "\"jvjhngcgkjhg\": \"Y\",\n",
        "\"mbnjklbjpmm\": \"Z\",\n",
        " \"+\" : \" \",\n",
        "\n",
        "   \"46546776\": \"1\",\n",
        "\"75800897\":\"2\",\n",
        "\"77577968\" :\"3\",\n",
        "\"5588308\" : \"4\",\n",
        "\"3678780\" : \"5\",\n",
        "\"55865485\": \"6\",\n",
        "\"69650750\": \"7\",\n",
        "\"023565434\": \"8\",\n",
        "\"57634734\":\"9\",\n",
        "    \"8554740\" : \"0\",\n",
        "  }\n",
        "  out = \"\"\n",
        "  for word in words:\n",
        "    out += coded.get(word, word) + \"\" \n",
        "  return (out.title())  \n",
        "\n",
        "\n",
        "mes = input (\">  \")\n",
        "decode(mes)\n",
        "print (decode(mes))\n"
      ],
      "metadata": {
        "id": "b04tjrUHvlRi"
      },
      "execution_count": null,
      "outputs": []
    }
  ]
}