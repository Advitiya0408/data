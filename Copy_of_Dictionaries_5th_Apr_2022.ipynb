{
  "nbformat": 4,
  "nbformat_minor": 0,
  "metadata": {
    "kernelspec": {
      "name": "python3",
      "display_name": "Python 3"
    },
    "colab": {
      "name": "Copy of Dictionaries_5th Apr 2022.ipynb",
      "provenance": [],
      "collapsed_sections": [],
      "include_colab_link": true
    },
    "language_info": {
      "name": "python"
    }
  },
  "cells": [
    {
      "cell_type": "markdown",
      "metadata": {
        "id": "view-in-github",
        "colab_type": "text"
      },
      "source": [
        "<a href=\"https://colab.research.google.com/github/Advitiya0408/data/blob/main/Copy_of_Dictionaries_5th_Apr_2022.ipynb\" target=\"_parent\"><img src=\"https://colab.research.google.com/assets/colab-badge.svg\" alt=\"Open In Colab\"/></a>"
      ]
    },
    {
      "cell_type": "markdown",
      "metadata": {
        "id": "I_J0tdAStWbv"
      },
      "source": [
        "<h1>Dictionaries in Python</h1>"
      ]
    },
    {
      "cell_type": "markdown",
      "metadata": {
        "id": "IPl-VWuatWb0"
      },
      "source": [
        "<p><strong>Welcome!</strong> This notebook will teach you about the dictionaries in the Python Programming Language. By the end of this lab, you'll know the basics dictionary operations in Python, including what it is, and the operations on it.</p>"
      ]
    },
    {
      "cell_type": "markdown",
      "metadata": {
        "id": "PBMSTbiGtWb3"
      },
      "source": [
        "<h2>Table of Contents</h2>\n",
        "<div class=\"alert alert-block alert-info\" style=\"margin-top: 20px\">\n",
        "    <ul>\n",
        "        <li>\n",
        "            <a href=\"#dic\">Dictionaries</a>\n",
        "            <ul>\n",
        "                <li><a href=\"content\">What are Dictionaries?</a></li>\n",
        "                <li><a href=\"key\">Keys</a></li>\n",
        "            </ul>\n",
        "        </li>\n",
        "        <li>\n",
        "            <a href=\"#quiz\">Quiz on Dictionaries</a>\n",
        "        </li>\n",
        "    </ul>\n",
        "    <p>\n",
        "        Estimated time needed: <strong>20 min</strong>\n",
        "    </p>\n",
        "</div>\n",
        "\n",
        "<hr>"
      ]
    },
    {
      "cell_type": "markdown",
      "metadata": {
        "id": "pxZoK6shtWb4"
      },
      "source": [
        "<h2 id=\"Dic\">Dictionaries</h2>"
      ]
    },
    {
      "cell_type": "markdown",
      "metadata": {
        "id": "JjHOMLuBtWb7"
      },
      "source": [
        "<h3 id=\"content\">What are Dictionaries?</h3>"
      ]
    },
    {
      "cell_type": "markdown",
      "metadata": {
        "id": "19gSuxFktWb9"
      },
      "source": [
        "A dictionary consists of keys and values. It is helpful to compare a dictionary to a list. Instead of the numerical indexes such as a list, dictionaries have keys. These keys are the keys that are used to access values within a dictionary."
      ]
    },
    {
      "cell_type": "markdown",
      "metadata": {
        "id": "v4NzM-oetWb_"
      },
      "source": [
        "<img src=\"https://s3-api.us-geo.objectstorage.softlayer.net/cf-courses-data/CognitiveClass/PY0101EN/Chapter%202/Images/DictsList.png\" width=\"650\" />"
      ]
    },
    {
      "cell_type": "markdown",
      "source": [
        "![1_WMiNIQ9THariDSJw47uU1w.png](data:image/png;base64,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)"
      ],
      "metadata": {
        "id": "GKCEzwZ-YDNO"
      }
    },
    {
      "cell_type": "code",
      "source": [
        "eng2sp = dict()\n",
        "print(eng2sp)\n",
        "eng2sp['one'] = 'uno'\n",
        "print(eng2sp)"
      ],
      "metadata": {
        "colab": {
          "base_uri": "https://localhost:8080/"
        },
        "id": "WzC-KmgRUYBn",
        "outputId": "85d9e469-0602-40c7-fd97-ad366d14324c"
      },
      "execution_count": null,
      "outputs": [
        {
          "output_type": "stream",
          "name": "stdout",
          "text": [
            "{}\n",
            "{'one': 'uno'}\n"
          ]
        }
      ]
    },
    {
      "cell_type": "markdown",
      "metadata": {
        "id": "98cu13A5tWcG"
      },
      "source": [
        "An example of a Dictionary <code>Dict</code>:"
      ]
    },
    {
      "cell_type": "code",
      "source": [
        ""
      ],
      "metadata": {
        "id": "_X1lXI4ZUR_x"
      },
      "execution_count": null,
      "outputs": []
    },
    {
      "cell_type": "code",
      "metadata": {
        "jupyter": {
          "outputs_hidden": false
        },
        "id": "xiEjsnrjtWcH",
        "colab": {
          "base_uri": "https://localhost:8080/"
        },
        "outputId": "7f9d10ab-66d0-434d-f0bc-4886e6be2cf4"
      },
      "source": [
        "# Create the dictionary\n",
        "\n",
        "Dict = {\"key1\": 1, \"key2\": \"2\", \"key3\": [3, 3, 3], \"key4\": (4, 4, 4), ('key5'): 5, (0, 1): 6}\n",
        "Dict"
      ],
      "execution_count": null,
      "outputs": [
        {
          "output_type": "execute_result",
          "data": {
            "text/plain": [
              "{(0, 1): 6,\n",
              " 'key1': 1,\n",
              " 'key2': '2',\n",
              " 'key3': [3, 3, 3],\n",
              " 'key4': (4, 4, 4),\n",
              " 'key5': 5}"
            ]
          },
          "metadata": {},
          "execution_count": 25
        }
      ]
    },
    {
      "cell_type": "markdown",
      "metadata": {
        "id": "qRuv6pa3tWcL"
      },
      "source": [
        "The keys can be strings:"
      ]
    },
    {
      "cell_type": "code",
      "metadata": {
        "jupyter": {
          "outputs_hidden": false
        },
        "id": "V-h-vAMItWcM",
        "outputId": "af8e4668-9ca1-486c-f192-e8224b5f626f",
        "colab": {
          "base_uri": "https://localhost:8080/"
        }
      },
      "source": [
        "# Access to the value by the key\n",
        "\n",
        "Dict[\"key1\"]"
      ],
      "execution_count": null,
      "outputs": [
        {
          "output_type": "execute_result",
          "data": {
            "text/plain": [
              "1"
            ]
          },
          "metadata": {},
          "execution_count": 26
        }
      ]
    },
    {
      "cell_type": "markdown",
      "metadata": {
        "id": "Ky9yJm-utWcO"
      },
      "source": [
        "Keys can also be any immutable object such as a tuple: "
      ]
    },
    {
      "cell_type": "code",
      "metadata": {
        "jupyter": {
          "outputs_hidden": false
        },
        "id": "CSLODD33tWcP",
        "outputId": "c4922816-e678-4ba2-a031-ea4df54b4a5a",
        "colab": {
          "base_uri": "https://localhost:8080/"
        }
      },
      "source": [
        "# Access to the value by the key\n",
        "\n",
        "Dict[(0, 1)]"
      ],
      "execution_count": null,
      "outputs": [
        {
          "output_type": "execute_result",
          "data": {
            "text/plain": [
              "6"
            ]
          },
          "metadata": {},
          "execution_count": 27
        }
      ]
    },
    {
      "cell_type": "markdown",
      "metadata": {
        "id": "iSYHK6NwtWcY"
      },
      "source": [
        " Each key is separated from its value by a colon \"<code>:</code>\".  Commas separate the items, and the whole dictionary is enclosed in curly braces. An empty dictionary without any items is written with just two curly braces, like this  \"<code>{}</code>\"."
      ]
    },
    {
      "cell_type": "code",
      "metadata": {
        "jupyter": {
          "outputs_hidden": false
        },
        "id": "bXmloThGtWcZ",
        "outputId": "ab428b9f-d966-466f-aa33-c5e51760c31d",
        "colab": {
          "base_uri": "https://localhost:8080/"
        }
      },
      "source": [
        "# Create a sample dictionary\n",
        "\n",
        "release_year_dict = {\"Thriller\": \"1982\", \"Back in Black\": \"1980\", \\\n",
        "                    \"The Dark Side of the Moon\": \"1973\", \"The Bodyguard\": \"1992\", \\\n",
        "                    \"Bat Out of Hell\": \"1977\", \"Their Greatest Hits (1971-1975)\": \"1976\", \\\n",
        "                    \"Saturday Night Fever\": \"1977\", \"Rumours\": \"1977\"}\n",
        "release_year_dict"
      ],
      "execution_count": null,
      "outputs": [
        {
          "output_type": "execute_result",
          "data": {
            "text/plain": [
              "{'Back in Black': '1980',\n",
              " 'Bat Out of Hell': '1977',\n",
              " 'Rumours': '1977',\n",
              " 'Saturday Night Fever': '1977',\n",
              " 'The Bodyguard': '1992',\n",
              " 'The Dark Side of the Moon': '1973',\n",
              " 'Their Greatest Hits (1971-1975)': '1976',\n",
              " 'Thriller': '1982'}"
            ]
          },
          "metadata": {},
          "execution_count": 28
        }
      ]
    },
    {
      "cell_type": "markdown",
      "metadata": {
        "id": "mn7mBtuVtWcb"
      },
      "source": [
        "In summary, like a list, a dictionary holds a sequence of elements. Each element is represented by a key and its corresponding value. Dictionaries are created with two curly braces containing keys and values separated by a colon. For every key, there can only be one single value, however,  multiple keys can hold the same value. Keys can only be strings, numbers, or tuples, but values can be any data type."
      ]
    },
    {
      "cell_type": "markdown",
      "metadata": {
        "id": "8YXHza5KtWci"
      },
      "source": [
        "It is helpful to visualize the dictionary as a table, as in the following image. The first column represents the keys, the second column represents the values."
      ]
    },
    {
      "cell_type": "markdown",
      "metadata": {
        "id": "kWerc-04tWcm"
      },
      "source": [
        "<img src=\"https://s3-api.us-geo.objectstorage.softlayer.net/cf-courses-data/CognitiveClass/PY0101EN/Chapter%202/Images/DictsStructure.png\" width=\"650\" />"
      ]
    },
    {
      "cell_type": "markdown",
      "metadata": {
        "id": "aBd_ocOKtWcn"
      },
      "source": [
        "<h3 id=\"key\">Keys</h3>"
      ]
    },
    {
      "cell_type": "markdown",
      "metadata": {
        "id": "2KTfnhsVtWcp"
      },
      "source": [
        "You can retrieve the values based on the names:"
      ]
    },
    {
      "cell_type": "code",
      "metadata": {
        "jupyter": {
          "outputs_hidden": false
        },
        "id": "CJglR2JftWcs",
        "outputId": "6af2107e-737d-4862-c9c0-3c23f5580a8e",
        "colab": {
          "base_uri": "https://localhost:8080/",
          "height": 36
        }
      },
      "source": [
        "# Get value by keys\n",
        "\n",
        "release_year_dict['Thriller'] "
      ],
      "execution_count": null,
      "outputs": [
        {
          "output_type": "execute_result",
          "data": {
            "text/plain": [
              "'1982'"
            ],
            "application/vnd.google.colaboratory.intrinsic+json": {
              "type": "string"
            }
          },
          "metadata": {},
          "execution_count": 29
        }
      ]
    },
    {
      "cell_type": "markdown",
      "metadata": {
        "id": "ctBOz-uGtWcu"
      },
      "source": [
        "This corresponds to: \n"
      ]
    },
    {
      "cell_type": "markdown",
      "metadata": {
        "id": "3krBLXF_tWcu"
      },
      "source": [
        "<img src=\"https://s3-api.us-geo.objectstorage.softlayer.net/cf-courses-data/CognitiveClass/PY0101EN/Chapter%202/Images/DictsKeyOne.png\" width=\"500\" />"
      ]
    },
    {
      "cell_type": "markdown",
      "metadata": {
        "id": "WeZkOTB5tWcv"
      },
      "source": [
        "Similarly for <b>The Bodyguard</b>"
      ]
    },
    {
      "cell_type": "code",
      "metadata": {
        "jupyter": {
          "outputs_hidden": false
        },
        "id": "XryTU7yptWcw",
        "outputId": "7251f45d-6b1a-4aa1-c80d-6ac936843d6b",
        "colab": {
          "base_uri": "https://localhost:8080/",
          "height": 36
        }
      },
      "source": [
        "# Get value by key\n",
        "\n",
        "release_year_dict['The Bodyguard'] "
      ],
      "execution_count": null,
      "outputs": [
        {
          "output_type": "execute_result",
          "data": {
            "text/plain": [
              "'1992'"
            ],
            "application/vnd.google.colaboratory.intrinsic+json": {
              "type": "string"
            }
          },
          "metadata": {},
          "execution_count": 46
        }
      ]
    },
    {
      "cell_type": "markdown",
      "metadata": {
        "id": "VjZAGt-btWcx"
      },
      "source": [
        "<img src=\"https://s3-api.us-geo.objectstorage.softlayer.net/cf-courses-data/CognitiveClass/PY0101EN/Chapter%202/Images/DictsKeyTwo.png\" width=\"500\" />"
      ]
    },
    {
      "cell_type": "markdown",
      "metadata": {
        "id": "udGIlmUktWcy"
      },
      "source": [
        "Now let you retrieve the keys of the dictionary using the method <code>release_year_dict()</code>:"
      ]
    },
    {
      "cell_type": "code",
      "metadata": {
        "jupyter": {
          "outputs_hidden": false
        },
        "id": "U-ND11G3tWc2",
        "outputId": "e8f465b0-31f0-4e07-982e-ac01986b79da",
        "colab": {
          "base_uri": "https://localhost:8080/"
        }
      },
      "source": [
        "# Get all the keys in dictionary\n",
        "\n",
        "release_year_dict.keys() "
      ],
      "execution_count": null,
      "outputs": [
        {
          "output_type": "execute_result",
          "data": {
            "text/plain": [
              "dict_keys(['Back in Black', 'The Dark Side of the Moon', 'The Bodyguard', 'Bat Out of Hell', 'Their Greatest Hits (1971-1975)', 'Saturday Night Fever', 'Rumours'])"
            ]
          },
          "metadata": {},
          "execution_count": 47
        }
      ]
    },
    {
      "cell_type": "markdown",
      "metadata": {
        "id": "EvyOu0oqtWc3"
      },
      "source": [
        "You can retrieve the values using the method  <code>values()</code>:"
      ]
    },
    {
      "cell_type": "code",
      "metadata": {
        "jupyter": {
          "outputs_hidden": false
        },
        "id": "mKAoce4ytWc4",
        "outputId": "6a9a96d3-dadd-4ae5-d1a0-e3bd38d0cff3",
        "colab": {
          "base_uri": "https://localhost:8080/"
        }
      },
      "source": [
        "# Get all the values in dictionary\n",
        "\n",
        "release_year_dict.values() "
      ],
      "execution_count": null,
      "outputs": [
        {
          "output_type": "execute_result",
          "data": {
            "text/plain": [
              "dict_values(['1980', '1973', '1992', '1977', '1976', '1977', '1977'])"
            ]
          },
          "metadata": {},
          "execution_count": 48
        }
      ]
    },
    {
      "cell_type": "markdown",
      "metadata": {
        "id": "akCbdGnOtWc5"
      },
      "source": [
        "We can add an entry:"
      ]
    },
    {
      "cell_type": "code",
      "metadata": {
        "jupyter": {
          "outputs_hidden": false
        },
        "id": "QrRe9A4ntWc6",
        "outputId": "41ba681e-e691-405a-b356-384cea406d18",
        "colab": {
          "base_uri": "https://localhost:8080/"
        }
      },
      "source": [
        "# Append value with key into dictionary\n",
        "\n",
        "release_year_dict['Graduation'] = '2007'\n",
        "release_year_dict"
      ],
      "execution_count": null,
      "outputs": [
        {
          "output_type": "execute_result",
          "data": {
            "text/plain": [
              "{'Back in Black': '1980',\n",
              " 'Bat Out of Hell': '1977',\n",
              " 'Graduation': '2007',\n",
              " 'Rumours': '1977',\n",
              " 'Saturday Night Fever': '1977',\n",
              " 'The Bodyguard': '1992',\n",
              " 'The Dark Side of the Moon': '1973',\n",
              " 'Their Greatest Hits (1971-1975)': '1976'}"
            ]
          },
          "metadata": {},
          "execution_count": 49
        }
      ]
    },
    {
      "cell_type": "markdown",
      "metadata": {
        "id": "gQOW78oXtWc8"
      },
      "source": [
        "We can delete an entry:   "
      ]
    },
    {
      "cell_type": "code",
      "metadata": {
        "jupyter": {
          "outputs_hidden": false
        },
        "id": "40CCOseetWc9",
        "outputId": "574fd3fa-d0d0-4984-9fd0-1ee319de5c9a",
        "colab": {
          "base_uri": "https://localhost:8080/"
        }
      },
      "source": [
        "# Delete entries by key\n",
        "\n",
        "del(release_year_dict['Thriller'])\n",
        "del(release_year_dict['Graduation'])\n",
        "release_year_dict"
      ],
      "execution_count": null,
      "outputs": [
        {
          "output_type": "execute_result",
          "data": {
            "text/plain": [
              "{'Back in Black': '1980',\n",
              " 'Bat Out of Hell': '1977',\n",
              " 'Rumours': '1977',\n",
              " 'Saturday Night Fever': '1977',\n",
              " 'The Bodyguard': '1992',\n",
              " 'The Dark Side of the Moon': '1973',\n",
              " 'Their Greatest Hits (1971-1975)': '1976'}"
            ]
          },
          "metadata": {},
          "execution_count": 34
        }
      ]
    },
    {
      "cell_type": "markdown",
      "metadata": {
        "id": "LFHyN02CtWc_"
      },
      "source": [
        " We can verify if an element is in the dictionary: "
      ]
    },
    {
      "cell_type": "code",
      "metadata": {
        "jupyter": {
          "outputs_hidden": false
        },
        "id": "p0aGqZwxtWdA",
        "outputId": "16d03fbb-9339-4e0a-8c34-379a4b0f50a3",
        "colab": {
          "base_uri": "https://localhost:8080/"
        }
      },
      "source": [
        "# Verify the key is in the dictionary\n",
        "\n",
        "'The Bodyguard' in release_year_dict"
      ],
      "execution_count": null,
      "outputs": [
        {
          "output_type": "execute_result",
          "data": {
            "text/plain": [
              "True"
            ]
          },
          "metadata": {},
          "execution_count": 35
        }
      ]
    },
    {
      "cell_type": "markdown",
      "metadata": {
        "id": "dlGsKDLdtWdJ"
      },
      "source": [
        "<hr>"
      ]
    },
    {
      "cell_type": "markdown",
      "metadata": {
        "id": "KI78Ymw9tWdL"
      },
      "source": [
        "<h2 id=\"quiz\">Quiz on Dictionaries</h2>"
      ]
    },
    {
      "cell_type": "markdown",
      "metadata": {
        "id": "UwdwxRLptWdM"
      },
      "source": [
        "<b>You will need this dictionary for the next two questions:</b>"
      ]
    },
    {
      "cell_type": "code",
      "metadata": {
        "id": "CWWlR3yFtWdN",
        "outputId": "d61a0499-09f3-42b4-ac41-943b302eb9e7",
        "colab": {
          "base_uri": "https://localhost:8080/"
        }
      },
      "source": [
        "# Question sample dictionary\n",
        "\n",
        "soundtrack_dic = {\"The Bodyguard\":\"1992\", \"Saturday Night Fever\":\"1977\"}\n",
        "soundtrack_dic "
      ],
      "execution_count": null,
      "outputs": [
        {
          "output_type": "execute_result",
          "data": {
            "text/plain": [
              "{'Saturday Night Fever': '1977', 'The Bodyguard': '1992'}"
            ]
          },
          "metadata": {},
          "execution_count": 36
        }
      ]
    },
    {
      "cell_type": "markdown",
      "metadata": {
        "id": "pn-xAqsrtWdO"
      },
      "source": [
        "a) In the dictionary <code>soundtrack_dict</code> what are the keys ?"
      ]
    },
    {
      "cell_type": "code",
      "metadata": {
        "id": "xM41A4TvtWdP",
        "outputId": "d51dd80b-3dda-4e2f-9f7b-755be1e91a6c",
        "colab": {
          "base_uri": "https://localhost:8080/"
        }
      },
      "source": [
        "# Write your code below and press Shift+Enter to execute\n",
        "soundtrack_dic.keys()"
      ],
      "execution_count": null,
      "outputs": [
        {
          "output_type": "execute_result",
          "data": {
            "text/plain": [
              "dict_keys(['The Bodyguard', 'Saturday Night Fever'])"
            ]
          },
          "metadata": {},
          "execution_count": 37
        }
      ]
    },
    {
      "cell_type": "markdown",
      "metadata": {
        "id": "kRSd4jmJtWdQ"
      },
      "source": [
        "Double-click __here__ for the solution.\n",
        "\n",
        "<!-- Your answer is below:\n",
        "soundtrack_dic.keys() # The Keys \"The Bodyguard\" and \"Saturday Night Fever\" \n",
        "-->"
      ]
    },
    {
      "cell_type": "markdown",
      "metadata": {
        "id": "Ouy3Jw2JtWdR"
      },
      "source": [
        "b) In the dictionary <code>soundtrack_dict</code> what are the values ?"
      ]
    },
    {
      "cell_type": "code",
      "metadata": {
        "id": "YQyHePY0tWdS",
        "outputId": "ef02e302-7310-4869-b162-ef8dba89d92d",
        "colab": {
          "base_uri": "https://localhost:8080/"
        }
      },
      "source": [
        "# Write your code below and press Shift+Enter to execute\n",
        "soundtrack_dic.values()\n"
      ],
      "execution_count": null,
      "outputs": [
        {
          "output_type": "execute_result",
          "data": {
            "text/plain": [
              "dict_values(['1992', '1977'])"
            ]
          },
          "metadata": {},
          "execution_count": 38
        }
      ]
    },
    {
      "cell_type": "code",
      "metadata": {
        "id": "Pcp6Hdbr5sPa"
      },
      "source": [
        ""
      ],
      "execution_count": null,
      "outputs": []
    },
    {
      "cell_type": "markdown",
      "metadata": {
        "id": "xQ28cWiYtWdY"
      },
      "source": [
        "Double-click __here__ for the solution.\n",
        "\n",
        "<!-- Your answer is below:\n",
        "soundtrack_dic.values() # The values are \"1992\" and \"1977\"\n",
        "-->"
      ]
    },
    {
      "cell_type": "markdown",
      "metadata": {
        "id": "KqcBKn8mtWdb"
      },
      "source": [
        "<hr>"
      ]
    },
    {
      "cell_type": "markdown",
      "metadata": {
        "id": "Cyr1c98ztWdc"
      },
      "source": [
        "<b>You will need this dictionary for the following questions:</b>"
      ]
    },
    {
      "cell_type": "markdown",
      "metadata": {
        "id": "jf-Nu2w6tWdd"
      },
      "source": [
        "The Albums <b>Back in Black</b>, <b>The Bodyguard</b> and <b>Thriller</b> have the following music recording sales in millions 50, 50 and 65 respectively:"
      ]
    },
    {
      "cell_type": "markdown",
      "metadata": {
        "id": "E79_ZOh2tWde"
      },
      "source": [
        "a) Create a dictionary <code>album_sales_dict</code> where the keys are the album name and the sales in millions are the values. "
      ]
    },
    {
      "cell_type": "code",
      "metadata": {
        "id": "hOx_Kmc3tWde",
        "outputId": "96948463-6c32-4aca-c79a-b5e566ad1d9c",
        "colab": {
          "base_uri": "https://localhost:8080/"
        }
      },
      "source": [
        "# Write your code below and press Shift+Enter to execute\n",
        "album_sales_dict = {\"Back in Black\": 50, \"The Bodyguard\":50, \"Thriller\":65}\n",
        "album_sales_dict"
      ],
      "execution_count": null,
      "outputs": [
        {
          "output_type": "execute_result",
          "data": {
            "text/plain": [
              "{'Back in Black': 50, 'The Bodyguard': 50, 'Thriller': 65}"
            ]
          },
          "metadata": {},
          "execution_count": 39
        }
      ]
    },
    {
      "cell_type": "markdown",
      "metadata": {
        "id": "ZEUM2gvPtWdf"
      },
      "source": [
        "Double-click __here__ for the solution.\n",
        "\n",
        "<!-- Your answer is below:\n",
        "album_sales_dict = {\"The Bodyguard\":50, \"Back in Black\":50, \"Thriller\":65}\n",
        "-->"
      ]
    },
    {
      "cell_type": "markdown",
      "metadata": {
        "id": "tki4Tj-mtWdg"
      },
      "source": [
        "b) Use the dictionary to find the total sales of <b>Thriller</b>:"
      ]
    },
    {
      "cell_type": "code",
      "metadata": {
        "jupyter": {
          "outputs_hidden": false
        },
        "id": "G-fHvneLtWdh",
        "outputId": "7d3cc8dc-1a79-49f3-f00e-c8173cc17909",
        "colab": {
          "base_uri": "https://localhost:8080/"
        }
      },
      "source": [
        "# Write your code below and press Shift+Enter to execute\n",
        "album_sales_dict[\"Thriller\"]"
      ],
      "execution_count": null,
      "outputs": [
        {
          "output_type": "execute_result",
          "data": {
            "text/plain": [
              "65"
            ]
          },
          "metadata": {},
          "execution_count": 40
        }
      ]
    },
    {
      "cell_type": "markdown",
      "metadata": {
        "id": "iDwDW4jMtWdj"
      },
      "source": [
        "Double-click __here__ for the solution.\n",
        "\n",
        "<!-- Your answer is below:\n",
        "album_sales_dict[\"Thriller\"]\n",
        "-->"
      ]
    },
    {
      "cell_type": "markdown",
      "metadata": {
        "id": "oWvUL92HtWdk"
      },
      "source": [
        "c) Find the names of the albums from the dictionary using the method <code>keys</code>:"
      ]
    },
    {
      "cell_type": "code",
      "metadata": {
        "jupyter": {
          "outputs_hidden": false
        },
        "id": "w4RJoJC5tWdk",
        "outputId": "60489f1d-a864-4d7f-edbe-b682c0157d58",
        "colab": {
          "base_uri": "https://localhost:8080/"
        }
      },
      "source": [
        "# Write your code below and press Shift+Enter to execute\n",
        "album_sales_dict.keys()"
      ],
      "execution_count": null,
      "outputs": [
        {
          "output_type": "execute_result",
          "data": {
            "text/plain": [
              "dict_keys(['Back in Black', 'The Bodyguard', 'Thriller'])"
            ]
          },
          "metadata": {},
          "execution_count": 41
        }
      ]
    },
    {
      "cell_type": "markdown",
      "metadata": {
        "id": "Sesz0f6FtWdo"
      },
      "source": [
        "Double-click __here__ for the solution.\n",
        "\n",
        "<!-- Your answer is below:\n",
        "album_sales_dict.keys()\n",
        "-->"
      ]
    },
    {
      "cell_type": "markdown",
      "metadata": {
        "id": "zVu4Moe8tWdq"
      },
      "source": [
        "d) Find the names of the recording sales from the dictionary using the method <code>values</code>:"
      ]
    },
    {
      "cell_type": "code",
      "metadata": {
        "jupyter": {
          "outputs_hidden": false
        },
        "id": "-tK_MwNltWdr",
        "outputId": "f7c03460-28b2-47ec-8665-b633e7b70132",
        "colab": {
          "base_uri": "https://localhost:8080/"
        }
      },
      "source": [
        "# Write your code below and press Shift+Enter to execute\n",
        "album_sales_dict.values()"
      ],
      "execution_count": null,
      "outputs": [
        {
          "output_type": "execute_result",
          "data": {
            "text/plain": [
              "dict_values([50, 50, 65])"
            ]
          },
          "metadata": {},
          "execution_count": 42
        }
      ]
    },
    {
      "cell_type": "markdown",
      "metadata": {
        "id": "DCWoo4FTtWds"
      },
      "source": [
        "Double-click __here__ for the solution.\n",
        "\n",
        "<!-- Your answer is below:\n",
        "album_sales_dict.values()\n",
        "-->"
      ]
    },
    {
      "cell_type": "code",
      "metadata": {
        "colab": {
          "base_uri": "https://localhost:8080/",
          "height": 36
        },
        "id": "rCqEnbzwDosV",
        "outputId": "764057aa-8273-4f71-de05-d87d333c4952"
      },
      "source": [
        "pwd\n"
      ],
      "execution_count": null,
      "outputs": [
        {
          "output_type": "execute_result",
          "data": {
            "text/plain": [
              "'/content'"
            ],
            "application/vnd.google.colaboratory.intrinsic+json": {
              "type": "string"
            }
          },
          "metadata": {},
          "execution_count": 1
        }
      ]
    },
    {
      "cell_type": "code",
      "metadata": {
        "colab": {
          "base_uri": "https://localhost:8080/"
        },
        "id": "PyrAJfGMEFRv",
        "outputId": "6f3dba1e-bc90-4392-da4a-7e81550db15b"
      },
      "source": [
        "%ls"
      ],
      "execution_count": null,
      "outputs": [
        {
          "output_type": "stream",
          "name": "stdout",
          "text": [
            "\u001b[0m\u001b[01;34msample_data\u001b[0m/\n"
          ]
        }
      ]
    },
    {
      "cell_type": "code",
      "metadata": {
        "colab": {
          "base_uri": "https://localhost:8080/"
        },
        "id": "svuhr2q-EE9I",
        "outputId": "77103b29-1152-44c6-a86a-61413ee9fb8d"
      },
      "source": [
        "%cd sample_data/\n",
        "%ls"
      ],
      "execution_count": null,
      "outputs": [
        {
          "output_type": "stream",
          "name": "stdout",
          "text": [
            "[Errno 2] No such file or directory: 'sample_data/'\n",
            "/content/sample_data\n",
            "\u001b[0m\u001b[01;32manscombe.json\u001b[0m*                mnist_test.csv\n",
            "california_housing_test.csv   mnist_train_small.csv\n",
            "california_housing_train.csv  \u001b[01;32mREADME.md\u001b[0m*\n"
          ]
        }
      ]
    },
    {
      "cell_type": "markdown",
      "metadata": {
        "id": "AkzLEzHeFpp5"
      },
      "source": [
        "# New Section"
      ]
    },
    {
      "cell_type": "code",
      "source": [
        "from google.colab import drive\n",
        "drive.mount('/content/drive', force_remount=1)"
      ],
      "metadata": {
        "id": "e0bu-Lgo4Gaz"
      },
      "execution_count": null,
      "outputs": []
    },
    {
      "cell_type": "code",
      "source": [
        "data = open(\"words.txt\").read()\n",
        "data"
      ],
      "metadata": {
        "id": "tiFB7aDU4Ss8"
      },
      "execution_count": null,
      "outputs": []
    },
    {
      "cell_type": "code",
      "source": [
        "#Creating an empty dictionary to store words\n",
        "hw = dict()\n",
        "#Initiation of an empty string\n",
        "s = \"\" \n",
        "#This loop takes each letter in the data and does the following functions on it \n",
        "for j in data:\n",
        "  #This code checks if the letter is a continuation of a word or the end of it by checking the presence of a space\n",
        "  if j != \" \":\n",
        "    s = s + j\n",
        "  #If a space is found then a word is formed by adding all the letters since the previous space\n",
        "  #If the word hence formed exists in the dictionary already, then its count is increased by 1 and if it doesnt exist a new key is formed\n",
        "  else:\n",
        "    hw[s] = hw.get(s,0) + 1\n",
        "    #The string containing the word formed by joining the letters is emptied again to store the next word and so on \n",
        "    s = \"\"\n",
        "print(hw)"
      ],
      "metadata": {
        "id": "Mtot-9yc4c5M"
      },
      "execution_count": null,
      "outputs": []
    },
    {
      "cell_type": "code",
      "source": [
        "vals = list(hw.values())"
      ],
      "metadata": {
        "id": "PGCSHylO4bC9"
      },
      "execution_count": null,
      "outputs": []
    },
    {
      "cell_type": "code",
      "source": [
        "if \"programs\" in hw:\n",
        "  print(\"Present\")\n",
        "else:\n",
        "  print(\"Not Present\")"
      ],
      "metadata": {
        "id": "n8VtZfiN6uFD"
      },
      "execution_count": null,
      "outputs": []
    },
    {
      "cell_type": "code",
      "source": [
        "import pandas as pd\n",
        "import numpy as np"
      ],
      "metadata": {
        "id": "XqK92Dr761iq"
      },
      "execution_count": null,
      "outputs": []
    },
    {
      "cell_type": "code",
      "source": [
        "column_names = ['Word','Count']\n",
        "\n",
        "my_data_frame = pd.DataFrame(data = list(hw.items()), columns = column_names)\n",
        "\n",
        "print(my_data_frame)"
      ],
      "metadata": {
        "id": "JCsnqLUV67Pq"
      },
      "execution_count": null,
      "outputs": []
    },
    {
      "cell_type": "code",
      "source": [
        "my_data_frame.plot(x ='Word', y='Count', kind = 'scatter')"
      ],
      "metadata": {
        "id": "PYzQlnm9685P"
      },
      "execution_count": null,
      "outputs": []
    }
  ]
}