{
  "nbformat": 4,
  "nbformat_minor": 0,
  "metadata": {
    "colab": {
      "name": "DrChuck_Ex2_214509.ipynb",
      "provenance": [],
      "collapsed_sections": [],
      "authorship_tag": "ABX9TyNjPzKTleRjjQiveAnrFX2F",
      "include_colab_link": true
    },
    "kernelspec": {
      "name": "python3",
      "display_name": "Python 3"
    },
    "language_info": {
      "name": "python"
    }
  },
  "cells": [
    {
      "cell_type": "markdown",
      "metadata": {
        "id": "view-in-github",
        "colab_type": "text"
      },
      "source": [
        "<a href=\"https://colab.research.google.com/github/Advitiya0408/data/blob/main/DrChuck_Ex2_214509.ipynb\" target=\"_parent\"><img src=\"https://colab.research.google.com/assets/colab-badge.svg\" alt=\"Open In Colab\"/></a>"
      ]
    },
    {
      "cell_type": "code",
      "execution_count": null,
      "metadata": {
        "id": "1TWr-0VsZoUU",
        "colab": {
          "base_uri": "https://localhost:8080/"
        },
        "outputId": "81510d34-fec4-4fff-bbac-b967514c0b8f"
      },
      "outputs": [
        {
          "output_type": "stream",
          "name": "stdout",
          "text": [
            "PLease provide principal 1\n",
            "Please provide amt 1\n",
            "Please provide time 1\n",
            "0.0\n"
          ]
        }
      ],
      "source": [
        "pri = float(input (\"PLease provide principal \"))\n",
        "amt = float(input( \"Please provide amt \"))\n",
        "time = float(input (\"Please provide time \"))\n",
        "roi = ((amt-pri)*100/(pri*time))\n",
        "print (roi) "
      ]
    },
    {
      "cell_type": "code",
      "source": [
        "rate = float(input (\"Please enter rate \"))\n",
        "inst = float(input (\"Please enter intrest \"))\n",
        "time = float(input (\"Please enter time \"))\n",
        "pri = (inst*100/rate*time)\n",
        "print (pri)"
      ],
      "metadata": {
        "id": "Vldk325PBw4o",
        "colab": {
          "base_uri": "https://localhost:8080/"
        },
        "outputId": "3f76073b-faa4-464a-f03f-b2fdd33a9086"
      },
      "execution_count": null,
      "outputs": [
        {
          "output_type": "stream",
          "name": "stdout",
          "text": [
            "Please enter rate 1\n",
            "Please enter intrest 12\n",
            "Please enter time 1\n",
            "1200.0\n"
          ]
        }
      ]
    },
    {
      "cell_type": "code",
      "source": [
        "diff = float(input(\"Enter diffrence of amounts: \"))\n",
        "i1 = float(input(\"Enter rate of interest: \"))\n",
        "i2 = float(input(\"Enter rate of interest: \"))\n",
        "t1 = float(input(\"Enter time in months: \"))\n",
        "t2 = float(input(\"Enter time in months: \"))\n",
        "pri = (diff/((i1*t1)-(i2*t2)))\n",
        "print(pri)"
      ],
      "metadata": {
        "id": "V9jFGfH_Fb72",
        "colab": {
          "base_uri": "https://localhost:8080/"
        },
        "outputId": "8f6372ab-8fbc-4379-e255-13f9082f7fd6"
      },
      "execution_count": null,
      "outputs": [
        {
          "output_type": "stream",
          "name": "stdout",
          "text": [
            "Enter diffrence of amounts: 40\n",
            "Enter rate of interest: 3\n",
            "Enter rate of interest: 6\n",
            "Enter time in months: 5\n",
            "Enter time in months: 4\n",
            "-4.444444444444445\n"
          ]
        }
      ]
    },
    {
      "cell_type": "code",
      "source": [
        "hour = float(input(\"Enter hours: \"))\n",
        "rate = float (input(\"Enter rate: \"))\n",
        "if hour > 40:\n",
        "  pay = (hour*rate+(rate+rate*1.5))\n",
        "else:\n",
        "  pay = (hour*rate)\n",
        "print (\"Pay:\", \"₹\",pay)    "
      ],
      "metadata": {
        "id": "nc8JIkMDj5We",
        "colab": {
          "base_uri": "https://localhost:8080/"
        },
        "outputId": "ca152172-867e-4a59-f2af-5002cfe4538e"
      },
      "execution_count": null,
      "outputs": [
        {
          "output_type": "stream",
          "name": "stdout",
          "text": [
            "Enter hours: 45\n",
            "Enter rate: 10\n",
            "Pay: ₹ 475.0\n"
          ]
        }
      ]
    },
    {
      "cell_type": "code",
      "source": [
        "try:\n",
        "  hour = float(input(\"Enter hours: \"))\n",
        "  rate = float (input(\"Enter rate: \"))\n",
        "  pay = (hour*rate)\n",
        "  print (pay)\n",
        "except ValueError:\n",
        "  print (\"Error, Numerical values only\")\n"
      ],
      "metadata": {
        "id": "uyUGl1pqxYEu",
        "colab": {
          "base_uri": "https://localhost:8080/"
        },
        "outputId": "7460ed6b-9110-4e79-fc2c-fca8d5be3451"
      },
      "execution_count": null,
      "outputs": [
        {
          "output_type": "stream",
          "name": "stdout",
          "text": [
            "Enter hours: 10\n",
            "Enter rate: 2\n",
            "20.0\n"
          ]
        }
      ]
    },
    {
      "cell_type": "code",
      "source": [
        "try:  \n",
        "  grade = float(input(\"Enter score: \"))\n",
        "  if grade >= 0.9 and grade < 1.0 :\n",
        "    print(\"A\")\n",
        "  elif grade >=0.8 and grade <0.9:\n",
        "    print(\"B\")\n",
        "  \n",
        "  elif grade >=0.7 and grade <0.8:\n",
        "    print(\"C\")\n",
        "  elif grade >=0.6 and grade <0.7 :\n",
        "    print(\"B\")\n",
        "  elif grade < 0.6:\n",
        "    print (\"F\")\n",
        "  else:\n",
        "    print (\"Bad Score\")  \n",
        "except ValueError:\n",
        "  print (\"Bad score\")"
      ],
      "metadata": {
        "id": "C_ZX2ZuczMH2",
        "colab": {
          "base_uri": "https://localhost:8080/"
        },
        "outputId": "5b69005e-6a52-4cec-c2c4-af4bf37b58f6"
      },
      "execution_count": null,
      "outputs": [
        {
          "output_type": "stream",
          "name": "stdout",
          "text": [
            "Enter score: 1\n",
            "Bad Score\n"
          ]
        }
      ]
    },
    {
      "cell_type": "code",
      "source": [
        "5 //(4+5) % 4"
      ],
      "metadata": {
        "id": "PKdttAKxNea3",
        "colab": {
          "base_uri": "https://localhost:8080/"
        },
        "outputId": "7cb5426c-0eb3-4713-a4cb-ac20cef5ab59"
      },
      "execution_count": null,
      "outputs": [
        {
          "output_type": "execute_result",
          "data": {
            "text/plain": [
              "0"
            ]
          },
          "metadata": {},
          "execution_count": 19
        }
      ]
    },
    {
      "cell_type": "code",
      "source": [
        "2**(3*3)"
      ],
      "metadata": {
        "id": "U3EUhQRmO1yV",
        "colab": {
          "base_uri": "https://localhost:8080/"
        },
        "outputId": "9ccc1eb5-c412-4503-a159-bacf02449479"
      },
      "execution_count": null,
      "outputs": [
        {
          "output_type": "execute_result",
          "data": {
            "text/plain": [
              "512"
            ]
          },
          "metadata": {},
          "execution_count": 20
        }
      ]
    },
    {
      "cell_type": "code",
      "source": [
        "2^3"
      ],
      "metadata": {
        "colab": {
          "base_uri": "https://localhost:8080/"
        },
        "id": "qhnL8HSVQLjy",
        "outputId": "40074533-026f-4d73-9c1e-6c9939b8c0ab"
      },
      "execution_count": null,
      "outputs": [
        {
          "output_type": "execute_result",
          "data": {
            "text/plain": [
              "1"
            ]
          },
          "metadata": {},
          "execution_count": 21
        }
      ]
    },
    {
      "cell_type": "code",
      "source": [
        "0>1"
      ],
      "metadata": {
        "colab": {
          "base_uri": "https://localhost:8080/"
        },
        "id": "qD4hmfbfR12v",
        "outputId": "7b1e4c02-838b-4f67-de09-5e2e8c1672c4"
      },
      "execution_count": null,
      "outputs": [
        {
          "output_type": "execute_result",
          "data": {
            "text/plain": [
              "False"
            ]
          },
          "metadata": {},
          "execution_count": 22
        }
      ]
    },
    {
      "cell_type": "code",
      "source": [
        "0<1"
      ],
      "metadata": {
        "colab": {
          "base_uri": "https://localhost:8080/"
        },
        "id": "JO1rMyL1R4ta",
        "outputId": "1b7039d8-62f9-4878-e6d4-5c4c58fae908"
      },
      "execution_count": null,
      "outputs": [
        {
          "output_type": "execute_result",
          "data": {
            "text/plain": [
              "True"
            ]
          },
          "metadata": {},
          "execution_count": 23
        }
      ]
    },
    {
      "cell_type": "code",
      "source": [
        "# AND operator - only TRUE and TRUE will become TRUE; all others are False\n",
        "# Or operator  only False and False will become False; all others are True\n",
        "A = True\n",
        "B = True\n",
        "A and B"
      ],
      "metadata": {
        "colab": {
          "base_uri": "https://localhost:8080/"
        },
        "id": "fDPTHNLMSUZ-",
        "outputId": "6aaab4e5-0f0a-4c65-874d-b4bedd96e9d2"
      },
      "execution_count": null,
      "outputs": [
        {
          "output_type": "execute_result",
          "data": {
            "text/plain": [
              "True"
            ]
          },
          "metadata": {},
          "execution_count": 24
        }
      ]
    },
    {
      "cell_type": "code",
      "source": [
        "a = \"Asdfg\"\n",
        "print(len(a))"
      ],
      "metadata": {
        "colab": {
          "base_uri": "https://localhost:8080/"
        },
        "id": "VqrsD9HQVxMd",
        "outputId": "24d8a277-d507-4022-d65d-1d28e0bf1956"
      },
      "execution_count": null,
      "outputs": [
        {
          "output_type": "stream",
          "name": "stdout",
          "text": [
            "5\n"
          ]
        }
      ]
    },
    {
      "cell_type": "code",
      "source": [
        "import this\n"
      ],
      "metadata": {
        "colab": {
          "base_uri": "https://localhost:8080/"
        },
        "id": "_cGn3cBl8lhB",
        "outputId": "c5d6595f-a9f7-46ff-9bf7-f6841686ea3d"
      },
      "execution_count": null,
      "outputs": [
        {
          "output_type": "stream",
          "name": "stdout",
          "text": [
            "The Zen of Python, by Tim Peters\n",
            "\n",
            "Beautiful is better than ugly.\n",
            "Explicit is better than implicit.\n",
            "Simple is better than complex.\n",
            "Complex is better than complicated.\n",
            "Flat is better than nested.\n",
            "Sparse is better than dense.\n",
            "Readability counts.\n",
            "Special cases aren't special enough to break the rules.\n",
            "Although practicality beats purity.\n",
            "Errors should never pass silently.\n",
            "Unless explicitly silenced.\n",
            "In the face of ambiguity, refuse the temptation to guess.\n",
            "There should be one-- and preferably only one --obvious way to do it.\n",
            "Although that way may not be obvious at first unless you're Dutch.\n",
            "Now is better than never.\n",
            "Although never is often better than *right* now.\n",
            "If the implementation is hard to explain, it's a bad idea.\n",
            "If the implementation is easy to explain, it may be a good idea.\n",
            "Namespaces are one honking great idea -- let's do more of those!\n"
          ]
        }
      ]
    },
    {
      "cell_type": "code",
      "source": [
        "if 4>0 :\n",
        "  print (\"the first no is greater than the second\")\n",
        "else:\n",
        "  print (\"the second no is greater than the first\")\n",
        "  "
      ],
      "metadata": {
        "id": "ICHv5kZE-D8G"
      },
      "execution_count": null,
      "outputs": []
    },
    {
      "cell_type": "code",
      "source": [
        "mark = 78\n",
        "if mark < 40:\n",
        "  print (\"fail\")\n",
        "else:\n",
        "  if mark > 40 and mark <80:\n",
        "    print (\"B\")\n",
        "  else:\n",
        "    print (\"A\")  \n"
      ],
      "metadata": {
        "colab": {
          "base_uri": "https://localhost:8080/"
        },
        "id": "6vKR8ygXBD9m",
        "outputId": "9cd02f90-a732-4f15-b5f8-50a6013a07d7"
      },
      "execution_count": null,
      "outputs": [
        {
          "output_type": "stream",
          "name": "stdout",
          "text": [
            "B\n"
          ]
        }
      ]
    },
    {
      "cell_type": "code",
      "source": [
        "yr = input(\"Please enter an year: \")\n",
        "if len(yr) > 4:\n",
        "  print (\"Enter a geniune year\")\n",
        "else:  \n",
        "  rsn = int(yr) % 4\n",
        "  if rsn == 0 :\n",
        "    print (\"The year is leap\")\n",
        "  else:\n",
        "    print (\"The year is non leap\")  "
      ],
      "metadata": {
        "colab": {
          "base_uri": "https://localhost:8080/"
        },
        "id": "jTAwUqJNW3mH",
        "outputId": "3b06c6ea-effa-4a95-cd56-69e27936c3a2"
      },
      "execution_count": null,
      "outputs": [
        {
          "output_type": "stream",
          "name": "stdout",
          "text": [
            "Please enter an year: 2008\n",
            "The year is leap\n"
          ]
        }
      ]
    }
  ]
}