{
  "nbformat": 4,
  "nbformat_minor": 0,
  "metadata": {
    "colab": {
      "name": "Shark_Tank.ipynb",
      "provenance": [],
      "collapsed_sections": [],
      "authorship_tag": "ABX9TyP8qzXkjBDKVKgRdi172kGt",
      "include_colab_link": true
    },
    "kernelspec": {
      "name": "python3",
      "display_name": "Python 3"
    },
    "language_info": {
      "name": "python"
    }
  },
  "cells": [
    {
      "cell_type": "markdown",
      "metadata": {
        "id": "view-in-github",
        "colab_type": "text"
      },
      "source": [
        "<a href=\"https://colab.research.google.com/github/Advitiya0408/data/blob/main/Shark_Tank.ipynb\" target=\"_parent\"><img src=\"https://colab.research.google.com/assets/colab-badge.svg\" alt=\"Open In Colab\"/></a>"
      ]
    },
    {
      "cell_type": "markdown",
      "source": [
        "<h1>These are comments</h1>\n",
        "<p>Key 1 is possitive value in absent or present/invested/not invested</p>\n",
        "<p> Here 0 and 1 behave like boolean data set for values like present / absent , invested/not invested, deal/no deal etc.</p> "
      ],
      "metadata": {
        "id": "YdZv_OicZAe5"
      }
    },
    {
      "cell_type": "code",
      "execution_count": null,
      "metadata": {
        "id": "VudSrDxJ3RPi"
      },
      "outputs": [],
      "source": [
        "import numpy as np \n",
        "import pandas as pd\n",
        "import matplotlib.pyplot as plt\n",
        "import seaborn as sns\n",
        "import warnings\n",
        "warnings.filterwarnings('ignore')"
      ]
    },
    {
      "cell_type": "markdown",
      "source": [
        "\n",
        "<h3>Why import a library as lib</h3>\n",
        "<p> This is to make it shorter to write and easier to interpret</p>\n",
        "<label> Libaries used Here</label>\n",
        "<body> \n",
        "<p>Numpy create arrays</p>\n",
        "<p>Pandas Read data</p>\n",
        "<p> matplot to create graphs </p>\n",
        "<p>seaborn is for visualizations</p>\n",
        "<p>Warnings are to exclude errors</p>"
      ],
      "metadata": {
        "id": "7lsNQHFBaanP"
      }
    },
    {
      "cell_type": "code",
      "source": [
        "from google.colab import files\n",
        "uploaded = files.upload()         #From the library of google we import files class and call upload function\n",
        "import io\n",
        "data = pd.read_csv(\"Shark_Tank_India_S1.csv\")\n"
      ],
      "metadata": {
        "id": "ebHcaqFR4abj",
        "colab": {
          "resources": {
            "http://localhost:8080/nbextensions/google.colab/files.js": {
              "data": "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",
              "ok": true,
              "headers": [
                [
                  "content-type",
                  "application/javascript"
                ]
              ],
              "status": 200,
              "status_text": ""
            }
          },
          "base_uri": "https://localhost:8080/",
          "height": 76
        },
        "outputId": "212006a3-6ff7-44e0-b7bd-ef5e78b355aa"
      },
      "execution_count": null,
      "outputs": [
        {
          "output_type": "display_data",
          "data": {
            "text/plain": [
              "<IPython.core.display.HTML object>"
            ],
            "text/html": [
              "\n",
              "     <input type=\"file\" id=\"files-d7323a5a-a009-4398-b29c-bb81ddc652a8\" name=\"files[]\" multiple disabled\n",
              "        style=\"border:none\" />\n",
              "     <output id=\"result-d7323a5a-a009-4398-b29c-bb81ddc652a8\">\n",
              "      Upload widget is only available when the cell has been executed in the\n",
              "      current browser session. Please rerun this cell to enable.\n",
              "      </output>\n",
              "      <script src=\"/nbextensions/google.colab/files.js\"></script> "
            ]
          },
          "metadata": {}
        },
        {
          "output_type": "stream",
          "name": "stdout",
          "text": [
            "Saving Shark_Tank_India_S1.csv to Shark_Tank_India_S1.csv\n"
          ]
        }
      ]
    },
    {
      "cell_type": "markdown",
      "source": [
        "<div class=\"container float my-3\">\n",
        "<img class=\"d-block w-100 my-4 px=7000 img-center\" src=\"https://images.hindustantimes.com/img/2022/02/03/550x309/shark-tank-india-investors-or-judges_1643910157085_1643910173945.jpg\">\n",
        "<h1>This is Shark Tank India Season 1</h1>\n",
        "</div>\n",
        "<p>In The Show people pitch their ideas to get investment All the sharks were not present for all the episodes and not all won the investment So the details of these are given below</p> "
      ],
      "metadata": {
        "id": "abFOmqMq1IDl"
      }
    },
    {
      "cell_type": "code",
      "source": [
        "data #prints the data read above"
      ],
      "metadata": {
        "colab": {
          "base_uri": "https://localhost:8080/",
          "height": 748
        },
        "id": "LVci5z2J5ZnC",
        "outputId": "3d8e5117-aa52-4520-b8d2-66f8896bf93f"
      },
      "execution_count": null,
      "outputs": [
        {
          "output_type": "execute_result",
          "data": {
            "text/plain": [
              "     episode_number  startup_number           brand_name  \\\n",
              "0                 1               1  BluePine Industries   \n",
              "1                 1               2        Booz scooters   \n",
              "2                 1               3  Heart up my Sleeves   \n",
              "3                 2               4           Tagz Foods   \n",
              "4                 2               5       Head and Heart   \n",
              "..              ...             ...                  ...   \n",
              "116              35             117         Elcare India   \n",
              "117              36             118             Sneakare   \n",
              "118              36             119         French Crown   \n",
              "119              36             120       Store My Goods   \n",
              "120              36             121             Devnagri   \n",
              "\n",
              "                                       description  deal_offered  \\\n",
              "0                                     Frozen Momos             1   \n",
              "1    Renting e-bike for mobility in private spaces             1   \n",
              "2                               Detachable Sleeves             1   \n",
              "3                             Healthy Potato Chips             1   \n",
              "4                         Brain Development Course             0   \n",
              "..                                             ...           ...   \n",
              "116                           Carenting for Elders             0   \n",
              "117                Shoe care and storage solutions             1   \n",
              "118                              Clothing Industry             0   \n",
              "119                              Storage solutions             1   \n",
              "120                           Translation platform             0   \n",
              "\n",
              "     startup_ask_amount_lakhs  startup_ask_percentage  startup_ask_valuation  \\\n",
              "0                        50.0                    5.00                1000.00   \n",
              "1                        40.0                   15.00                 266.67   \n",
              "2                        25.0                   10.00                 250.00   \n",
              "3                        70.0                    1.00                7000.00   \n",
              "4                        50.0                    5.00                1000.00   \n",
              "..                        ...                     ...                    ...   \n",
              "116                     100.0                    2.50                4000.00   \n",
              "117                      20.0                    5.00                 400.00   \n",
              "118                     150.0                    0.33               45000.00   \n",
              "119                     100.0                    1.75                5714.00   \n",
              "120                     100.0                    1.00               10000.00   \n",
              "\n",
              "     deal_amount_lakhs  deal_equity  ...  ghazal_invested  namita_present  \\\n",
              "0                 75.0        16.00  ...                0               1   \n",
              "1                 40.0        50.00  ...                0               1   \n",
              "2                 25.0        30.00  ...                0               1   \n",
              "3                 70.0         2.75  ...                0               1   \n",
              "4                  0.0         0.00  ...                0               1   \n",
              "..                 ...          ...  ...              ...             ...   \n",
              "116                0.0         0.00  ...                0               1   \n",
              "117               21.0        12.00  ...                0               1   \n",
              "118                0.0         0.00  ...                0               1   \n",
              "119              100.0         4.00  ...                0               1   \n",
              "120                0.0         0.00  ...                0               1   \n",
              "\n",
              "     namita_invested  peyush_present  peyush_invested  vineeta_present  \\\n",
              "0                  0               0                0                1   \n",
              "1                  0               0                0                1   \n",
              "2                  0               0                0                1   \n",
              "3                  0               0                0                1   \n",
              "4                  0               0                0                1   \n",
              "..               ...             ...              ...              ...   \n",
              "116                0               1                0                1   \n",
              "117                1               1                0                1   \n",
              "118                0               1                0                1   \n",
              "119                1               1                1                1   \n",
              "120                0               1                0                1   \n",
              "\n",
              "     vineeta_invested  sharks_offering  amount_per_shark  equity_per_shark  \n",
              "0                   1                3              25.0          5.333333  \n",
              "1                   1                2              20.0         25.000000  \n",
              "2                   1                2              12.5         15.000000  \n",
              "3                   0                1              70.0          2.750000  \n",
              "4                   0                0               0.0          0.000000  \n",
              "..                ...              ...               ...               ...  \n",
              "116                 0                0               0.0          0.000000  \n",
              "117                 1                3               7.0          4.000000  \n",
              "118                 0                0               0.0          0.000000  \n",
              "119                 0                2              50.0          2.000000  \n",
              "120                 0                0               0.0          0.000000  \n",
              "\n",
              "[121 rows x 32 columns]"
            ],
            "text/html": [
              "\n",
              "  <div id=\"df-de93d1f3-c53f-49f7-9a39-bcb08041cad1\">\n",
              "    <div class=\"colab-df-container\">\n",
              "      <div>\n",
              "<style scoped>\n",
              "    .dataframe tbody tr th:only-of-type {\n",
              "        vertical-align: middle;\n",
              "    }\n",
              "\n",
              "    .dataframe tbody tr th {\n",
              "        vertical-align: top;\n",
              "    }\n",
              "\n",
              "    .dataframe thead th {\n",
              "        text-align: right;\n",
              "    }\n",
              "</style>\n",
              "<table border=\"1\" class=\"dataframe\">\n",
              "  <thead>\n",
              "    <tr style=\"text-align: right;\">\n",
              "      <th></th>\n",
              "      <th>episode_number</th>\n",
              "      <th>startup_number</th>\n",
              "      <th>brand_name</th>\n",
              "      <th>description</th>\n",
              "      <th>deal_offered</th>\n",
              "      <th>startup_ask_amount_lakhs</th>\n",
              "      <th>startup_ask_percentage</th>\n",
              "      <th>startup_ask_valuation</th>\n",
              "      <th>deal_amount_lakhs</th>\n",
              "      <th>deal_equity</th>\n",
              "      <th>...</th>\n",
              "      <th>ghazal_invested</th>\n",
              "      <th>namita_present</th>\n",
              "      <th>namita_invested</th>\n",
              "      <th>peyush_present</th>\n",
              "      <th>peyush_invested</th>\n",
              "      <th>vineeta_present</th>\n",
              "      <th>vineeta_invested</th>\n",
              "      <th>sharks_offering</th>\n",
              "      <th>amount_per_shark</th>\n",
              "      <th>equity_per_shark</th>\n",
              "    </tr>\n",
              "  </thead>\n",
              "  <tbody>\n",
              "    <tr>\n",
              "      <th>0</th>\n",
              "      <td>1</td>\n",
              "      <td>1</td>\n",
              "      <td>BluePine Industries</td>\n",
              "      <td>Frozen Momos</td>\n",
              "      <td>1</td>\n",
              "      <td>50.0</td>\n",
              "      <td>5.00</td>\n",
              "      <td>1000.00</td>\n",
              "      <td>75.0</td>\n",
              "      <td>16.00</td>\n",
              "      <td>...</td>\n",
              "      <td>0</td>\n",
              "      <td>1</td>\n",
              "      <td>0</td>\n",
              "      <td>0</td>\n",
              "      <td>0</td>\n",
              "      <td>1</td>\n",
              "      <td>1</td>\n",
              "      <td>3</td>\n",
              "      <td>25.0</td>\n",
              "      <td>5.333333</td>\n",
              "    </tr>\n",
              "    <tr>\n",
              "      <th>1</th>\n",
              "      <td>1</td>\n",
              "      <td>2</td>\n",
              "      <td>Booz scooters</td>\n",
              "      <td>Renting e-bike for mobility in private spaces</td>\n",
              "      <td>1</td>\n",
              "      <td>40.0</td>\n",
              "      <td>15.00</td>\n",
              "      <td>266.67</td>\n",
              "      <td>40.0</td>\n",
              "      <td>50.00</td>\n",
              "      <td>...</td>\n",
              "      <td>0</td>\n",
              "      <td>1</td>\n",
              "      <td>0</td>\n",
              "      <td>0</td>\n",
              "      <td>0</td>\n",
              "      <td>1</td>\n",
              "      <td>1</td>\n",
              "      <td>2</td>\n",
              "      <td>20.0</td>\n",
              "      <td>25.000000</td>\n",
              "    </tr>\n",
              "    <tr>\n",
              "      <th>2</th>\n",
              "      <td>1</td>\n",
              "      <td>3</td>\n",
              "      <td>Heart up my Sleeves</td>\n",
              "      <td>Detachable Sleeves</td>\n",
              "      <td>1</td>\n",
              "      <td>25.0</td>\n",
              "      <td>10.00</td>\n",
              "      <td>250.00</td>\n",
              "      <td>25.0</td>\n",
              "      <td>30.00</td>\n",
              "      <td>...</td>\n",
              "      <td>0</td>\n",
              "      <td>1</td>\n",
              "      <td>0</td>\n",
              "      <td>0</td>\n",
              "      <td>0</td>\n",
              "      <td>1</td>\n",
              "      <td>1</td>\n",
              "      <td>2</td>\n",
              "      <td>12.5</td>\n",
              "      <td>15.000000</td>\n",
              "    </tr>\n",
              "    <tr>\n",
              "      <th>3</th>\n",
              "      <td>2</td>\n",
              "      <td>4</td>\n",
              "      <td>Tagz Foods</td>\n",
              "      <td>Healthy Potato Chips</td>\n",
              "      <td>1</td>\n",
              "      <td>70.0</td>\n",
              "      <td>1.00</td>\n",
              "      <td>7000.00</td>\n",
              "      <td>70.0</td>\n",
              "      <td>2.75</td>\n",
              "      <td>...</td>\n",
              "      <td>0</td>\n",
              "      <td>1</td>\n",
              "      <td>0</td>\n",
              "      <td>0</td>\n",
              "      <td>0</td>\n",
              "      <td>1</td>\n",
              "      <td>0</td>\n",
              "      <td>1</td>\n",
              "      <td>70.0</td>\n",
              "      <td>2.750000</td>\n",
              "    </tr>\n",
              "    <tr>\n",
              "      <th>4</th>\n",
              "      <td>2</td>\n",
              "      <td>5</td>\n",
              "      <td>Head and Heart</td>\n",
              "      <td>Brain Development Course</td>\n",
              "      <td>0</td>\n",
              "      <td>50.0</td>\n",
              "      <td>5.00</td>\n",
              "      <td>1000.00</td>\n",
              "      <td>0.0</td>\n",
              "      <td>0.00</td>\n",
              "      <td>...</td>\n",
              "      <td>0</td>\n",
              "      <td>1</td>\n",
              "      <td>0</td>\n",
              "      <td>0</td>\n",
              "      <td>0</td>\n",
              "      <td>1</td>\n",
              "      <td>0</td>\n",
              "      <td>0</td>\n",
              "      <td>0.0</td>\n",
              "      <td>0.000000</td>\n",
              "    </tr>\n",
              "    <tr>\n",
              "      <th>...</th>\n",
              "      <td>...</td>\n",
              "      <td>...</td>\n",
              "      <td>...</td>\n",
              "      <td>...</td>\n",
              "      <td>...</td>\n",
              "      <td>...</td>\n",
              "      <td>...</td>\n",
              "      <td>...</td>\n",
              "      <td>...</td>\n",
              "      <td>...</td>\n",
              "      <td>...</td>\n",
              "      <td>...</td>\n",
              "      <td>...</td>\n",
              "      <td>...</td>\n",
              "      <td>...</td>\n",
              "      <td>...</td>\n",
              "      <td>...</td>\n",
              "      <td>...</td>\n",
              "      <td>...</td>\n",
              "      <td>...</td>\n",
              "      <td>...</td>\n",
              "    </tr>\n",
              "    <tr>\n",
              "      <th>116</th>\n",
              "      <td>35</td>\n",
              "      <td>117</td>\n",
              "      <td>Elcare India</td>\n",
              "      <td>Carenting for Elders</td>\n",
              "      <td>0</td>\n",
              "      <td>100.0</td>\n",
              "      <td>2.50</td>\n",
              "      <td>4000.00</td>\n",
              "      <td>0.0</td>\n",
              "      <td>0.00</td>\n",
              "      <td>...</td>\n",
              "      <td>0</td>\n",
              "      <td>1</td>\n",
              "      <td>0</td>\n",
              "      <td>1</td>\n",
              "      <td>0</td>\n",
              "      <td>1</td>\n",
              "      <td>0</td>\n",
              "      <td>0</td>\n",
              "      <td>0.0</td>\n",
              "      <td>0.000000</td>\n",
              "    </tr>\n",
              "    <tr>\n",
              "      <th>117</th>\n",
              "      <td>36</td>\n",
              "      <td>118</td>\n",
              "      <td>Sneakare</td>\n",
              "      <td>Shoe care and storage solutions</td>\n",
              "      <td>1</td>\n",
              "      <td>20.0</td>\n",
              "      <td>5.00</td>\n",
              "      <td>400.00</td>\n",
              "      <td>21.0</td>\n",
              "      <td>12.00</td>\n",
              "      <td>...</td>\n",
              "      <td>0</td>\n",
              "      <td>1</td>\n",
              "      <td>1</td>\n",
              "      <td>1</td>\n",
              "      <td>0</td>\n",
              "      <td>1</td>\n",
              "      <td>1</td>\n",
              "      <td>3</td>\n",
              "      <td>7.0</td>\n",
              "      <td>4.000000</td>\n",
              "    </tr>\n",
              "    <tr>\n",
              "      <th>118</th>\n",
              "      <td>36</td>\n",
              "      <td>119</td>\n",
              "      <td>French Crown</td>\n",
              "      <td>Clothing Industry</td>\n",
              "      <td>0</td>\n",
              "      <td>150.0</td>\n",
              "      <td>0.33</td>\n",
              "      <td>45000.00</td>\n",
              "      <td>0.0</td>\n",
              "      <td>0.00</td>\n",
              "      <td>...</td>\n",
              "      <td>0</td>\n",
              "      <td>1</td>\n",
              "      <td>0</td>\n",
              "      <td>1</td>\n",
              "      <td>0</td>\n",
              "      <td>1</td>\n",
              "      <td>0</td>\n",
              "      <td>0</td>\n",
              "      <td>0.0</td>\n",
              "      <td>0.000000</td>\n",
              "    </tr>\n",
              "    <tr>\n",
              "      <th>119</th>\n",
              "      <td>36</td>\n",
              "      <td>120</td>\n",
              "      <td>Store My Goods</td>\n",
              "      <td>Storage solutions</td>\n",
              "      <td>1</td>\n",
              "      <td>100.0</td>\n",
              "      <td>1.75</td>\n",
              "      <td>5714.00</td>\n",
              "      <td>100.0</td>\n",
              "      <td>4.00</td>\n",
              "      <td>...</td>\n",
              "      <td>0</td>\n",
              "      <td>1</td>\n",
              "      <td>1</td>\n",
              "      <td>1</td>\n",
              "      <td>1</td>\n",
              "      <td>1</td>\n",
              "      <td>0</td>\n",
              "      <td>2</td>\n",
              "      <td>50.0</td>\n",
              "      <td>2.000000</td>\n",
              "    </tr>\n",
              "    <tr>\n",
              "      <th>120</th>\n",
              "      <td>36</td>\n",
              "      <td>121</td>\n",
              "      <td>Devnagri</td>\n",
              "      <td>Translation platform</td>\n",
              "      <td>0</td>\n",
              "      <td>100.0</td>\n",
              "      <td>1.00</td>\n",
              "      <td>10000.00</td>\n",
              "      <td>0.0</td>\n",
              "      <td>0.00</td>\n",
              "      <td>...</td>\n",
              "      <td>0</td>\n",
              "      <td>1</td>\n",
              "      <td>0</td>\n",
              "      <td>1</td>\n",
              "      <td>0</td>\n",
              "      <td>1</td>\n",
              "      <td>0</td>\n",
              "      <td>0</td>\n",
              "      <td>0.0</td>\n",
              "      <td>0.000000</td>\n",
              "    </tr>\n",
              "  </tbody>\n",
              "</table>\n",
              "<p>121 rows × 32 columns</p>\n",
              "</div>\n",
              "      <button class=\"colab-df-convert\" onclick=\"convertToInteractive('df-de93d1f3-c53f-49f7-9a39-bcb08041cad1')\"\n",
              "              title=\"Convert this dataframe to an interactive table.\"\n",
              "              style=\"display:none;\">\n",
              "        \n",
              "  <svg xmlns=\"http://www.w3.org/2000/svg\" height=\"24px\"viewBox=\"0 0 24 24\"\n",
              "       width=\"24px\">\n",
              "    <path d=\"M0 0h24v24H0V0z\" fill=\"none\"/>\n",
              "    <path d=\"M18.56 5.44l.94 2.06.94-2.06 2.06-.94-2.06-.94-.94-2.06-.94 2.06-2.06.94zm-11 1L8.5 8.5l.94-2.06 2.06-.94-2.06-.94L8.5 2.5l-.94 2.06-2.06.94zm10 10l.94 2.06.94-2.06 2.06-.94-2.06-.94-.94-2.06-.94 2.06-2.06.94z\"/><path d=\"M17.41 7.96l-1.37-1.37c-.4-.4-.92-.59-1.43-.59-.52 0-1.04.2-1.43.59L10.3 9.45l-7.72 7.72c-.78.78-.78 2.05 0 2.83L4 21.41c.39.39.9.59 1.41.59.51 0 1.02-.2 1.41-.59l7.78-7.78 2.81-2.81c.8-.78.8-2.07 0-2.86zM5.41 20L4 18.59l7.72-7.72 1.47 1.35L5.41 20z\"/>\n",
              "  </svg>\n",
              "      </button>\n",
              "      \n",
              "  <style>\n",
              "    .colab-df-container {\n",
              "      display:flex;\n",
              "      flex-wrap:wrap;\n",
              "      gap: 12px;\n",
              "    }\n",
              "\n",
              "    .colab-df-convert {\n",
              "      background-color: #E8F0FE;\n",
              "      border: none;\n",
              "      border-radius: 50%;\n",
              "      cursor: pointer;\n",
              "      display: none;\n",
              "      fill: #1967D2;\n",
              "      height: 32px;\n",
              "      padding: 0 0 0 0;\n",
              "      width: 32px;\n",
              "    }\n",
              "\n",
              "    .colab-df-convert:hover {\n",
              "      background-color: #E2EBFA;\n",
              "      box-shadow: 0px 1px 2px rgba(60, 64, 67, 0.3), 0px 1px 3px 1px rgba(60, 64, 67, 0.15);\n",
              "      fill: #174EA6;\n",
              "    }\n",
              "\n",
              "    [theme=dark] .colab-df-convert {\n",
              "      background-color: #3B4455;\n",
              "      fill: #D2E3FC;\n",
              "    }\n",
              "\n",
              "    [theme=dark] .colab-df-convert:hover {\n",
              "      background-color: #434B5C;\n",
              "      box-shadow: 0px 1px 3px 1px rgba(0, 0, 0, 0.15);\n",
              "      filter: drop-shadow(0px 1px 2px rgba(0, 0, 0, 0.3));\n",
              "      fill: #FFFFFF;\n",
              "    }\n",
              "  </style>\n",
              "\n",
              "      <script>\n",
              "        const buttonEl =\n",
              "          document.querySelector('#df-de93d1f3-c53f-49f7-9a39-bcb08041cad1 button.colab-df-convert');\n",
              "        buttonEl.style.display =\n",
              "          google.colab.kernel.accessAllowed ? 'block' : 'none';\n",
              "\n",
              "        async function convertToInteractive(key) {\n",
              "          const element = document.querySelector('#df-de93d1f3-c53f-49f7-9a39-bcb08041cad1');\n",
              "          const dataTable =\n",
              "            await google.colab.kernel.invokeFunction('convertToInteractive',\n",
              "                                                     [key], {});\n",
              "          if (!dataTable) return;\n",
              "\n",
              "          const docLinkHtml = 'Like what you see? Visit the ' +\n",
              "            '<a target=\"_blank\" href=https://colab.research.google.com/notebooks/data_table.ipynb>data table notebook</a>'\n",
              "            + ' to learn more about interactive tables.';\n",
              "          element.innerHTML = '';\n",
              "          dataTable['output_type'] = 'display_data';\n",
              "          await google.colab.output.renderOutput(dataTable, element);\n",
              "          const docLink = document.createElement('div');\n",
              "          docLink.innerHTML = docLinkHtml;\n",
              "          element.appendChild(docLink);\n",
              "        }\n",
              "      </script>\n",
              "    </div>\n",
              "  </div>\n",
              "  "
            ]
          },
          "metadata": {},
          "execution_count": 3
        }
      ]
    },
    {
      "cell_type": "code",
      "source": [
        "data.head() #reads in the range 0,5"
      ],
      "metadata": {
        "colab": {
          "base_uri": "https://localhost:8080/",
          "height": 456
        },
        "id": "hllgQnj659-C",
        "outputId": "caea5c3a-e986-48de-fdde-6102fd498f71"
      },
      "execution_count": null,
      "outputs": [
        {
          "output_type": "execute_result",
          "data": {
            "text/plain": [
              "   episode_number  startup_number           brand_name  \\\n",
              "0               1               1  BluePine Industries   \n",
              "1               1               2        Booz scooters   \n",
              "2               1               3  Heart up my Sleeves   \n",
              "3               2               4           Tagz Foods   \n",
              "4               2               5       Head and Heart   \n",
              "\n",
              "                                     description  deal_offered  \\\n",
              "0                                   Frozen Momos             1   \n",
              "1  Renting e-bike for mobility in private spaces             1   \n",
              "2                             Detachable Sleeves             1   \n",
              "3                           Healthy Potato Chips             1   \n",
              "4                       Brain Development Course             0   \n",
              "\n",
              "   startup_ask_amount_lakhs  startup_ask_percentage  startup_ask_valuation  \\\n",
              "0                      50.0                     5.0                1000.00   \n",
              "1                      40.0                    15.0                 266.67   \n",
              "2                      25.0                    10.0                 250.00   \n",
              "3                      70.0                     1.0                7000.00   \n",
              "4                      50.0                     5.0                1000.00   \n",
              "\n",
              "   deal_amount_lakhs  deal_equity  ...  ghazal_invested  namita_present  \\\n",
              "0               75.0        16.00  ...                0               1   \n",
              "1               40.0        50.00  ...                0               1   \n",
              "2               25.0        30.00  ...                0               1   \n",
              "3               70.0         2.75  ...                0               1   \n",
              "4                0.0         0.00  ...                0               1   \n",
              "\n",
              "   namita_invested  peyush_present  peyush_invested  vineeta_present  \\\n",
              "0                0               0                0                1   \n",
              "1                0               0                0                1   \n",
              "2                0               0                0                1   \n",
              "3                0               0                0                1   \n",
              "4                0               0                0                1   \n",
              "\n",
              "   vineeta_invested  sharks_offering  amount_per_shark  equity_per_shark  \n",
              "0                 1                3              25.0          5.333333  \n",
              "1                 1                2              20.0         25.000000  \n",
              "2                 1                2              12.5         15.000000  \n",
              "3                 0                1              70.0          2.750000  \n",
              "4                 0                0               0.0          0.000000  \n",
              "\n",
              "[5 rows x 32 columns]"
            ],
            "text/html": [
              "\n",
              "  <div id=\"df-679957cb-e282-4847-bc48-3fe4b27fcb66\">\n",
              "    <div class=\"colab-df-container\">\n",
              "      <div>\n",
              "<style scoped>\n",
              "    .dataframe tbody tr th:only-of-type {\n",
              "        vertical-align: middle;\n",
              "    }\n",
              "\n",
              "    .dataframe tbody tr th {\n",
              "        vertical-align: top;\n",
              "    }\n",
              "\n",
              "    .dataframe thead th {\n",
              "        text-align: right;\n",
              "    }\n",
              "</style>\n",
              "<table border=\"1\" class=\"dataframe\">\n",
              "  <thead>\n",
              "    <tr style=\"text-align: right;\">\n",
              "      <th></th>\n",
              "      <th>episode_number</th>\n",
              "      <th>startup_number</th>\n",
              "      <th>brand_name</th>\n",
              "      <th>description</th>\n",
              "      <th>deal_offered</th>\n",
              "      <th>startup_ask_amount_lakhs</th>\n",
              "      <th>startup_ask_percentage</th>\n",
              "      <th>startup_ask_valuation</th>\n",
              "      <th>deal_amount_lakhs</th>\n",
              "      <th>deal_equity</th>\n",
              "      <th>...</th>\n",
              "      <th>ghazal_invested</th>\n",
              "      <th>namita_present</th>\n",
              "      <th>namita_invested</th>\n",
              "      <th>peyush_present</th>\n",
              "      <th>peyush_invested</th>\n",
              "      <th>vineeta_present</th>\n",
              "      <th>vineeta_invested</th>\n",
              "      <th>sharks_offering</th>\n",
              "      <th>amount_per_shark</th>\n",
              "      <th>equity_per_shark</th>\n",
              "    </tr>\n",
              "  </thead>\n",
              "  <tbody>\n",
              "    <tr>\n",
              "      <th>0</th>\n",
              "      <td>1</td>\n",
              "      <td>1</td>\n",
              "      <td>BluePine Industries</td>\n",
              "      <td>Frozen Momos</td>\n",
              "      <td>1</td>\n",
              "      <td>50.0</td>\n",
              "      <td>5.0</td>\n",
              "      <td>1000.00</td>\n",
              "      <td>75.0</td>\n",
              "      <td>16.00</td>\n",
              "      <td>...</td>\n",
              "      <td>0</td>\n",
              "      <td>1</td>\n",
              "      <td>0</td>\n",
              "      <td>0</td>\n",
              "      <td>0</td>\n",
              "      <td>1</td>\n",
              "      <td>1</td>\n",
              "      <td>3</td>\n",
              "      <td>25.0</td>\n",
              "      <td>5.333333</td>\n",
              "    </tr>\n",
              "    <tr>\n",
              "      <th>1</th>\n",
              "      <td>1</td>\n",
              "      <td>2</td>\n",
              "      <td>Booz scooters</td>\n",
              "      <td>Renting e-bike for mobility in private spaces</td>\n",
              "      <td>1</td>\n",
              "      <td>40.0</td>\n",
              "      <td>15.0</td>\n",
              "      <td>266.67</td>\n",
              "      <td>40.0</td>\n",
              "      <td>50.00</td>\n",
              "      <td>...</td>\n",
              "      <td>0</td>\n",
              "      <td>1</td>\n",
              "      <td>0</td>\n",
              "      <td>0</td>\n",
              "      <td>0</td>\n",
              "      <td>1</td>\n",
              "      <td>1</td>\n",
              "      <td>2</td>\n",
              "      <td>20.0</td>\n",
              "      <td>25.000000</td>\n",
              "    </tr>\n",
              "    <tr>\n",
              "      <th>2</th>\n",
              "      <td>1</td>\n",
              "      <td>3</td>\n",
              "      <td>Heart up my Sleeves</td>\n",
              "      <td>Detachable Sleeves</td>\n",
              "      <td>1</td>\n",
              "      <td>25.0</td>\n",
              "      <td>10.0</td>\n",
              "      <td>250.00</td>\n",
              "      <td>25.0</td>\n",
              "      <td>30.00</td>\n",
              "      <td>...</td>\n",
              "      <td>0</td>\n",
              "      <td>1</td>\n",
              "      <td>0</td>\n",
              "      <td>0</td>\n",
              "      <td>0</td>\n",
              "      <td>1</td>\n",
              "      <td>1</td>\n",
              "      <td>2</td>\n",
              "      <td>12.5</td>\n",
              "      <td>15.000000</td>\n",
              "    </tr>\n",
              "    <tr>\n",
              "      <th>3</th>\n",
              "      <td>2</td>\n",
              "      <td>4</td>\n",
              "      <td>Tagz Foods</td>\n",
              "      <td>Healthy Potato Chips</td>\n",
              "      <td>1</td>\n",
              "      <td>70.0</td>\n",
              "      <td>1.0</td>\n",
              "      <td>7000.00</td>\n",
              "      <td>70.0</td>\n",
              "      <td>2.75</td>\n",
              "      <td>...</td>\n",
              "      <td>0</td>\n",
              "      <td>1</td>\n",
              "      <td>0</td>\n",
              "      <td>0</td>\n",
              "      <td>0</td>\n",
              "      <td>1</td>\n",
              "      <td>0</td>\n",
              "      <td>1</td>\n",
              "      <td>70.0</td>\n",
              "      <td>2.750000</td>\n",
              "    </tr>\n",
              "    <tr>\n",
              "      <th>4</th>\n",
              "      <td>2</td>\n",
              "      <td>5</td>\n",
              "      <td>Head and Heart</td>\n",
              "      <td>Brain Development Course</td>\n",
              "      <td>0</td>\n",
              "      <td>50.0</td>\n",
              "      <td>5.0</td>\n",
              "      <td>1000.00</td>\n",
              "      <td>0.0</td>\n",
              "      <td>0.00</td>\n",
              "      <td>...</td>\n",
              "      <td>0</td>\n",
              "      <td>1</td>\n",
              "      <td>0</td>\n",
              "      <td>0</td>\n",
              "      <td>0</td>\n",
              "      <td>1</td>\n",
              "      <td>0</td>\n",
              "      <td>0</td>\n",
              "      <td>0.0</td>\n",
              "      <td>0.000000</td>\n",
              "    </tr>\n",
              "  </tbody>\n",
              "</table>\n",
              "<p>5 rows × 32 columns</p>\n",
              "</div>\n",
              "      <button class=\"colab-df-convert\" onclick=\"convertToInteractive('df-679957cb-e282-4847-bc48-3fe4b27fcb66')\"\n",
              "              title=\"Convert this dataframe to an interactive table.\"\n",
              "              style=\"display:none;\">\n",
              "        \n",
              "  <svg xmlns=\"http://www.w3.org/2000/svg\" height=\"24px\"viewBox=\"0 0 24 24\"\n",
              "       width=\"24px\">\n",
              "    <path d=\"M0 0h24v24H0V0z\" fill=\"none\"/>\n",
              "    <path d=\"M18.56 5.44l.94 2.06.94-2.06 2.06-.94-2.06-.94-.94-2.06-.94 2.06-2.06.94zm-11 1L8.5 8.5l.94-2.06 2.06-.94-2.06-.94L8.5 2.5l-.94 2.06-2.06.94zm10 10l.94 2.06.94-2.06 2.06-.94-2.06-.94-.94-2.06-.94 2.06-2.06.94z\"/><path d=\"M17.41 7.96l-1.37-1.37c-.4-.4-.92-.59-1.43-.59-.52 0-1.04.2-1.43.59L10.3 9.45l-7.72 7.72c-.78.78-.78 2.05 0 2.83L4 21.41c.39.39.9.59 1.41.59.51 0 1.02-.2 1.41-.59l7.78-7.78 2.81-2.81c.8-.78.8-2.07 0-2.86zM5.41 20L4 18.59l7.72-7.72 1.47 1.35L5.41 20z\"/>\n",
              "  </svg>\n",
              "      </button>\n",
              "      \n",
              "  <style>\n",
              "    .colab-df-container {\n",
              "      display:flex;\n",
              "      flex-wrap:wrap;\n",
              "      gap: 12px;\n",
              "    }\n",
              "\n",
              "    .colab-df-convert {\n",
              "      background-color: #E8F0FE;\n",
              "      border: none;\n",
              "      border-radius: 50%;\n",
              "      cursor: pointer;\n",
              "      display: none;\n",
              "      fill: #1967D2;\n",
              "      height: 32px;\n",
              "      padding: 0 0 0 0;\n",
              "      width: 32px;\n",
              "    }\n",
              "\n",
              "    .colab-df-convert:hover {\n",
              "      background-color: #E2EBFA;\n",
              "      box-shadow: 0px 1px 2px rgba(60, 64, 67, 0.3), 0px 1px 3px 1px rgba(60, 64, 67, 0.15);\n",
              "      fill: #174EA6;\n",
              "    }\n",
              "\n",
              "    [theme=dark] .colab-df-convert {\n",
              "      background-color: #3B4455;\n",
              "      fill: #D2E3FC;\n",
              "    }\n",
              "\n",
              "    [theme=dark] .colab-df-convert:hover {\n",
              "      background-color: #434B5C;\n",
              "      box-shadow: 0px 1px 3px 1px rgba(0, 0, 0, 0.15);\n",
              "      filter: drop-shadow(0px 1px 2px rgba(0, 0, 0, 0.3));\n",
              "      fill: #FFFFFF;\n",
              "    }\n",
              "  </style>\n",
              "\n",
              "      <script>\n",
              "        const buttonEl =\n",
              "          document.querySelector('#df-679957cb-e282-4847-bc48-3fe4b27fcb66 button.colab-df-convert');\n",
              "        buttonEl.style.display =\n",
              "          google.colab.kernel.accessAllowed ? 'block' : 'none';\n",
              "\n",
              "        async function convertToInteractive(key) {\n",
              "          const element = document.querySelector('#df-679957cb-e282-4847-bc48-3fe4b27fcb66');\n",
              "          const dataTable =\n",
              "            await google.colab.kernel.invokeFunction('convertToInteractive',\n",
              "                                                     [key], {});\n",
              "          if (!dataTable) return;\n",
              "\n",
              "          const docLinkHtml = 'Like what you see? Visit the ' +\n",
              "            '<a target=\"_blank\" href=https://colab.research.google.com/notebooks/data_table.ipynb>data table notebook</a>'\n",
              "            + ' to learn more about interactive tables.';\n",
              "          element.innerHTML = '';\n",
              "          dataTable['output_type'] = 'display_data';\n",
              "          await google.colab.output.renderOutput(dataTable, element);\n",
              "          const docLink = document.createElement('div');\n",
              "          docLink.innerHTML = docLinkHtml;\n",
              "          element.appendChild(docLink);\n",
              "        }\n",
              "      </script>\n",
              "    </div>\n",
              "  </div>\n",
              "  "
            ]
          },
          "metadata": {},
          "execution_count": 4
        }
      ]
    },
    {
      "cell_type": "code",
      "source": [
        "data.tail()#reads in the range 0,5 but reverse"
      ],
      "metadata": {
        "colab": {
          "base_uri": "https://localhost:8080/",
          "height": 403
        },
        "id": "AvyjU2cI6G26",
        "outputId": "f08b190b-ad5b-4f01-c562-5ab9d212040d"
      },
      "execution_count": null,
      "outputs": [
        {
          "output_type": "execute_result",
          "data": {
            "text/plain": [
              "     episode_number  startup_number      brand_name  \\\n",
              "116              35             117    Elcare India   \n",
              "117              36             118        Sneakare   \n",
              "118              36             119    French Crown   \n",
              "119              36             120  Store My Goods   \n",
              "120              36             121        Devnagri   \n",
              "\n",
              "                         description  deal_offered  startup_ask_amount_lakhs  \\\n",
              "116             Carenting for Elders             0                     100.0   \n",
              "117  Shoe care and storage solutions             1                      20.0   \n",
              "118                Clothing Industry             0                     150.0   \n",
              "119                Storage solutions             1                     100.0   \n",
              "120             Translation platform             0                     100.0   \n",
              "\n",
              "     startup_ask_percentage  startup_ask_valuation  deal_amount_lakhs  \\\n",
              "116                    2.50                 4000.0                0.0   \n",
              "117                    5.00                  400.0               21.0   \n",
              "118                    0.33                45000.0                0.0   \n",
              "119                    1.75                 5714.0              100.0   \n",
              "120                    1.00                10000.0                0.0   \n",
              "\n",
              "     deal_equity  ...  ghazal_invested  namita_present  namita_invested  \\\n",
              "116          0.0  ...                0               1                0   \n",
              "117         12.0  ...                0               1                1   \n",
              "118          0.0  ...                0               1                0   \n",
              "119          4.0  ...                0               1                1   \n",
              "120          0.0  ...                0               1                0   \n",
              "\n",
              "     peyush_present  peyush_invested  vineeta_present  vineeta_invested  \\\n",
              "116               1                0                1                 0   \n",
              "117               1                0                1                 1   \n",
              "118               1                0                1                 0   \n",
              "119               1                1                1                 0   \n",
              "120               1                0                1                 0   \n",
              "\n",
              "     sharks_offering  amount_per_shark  equity_per_shark  \n",
              "116                0               0.0               0.0  \n",
              "117                3               7.0               4.0  \n",
              "118                0               0.0               0.0  \n",
              "119                2              50.0               2.0  \n",
              "120                0               0.0               0.0  \n",
              "\n",
              "[5 rows x 32 columns]"
            ],
            "text/html": [
              "\n",
              "  <div id=\"df-544bc178-b5e4-4958-ac49-efe8ba28be87\">\n",
              "    <div class=\"colab-df-container\">\n",
              "      <div>\n",
              "<style scoped>\n",
              "    .dataframe tbody tr th:only-of-type {\n",
              "        vertical-align: middle;\n",
              "    }\n",
              "\n",
              "    .dataframe tbody tr th {\n",
              "        vertical-align: top;\n",
              "    }\n",
              "\n",
              "    .dataframe thead th {\n",
              "        text-align: right;\n",
              "    }\n",
              "</style>\n",
              "<table border=\"1\" class=\"dataframe\">\n",
              "  <thead>\n",
              "    <tr style=\"text-align: right;\">\n",
              "      <th></th>\n",
              "      <th>episode_number</th>\n",
              "      <th>startup_number</th>\n",
              "      <th>brand_name</th>\n",
              "      <th>description</th>\n",
              "      <th>deal_offered</th>\n",
              "      <th>startup_ask_amount_lakhs</th>\n",
              "      <th>startup_ask_percentage</th>\n",
              "      <th>startup_ask_valuation</th>\n",
              "      <th>deal_amount_lakhs</th>\n",
              "      <th>deal_equity</th>\n",
              "      <th>...</th>\n",
              "      <th>ghazal_invested</th>\n",
              "      <th>namita_present</th>\n",
              "      <th>namita_invested</th>\n",
              "      <th>peyush_present</th>\n",
              "      <th>peyush_invested</th>\n",
              "      <th>vineeta_present</th>\n",
              "      <th>vineeta_invested</th>\n",
              "      <th>sharks_offering</th>\n",
              "      <th>amount_per_shark</th>\n",
              "      <th>equity_per_shark</th>\n",
              "    </tr>\n",
              "  </thead>\n",
              "  <tbody>\n",
              "    <tr>\n",
              "      <th>116</th>\n",
              "      <td>35</td>\n",
              "      <td>117</td>\n",
              "      <td>Elcare India</td>\n",
              "      <td>Carenting for Elders</td>\n",
              "      <td>0</td>\n",
              "      <td>100.0</td>\n",
              "      <td>2.50</td>\n",
              "      <td>4000.0</td>\n",
              "      <td>0.0</td>\n",
              "      <td>0.0</td>\n",
              "      <td>...</td>\n",
              "      <td>0</td>\n",
              "      <td>1</td>\n",
              "      <td>0</td>\n",
              "      <td>1</td>\n",
              "      <td>0</td>\n",
              "      <td>1</td>\n",
              "      <td>0</td>\n",
              "      <td>0</td>\n",
              "      <td>0.0</td>\n",
              "      <td>0.0</td>\n",
              "    </tr>\n",
              "    <tr>\n",
              "      <th>117</th>\n",
              "      <td>36</td>\n",
              "      <td>118</td>\n",
              "      <td>Sneakare</td>\n",
              "      <td>Shoe care and storage solutions</td>\n",
              "      <td>1</td>\n",
              "      <td>20.0</td>\n",
              "      <td>5.00</td>\n",
              "      <td>400.0</td>\n",
              "      <td>21.0</td>\n",
              "      <td>12.0</td>\n",
              "      <td>...</td>\n",
              "      <td>0</td>\n",
              "      <td>1</td>\n",
              "      <td>1</td>\n",
              "      <td>1</td>\n",
              "      <td>0</td>\n",
              "      <td>1</td>\n",
              "      <td>1</td>\n",
              "      <td>3</td>\n",
              "      <td>7.0</td>\n",
              "      <td>4.0</td>\n",
              "    </tr>\n",
              "    <tr>\n",
              "      <th>118</th>\n",
              "      <td>36</td>\n",
              "      <td>119</td>\n",
              "      <td>French Crown</td>\n",
              "      <td>Clothing Industry</td>\n",
              "      <td>0</td>\n",
              "      <td>150.0</td>\n",
              "      <td>0.33</td>\n",
              "      <td>45000.0</td>\n",
              "      <td>0.0</td>\n",
              "      <td>0.0</td>\n",
              "      <td>...</td>\n",
              "      <td>0</td>\n",
              "      <td>1</td>\n",
              "      <td>0</td>\n",
              "      <td>1</td>\n",
              "      <td>0</td>\n",
              "      <td>1</td>\n",
              "      <td>0</td>\n",
              "      <td>0</td>\n",
              "      <td>0.0</td>\n",
              "      <td>0.0</td>\n",
              "    </tr>\n",
              "    <tr>\n",
              "      <th>119</th>\n",
              "      <td>36</td>\n",
              "      <td>120</td>\n",
              "      <td>Store My Goods</td>\n",
              "      <td>Storage solutions</td>\n",
              "      <td>1</td>\n",
              "      <td>100.0</td>\n",
              "      <td>1.75</td>\n",
              "      <td>5714.0</td>\n",
              "      <td>100.0</td>\n",
              "      <td>4.0</td>\n",
              "      <td>...</td>\n",
              "      <td>0</td>\n",
              "      <td>1</td>\n",
              "      <td>1</td>\n",
              "      <td>1</td>\n",
              "      <td>1</td>\n",
              "      <td>1</td>\n",
              "      <td>0</td>\n",
              "      <td>2</td>\n",
              "      <td>50.0</td>\n",
              "      <td>2.0</td>\n",
              "    </tr>\n",
              "    <tr>\n",
              "      <th>120</th>\n",
              "      <td>36</td>\n",
              "      <td>121</td>\n",
              "      <td>Devnagri</td>\n",
              "      <td>Translation platform</td>\n",
              "      <td>0</td>\n",
              "      <td>100.0</td>\n",
              "      <td>1.00</td>\n",
              "      <td>10000.0</td>\n",
              "      <td>0.0</td>\n",
              "      <td>0.0</td>\n",
              "      <td>...</td>\n",
              "      <td>0</td>\n",
              "      <td>1</td>\n",
              "      <td>0</td>\n",
              "      <td>1</td>\n",
              "      <td>0</td>\n",
              "      <td>1</td>\n",
              "      <td>0</td>\n",
              "      <td>0</td>\n",
              "      <td>0.0</td>\n",
              "      <td>0.0</td>\n",
              "    </tr>\n",
              "  </tbody>\n",
              "</table>\n",
              "<p>5 rows × 32 columns</p>\n",
              "</div>\n",
              "      <button class=\"colab-df-convert\" onclick=\"convertToInteractive('df-544bc178-b5e4-4958-ac49-efe8ba28be87')\"\n",
              "              title=\"Convert this dataframe to an interactive table.\"\n",
              "              style=\"display:none;\">\n",
              "        \n",
              "  <svg xmlns=\"http://www.w3.org/2000/svg\" height=\"24px\"viewBox=\"0 0 24 24\"\n",
              "       width=\"24px\">\n",
              "    <path d=\"M0 0h24v24H0V0z\" fill=\"none\"/>\n",
              "    <path d=\"M18.56 5.44l.94 2.06.94-2.06 2.06-.94-2.06-.94-.94-2.06-.94 2.06-2.06.94zm-11 1L8.5 8.5l.94-2.06 2.06-.94-2.06-.94L8.5 2.5l-.94 2.06-2.06.94zm10 10l.94 2.06.94-2.06 2.06-.94-2.06-.94-.94-2.06-.94 2.06-2.06.94z\"/><path d=\"M17.41 7.96l-1.37-1.37c-.4-.4-.92-.59-1.43-.59-.52 0-1.04.2-1.43.59L10.3 9.45l-7.72 7.72c-.78.78-.78 2.05 0 2.83L4 21.41c.39.39.9.59 1.41.59.51 0 1.02-.2 1.41-.59l7.78-7.78 2.81-2.81c.8-.78.8-2.07 0-2.86zM5.41 20L4 18.59l7.72-7.72 1.47 1.35L5.41 20z\"/>\n",
              "  </svg>\n",
              "      </button>\n",
              "      \n",
              "  <style>\n",
              "    .colab-df-container {\n",
              "      display:flex;\n",
              "      flex-wrap:wrap;\n",
              "      gap: 12px;\n",
              "    }\n",
              "\n",
              "    .colab-df-convert {\n",
              "      background-color: #E8F0FE;\n",
              "      border: none;\n",
              "      border-radius: 50%;\n",
              "      cursor: pointer;\n",
              "      display: none;\n",
              "      fill: #1967D2;\n",
              "      height: 32px;\n",
              "      padding: 0 0 0 0;\n",
              "      width: 32px;\n",
              "    }\n",
              "\n",
              "    .colab-df-convert:hover {\n",
              "      background-color: #E2EBFA;\n",
              "      box-shadow: 0px 1px 2px rgba(60, 64, 67, 0.3), 0px 1px 3px 1px rgba(60, 64, 67, 0.15);\n",
              "      fill: #174EA6;\n",
              "    }\n",
              "\n",
              "    [theme=dark] .colab-df-convert {\n",
              "      background-color: #3B4455;\n",
              "      fill: #D2E3FC;\n",
              "    }\n",
              "\n",
              "    [theme=dark] .colab-df-convert:hover {\n",
              "      background-color: #434B5C;\n",
              "      box-shadow: 0px 1px 3px 1px rgba(0, 0, 0, 0.15);\n",
              "      filter: drop-shadow(0px 1px 2px rgba(0, 0, 0, 0.3));\n",
              "      fill: #FFFFFF;\n",
              "    }\n",
              "  </style>\n",
              "\n",
              "      <script>\n",
              "        const buttonEl =\n",
              "          document.querySelector('#df-544bc178-b5e4-4958-ac49-efe8ba28be87 button.colab-df-convert');\n",
              "        buttonEl.style.display =\n",
              "          google.colab.kernel.accessAllowed ? 'block' : 'none';\n",
              "\n",
              "        async function convertToInteractive(key) {\n",
              "          const element = document.querySelector('#df-544bc178-b5e4-4958-ac49-efe8ba28be87');\n",
              "          const dataTable =\n",
              "            await google.colab.kernel.invokeFunction('convertToInteractive',\n",
              "                                                     [key], {});\n",
              "          if (!dataTable) return;\n",
              "\n",
              "          const docLinkHtml = 'Like what you see? Visit the ' +\n",
              "            '<a target=\"_blank\" href=https://colab.research.google.com/notebooks/data_table.ipynb>data table notebook</a>'\n",
              "            + ' to learn more about interactive tables.';\n",
              "          element.innerHTML = '';\n",
              "          dataTable['output_type'] = 'display_data';\n",
              "          await google.colab.output.renderOutput(dataTable, element);\n",
              "          const docLink = document.createElement('div');\n",
              "          docLink.innerHTML = docLinkHtml;\n",
              "          element.appendChild(docLink);\n",
              "        }\n",
              "      </script>\n",
              "    </div>\n",
              "  </div>\n",
              "  "
            ]
          },
          "metadata": {},
          "execution_count": 5
        }
      ]
    },
    {
      "cell_type": "code",
      "source": [
        "data.shape #rows and coloums numbers"
      ],
      "metadata": {
        "colab": {
          "base_uri": "https://localhost:8080/"
        },
        "id": "4LxUInJ-6VjJ",
        "outputId": "7825ebd9-3d86-454a-9ec4-09b4e12898d2"
      },
      "execution_count": null,
      "outputs": [
        {
          "output_type": "execute_result",
          "data": {
            "text/plain": [
              "(121, 32)"
            ]
          },
          "metadata": {},
          "execution_count": 6
        }
      ]
    },
    {
      "cell_type": "code",
      "source": [
        "data.columns[1] #prints column headings"
      ],
      "metadata": {
        "colab": {
          "base_uri": "https://localhost:8080/",
          "height": 36
        },
        "id": "UyTiVgkk6b9l",
        "outputId": "a70119e6-fbdc-48e0-bd42-91fc97ad67a7"
      },
      "execution_count": null,
      "outputs": [
        {
          "output_type": "execute_result",
          "data": {
            "text/plain": [
              "'startup_number'"
            ],
            "application/vnd.google.colaboratory.intrinsic+json": {
              "type": "string"
            }
          },
          "metadata": {},
          "execution_count": 7
        }
      ]
    },
    {
      "cell_type": "code",
      "source": [
        "data.info() #gives info of type of data"
      ],
      "metadata": {
        "colab": {
          "base_uri": "https://localhost:8080/"
        },
        "id": "an8Tk2hG66eP",
        "outputId": "1898add5-e182-4d93-ac36-85ecc79e2b1f"
      },
      "execution_count": null,
      "outputs": [
        {
          "output_type": "stream",
          "name": "stdout",
          "text": [
            "<class 'pandas.core.frame.DataFrame'>\n",
            "RangeIndex: 121 entries, 0 to 120\n",
            "Data columns (total 32 columns):\n",
            " #   Column                    Non-Null Count  Dtype  \n",
            "---  ------                    --------------  -----  \n",
            " 0   episode_number            121 non-null    int64  \n",
            " 1   startup_number            121 non-null    int64  \n",
            " 2   brand_name                121 non-null    object \n",
            " 3   description               121 non-null    object \n",
            " 4   deal_offered              121 non-null    int64  \n",
            " 5   startup_ask_amount_lakhs  121 non-null    float64\n",
            " 6   startup_ask_percentage    121 non-null    float64\n",
            " 7   startup_ask_valuation     121 non-null    float64\n",
            " 8   deal_amount_lakhs         121 non-null    float64\n",
            " 9   deal_equity               121 non-null    float64\n",
            " 10  deal_valuation            121 non-null    float64\n",
            " 11  loan_element_present      121 non-null    int64  \n",
            " 12  loan_amount               121 non-null    int64  \n",
            " 13  rannvijay_present         121 non-null    int64  \n",
            " 14  abish_present             121 non-null    int64  \n",
            " 15  aman_present              121 non-null    int64  \n",
            " 16  aman_invested             121 non-null    int64  \n",
            " 17  anupam_present            121 non-null    int64  \n",
            " 18  anupam_invested           121 non-null    int64  \n",
            " 19  ashneer_present           121 non-null    int64  \n",
            " 20  ashneer_invested          121 non-null    int64  \n",
            " 21  ghazal_present            121 non-null    int64  \n",
            " 22  ghazal_invested           121 non-null    int64  \n",
            " 23  namita_present            121 non-null    int64  \n",
            " 24  namita_invested           121 non-null    int64  \n",
            " 25  peyush_present            121 non-null    int64  \n",
            " 26  peyush_invested           121 non-null    int64  \n",
            " 27  vineeta_present           121 non-null    int64  \n",
            " 28  vineeta_invested          121 non-null    int64  \n",
            " 29  sharks_offering           121 non-null    int64  \n",
            " 30  amount_per_shark          121 non-null    float64\n",
            " 31  equity_per_shark          121 non-null    float64\n",
            "dtypes: float64(8), int64(22), object(2)\n",
            "memory usage: 30.4+ KB\n"
          ]
        }
      ]
    },
    {
      "cell_type": "code",
      "source": [
        "data.describe()#gives few stats like rows mean minimium max standard devition etc of the data"
      ],
      "metadata": {
        "colab": {
          "base_uri": "https://localhost:8080/",
          "height": 393
        },
        "id": "sF-fyC1w7Uf1",
        "outputId": "b14c688a-09bb-4187-f8aa-4087fef4b21d"
      },
      "execution_count": null,
      "outputs": [
        {
          "output_type": "execute_result",
          "data": {
            "text/plain": [
              "       episode_number  startup_number  deal_offered  startup_ask_amount_lakhs  \\\n",
              "count      121.000000      121.000000    121.000000                121.000000   \n",
              "mean        19.305785       61.000000      0.561983                312.338851   \n",
              "std         10.375326       35.073732      0.498206               2721.640471   \n",
              "min          1.000000        1.000000      0.000000                  0.001010   \n",
              "25%         11.000000       31.000000      0.000000                 45.000000   \n",
              "50%         19.000000       61.000000      1.000000                 50.000000   \n",
              "75%         28.000000       91.000000      1.000000                 80.000000   \n",
              "max         36.000000      121.000000      1.000000              30000.000000   \n",
              "\n",
              "       startup_ask_percentage  startup_ask_valuation  deal_amount_lakhs  \\\n",
              "count              121.000000             121.000000         121.000000   \n",
              "mean                 5.083306            4230.182727          31.925629   \n",
              "std                  3.882554           12329.894575          36.847011   \n",
              "min                  0.250000               0.010000           0.000000   \n",
              "25%                  2.000000             666.670000           0.000000   \n",
              "50%                  5.000000            1333.330000          21.000000   \n",
              "75%                  7.000000            3000.000000          50.000000   \n",
              "max                 25.000000          120000.000000         150.000000   \n",
              "\n",
              "       deal_equity  deal_valuation  loan_element_present  ...  \\\n",
              "count   121.000000      121.000000             121.00000  ...   \n",
              "mean      8.799421      473.770826               0.07438  ...   \n",
              "std      12.948175      925.693471               0.26348  ...   \n",
              "min       0.000000        0.000000               0.00000  ...   \n",
              "25%       0.000000        0.000000               0.00000  ...   \n",
              "50%       3.000000      100.000000               0.00000  ...   \n",
              "75%      15.000000      500.000000               0.00000  ...   \n",
              "max      75.000000     6666.670000               1.00000  ...   \n",
              "\n",
              "       ghazal_invested  namita_present  namita_invested  peyush_present  \\\n",
              "count       121.000000      121.000000       121.000000      121.000000   \n",
              "mean          0.057851        0.909091         0.198347        0.760331   \n",
              "std           0.234433        0.288675         0.400413        0.428657   \n",
              "min           0.000000        0.000000         0.000000        0.000000   \n",
              "25%           0.000000        1.000000         0.000000        1.000000   \n",
              "50%           0.000000        1.000000         0.000000        1.000000   \n",
              "75%           0.000000        1.000000         0.000000        1.000000   \n",
              "max           1.000000        1.000000         1.000000        1.000000   \n",
              "\n",
              "       peyush_invested  vineeta_present  vineeta_invested  sharks_offering  \\\n",
              "count       121.000000       121.000000        121.000000       121.000000   \n",
              "mean          0.231405         0.578512          0.132231         1.231405   \n",
              "std           0.423484         0.495851          0.340151         1.406890   \n",
              "min           0.000000         0.000000          0.000000         0.000000   \n",
              "25%           0.000000         0.000000          0.000000         0.000000   \n",
              "50%           0.000000         1.000000          0.000000         1.000000   \n",
              "75%           0.000000         1.000000          0.000000         2.000000   \n",
              "max           1.000000         1.000000          1.000000         5.000000   \n",
              "\n",
              "       amount_per_shark  equity_per_shark  \n",
              "count        121.000000        121.000000  \n",
              "mean          18.004134          5.448595  \n",
              "std           23.512490         10.651783  \n",
              "min            0.000000          0.000000  \n",
              "25%            0.000000          0.000000  \n",
              "50%           10.000000          1.250000  \n",
              "75%           25.000000          6.000000  \n",
              "max          100.000000         75.000000  \n",
              "\n",
              "[8 rows x 30 columns]"
            ],
            "text/html": [
              "\n",
              "  <div id=\"df-47590cd7-86c1-4de3-bc15-fc0445610ff3\">\n",
              "    <div class=\"colab-df-container\">\n",
              "      <div>\n",
              "<style scoped>\n",
              "    .dataframe tbody tr th:only-of-type {\n",
              "        vertical-align: middle;\n",
              "    }\n",
              "\n",
              "    .dataframe tbody tr th {\n",
              "        vertical-align: top;\n",
              "    }\n",
              "\n",
              "    .dataframe thead th {\n",
              "        text-align: right;\n",
              "    }\n",
              "</style>\n",
              "<table border=\"1\" class=\"dataframe\">\n",
              "  <thead>\n",
              "    <tr style=\"text-align: right;\">\n",
              "      <th></th>\n",
              "      <th>episode_number</th>\n",
              "      <th>startup_number</th>\n",
              "      <th>deal_offered</th>\n",
              "      <th>startup_ask_amount_lakhs</th>\n",
              "      <th>startup_ask_percentage</th>\n",
              "      <th>startup_ask_valuation</th>\n",
              "      <th>deal_amount_lakhs</th>\n",
              "      <th>deal_equity</th>\n",
              "      <th>deal_valuation</th>\n",
              "      <th>loan_element_present</th>\n",
              "      <th>...</th>\n",
              "      <th>ghazal_invested</th>\n",
              "      <th>namita_present</th>\n",
              "      <th>namita_invested</th>\n",
              "      <th>peyush_present</th>\n",
              "      <th>peyush_invested</th>\n",
              "      <th>vineeta_present</th>\n",
              "      <th>vineeta_invested</th>\n",
              "      <th>sharks_offering</th>\n",
              "      <th>amount_per_shark</th>\n",
              "      <th>equity_per_shark</th>\n",
              "    </tr>\n",
              "  </thead>\n",
              "  <tbody>\n",
              "    <tr>\n",
              "      <th>count</th>\n",
              "      <td>121.000000</td>\n",
              "      <td>121.000000</td>\n",
              "      <td>121.000000</td>\n",
              "      <td>121.000000</td>\n",
              "      <td>121.000000</td>\n",
              "      <td>121.000000</td>\n",
              "      <td>121.000000</td>\n",
              "      <td>121.000000</td>\n",
              "      <td>121.000000</td>\n",
              "      <td>121.00000</td>\n",
              "      <td>...</td>\n",
              "      <td>121.000000</td>\n",
              "      <td>121.000000</td>\n",
              "      <td>121.000000</td>\n",
              "      <td>121.000000</td>\n",
              "      <td>121.000000</td>\n",
              "      <td>121.000000</td>\n",
              "      <td>121.000000</td>\n",
              "      <td>121.000000</td>\n",
              "      <td>121.000000</td>\n",
              "      <td>121.000000</td>\n",
              "    </tr>\n",
              "    <tr>\n",
              "      <th>mean</th>\n",
              "      <td>19.305785</td>\n",
              "      <td>61.000000</td>\n",
              "      <td>0.561983</td>\n",
              "      <td>312.338851</td>\n",
              "      <td>5.083306</td>\n",
              "      <td>4230.182727</td>\n",
              "      <td>31.925629</td>\n",
              "      <td>8.799421</td>\n",
              "      <td>473.770826</td>\n",
              "      <td>0.07438</td>\n",
              "      <td>...</td>\n",
              "      <td>0.057851</td>\n",
              "      <td>0.909091</td>\n",
              "      <td>0.198347</td>\n",
              "      <td>0.760331</td>\n",
              "      <td>0.231405</td>\n",
              "      <td>0.578512</td>\n",
              "      <td>0.132231</td>\n",
              "      <td>1.231405</td>\n",
              "      <td>18.004134</td>\n",
              "      <td>5.448595</td>\n",
              "    </tr>\n",
              "    <tr>\n",
              "      <th>std</th>\n",
              "      <td>10.375326</td>\n",
              "      <td>35.073732</td>\n",
              "      <td>0.498206</td>\n",
              "      <td>2721.640471</td>\n",
              "      <td>3.882554</td>\n",
              "      <td>12329.894575</td>\n",
              "      <td>36.847011</td>\n",
              "      <td>12.948175</td>\n",
              "      <td>925.693471</td>\n",
              "      <td>0.26348</td>\n",
              "      <td>...</td>\n",
              "      <td>0.234433</td>\n",
              "      <td>0.288675</td>\n",
              "      <td>0.400413</td>\n",
              "      <td>0.428657</td>\n",
              "      <td>0.423484</td>\n",
              "      <td>0.495851</td>\n",
              "      <td>0.340151</td>\n",
              "      <td>1.406890</td>\n",
              "      <td>23.512490</td>\n",
              "      <td>10.651783</td>\n",
              "    </tr>\n",
              "    <tr>\n",
              "      <th>min</th>\n",
              "      <td>1.000000</td>\n",
              "      <td>1.000000</td>\n",
              "      <td>0.000000</td>\n",
              "      <td>0.001010</td>\n",
              "      <td>0.250000</td>\n",
              "      <td>0.010000</td>\n",
              "      <td>0.000000</td>\n",
              "      <td>0.000000</td>\n",
              "      <td>0.000000</td>\n",
              "      <td>0.00000</td>\n",
              "      <td>...</td>\n",
              "      <td>0.000000</td>\n",
              "      <td>0.000000</td>\n",
              "      <td>0.000000</td>\n",
              "      <td>0.000000</td>\n",
              "      <td>0.000000</td>\n",
              "      <td>0.000000</td>\n",
              "      <td>0.000000</td>\n",
              "      <td>0.000000</td>\n",
              "      <td>0.000000</td>\n",
              "      <td>0.000000</td>\n",
              "    </tr>\n",
              "    <tr>\n",
              "      <th>25%</th>\n",
              "      <td>11.000000</td>\n",
              "      <td>31.000000</td>\n",
              "      <td>0.000000</td>\n",
              "      <td>45.000000</td>\n",
              "      <td>2.000000</td>\n",
              "      <td>666.670000</td>\n",
              "      <td>0.000000</td>\n",
              "      <td>0.000000</td>\n",
              "      <td>0.000000</td>\n",
              "      <td>0.00000</td>\n",
              "      <td>...</td>\n",
              "      <td>0.000000</td>\n",
              "      <td>1.000000</td>\n",
              "      <td>0.000000</td>\n",
              "      <td>1.000000</td>\n",
              "      <td>0.000000</td>\n",
              "      <td>0.000000</td>\n",
              "      <td>0.000000</td>\n",
              "      <td>0.000000</td>\n",
              "      <td>0.000000</td>\n",
              "      <td>0.000000</td>\n",
              "    </tr>\n",
              "    <tr>\n",
              "      <th>50%</th>\n",
              "      <td>19.000000</td>\n",
              "      <td>61.000000</td>\n",
              "      <td>1.000000</td>\n",
              "      <td>50.000000</td>\n",
              "      <td>5.000000</td>\n",
              "      <td>1333.330000</td>\n",
              "      <td>21.000000</td>\n",
              "      <td>3.000000</td>\n",
              "      <td>100.000000</td>\n",
              "      <td>0.00000</td>\n",
              "      <td>...</td>\n",
              "      <td>0.000000</td>\n",
              "      <td>1.000000</td>\n",
              "      <td>0.000000</td>\n",
              "      <td>1.000000</td>\n",
              "      <td>0.000000</td>\n",
              "      <td>1.000000</td>\n",
              "      <td>0.000000</td>\n",
              "      <td>1.000000</td>\n",
              "      <td>10.000000</td>\n",
              "      <td>1.250000</td>\n",
              "    </tr>\n",
              "    <tr>\n",
              "      <th>75%</th>\n",
              "      <td>28.000000</td>\n",
              "      <td>91.000000</td>\n",
              "      <td>1.000000</td>\n",
              "      <td>80.000000</td>\n",
              "      <td>7.000000</td>\n",
              "      <td>3000.000000</td>\n",
              "      <td>50.000000</td>\n",
              "      <td>15.000000</td>\n",
              "      <td>500.000000</td>\n",
              "      <td>0.00000</td>\n",
              "      <td>...</td>\n",
              "      <td>0.000000</td>\n",
              "      <td>1.000000</td>\n",
              "      <td>0.000000</td>\n",
              "      <td>1.000000</td>\n",
              "      <td>0.000000</td>\n",
              "      <td>1.000000</td>\n",
              "      <td>0.000000</td>\n",
              "      <td>2.000000</td>\n",
              "      <td>25.000000</td>\n",
              "      <td>6.000000</td>\n",
              "    </tr>\n",
              "    <tr>\n",
              "      <th>max</th>\n",
              "      <td>36.000000</td>\n",
              "      <td>121.000000</td>\n",
              "      <td>1.000000</td>\n",
              "      <td>30000.000000</td>\n",
              "      <td>25.000000</td>\n",
              "      <td>120000.000000</td>\n",
              "      <td>150.000000</td>\n",
              "      <td>75.000000</td>\n",
              "      <td>6666.670000</td>\n",
              "      <td>1.00000</td>\n",
              "      <td>...</td>\n",
              "      <td>1.000000</td>\n",
              "      <td>1.000000</td>\n",
              "      <td>1.000000</td>\n",
              "      <td>1.000000</td>\n",
              "      <td>1.000000</td>\n",
              "      <td>1.000000</td>\n",
              "      <td>1.000000</td>\n",
              "      <td>5.000000</td>\n",
              "      <td>100.000000</td>\n",
              "      <td>75.000000</td>\n",
              "    </tr>\n",
              "  </tbody>\n",
              "</table>\n",
              "<p>8 rows × 30 columns</p>\n",
              "</div>\n",
              "      <button class=\"colab-df-convert\" onclick=\"convertToInteractive('df-47590cd7-86c1-4de3-bc15-fc0445610ff3')\"\n",
              "              title=\"Convert this dataframe to an interactive table.\"\n",
              "              style=\"display:none;\">\n",
              "        \n",
              "  <svg xmlns=\"http://www.w3.org/2000/svg\" height=\"24px\"viewBox=\"0 0 24 24\"\n",
              "       width=\"24px\">\n",
              "    <path d=\"M0 0h24v24H0V0z\" fill=\"none\"/>\n",
              "    <path d=\"M18.56 5.44l.94 2.06.94-2.06 2.06-.94-2.06-.94-.94-2.06-.94 2.06-2.06.94zm-11 1L8.5 8.5l.94-2.06 2.06-.94-2.06-.94L8.5 2.5l-.94 2.06-2.06.94zm10 10l.94 2.06.94-2.06 2.06-.94-2.06-.94-.94-2.06-.94 2.06-2.06.94z\"/><path d=\"M17.41 7.96l-1.37-1.37c-.4-.4-.92-.59-1.43-.59-.52 0-1.04.2-1.43.59L10.3 9.45l-7.72 7.72c-.78.78-.78 2.05 0 2.83L4 21.41c.39.39.9.59 1.41.59.51 0 1.02-.2 1.41-.59l7.78-7.78 2.81-2.81c.8-.78.8-2.07 0-2.86zM5.41 20L4 18.59l7.72-7.72 1.47 1.35L5.41 20z\"/>\n",
              "  </svg>\n",
              "      </button>\n",
              "      \n",
              "  <style>\n",
              "    .colab-df-container {\n",
              "      display:flex;\n",
              "      flex-wrap:wrap;\n",
              "      gap: 12px;\n",
              "    }\n",
              "\n",
              "    .colab-df-convert {\n",
              "      background-color: #E8F0FE;\n",
              "      border: none;\n",
              "      border-radius: 50%;\n",
              "      cursor: pointer;\n",
              "      display: none;\n",
              "      fill: #1967D2;\n",
              "      height: 32px;\n",
              "      padding: 0 0 0 0;\n",
              "      width: 32px;\n",
              "    }\n",
              "\n",
              "    .colab-df-convert:hover {\n",
              "      background-color: #E2EBFA;\n",
              "      box-shadow: 0px 1px 2px rgba(60, 64, 67, 0.3), 0px 1px 3px 1px rgba(60, 64, 67, 0.15);\n",
              "      fill: #174EA6;\n",
              "    }\n",
              "\n",
              "    [theme=dark] .colab-df-convert {\n",
              "      background-color: #3B4455;\n",
              "      fill: #D2E3FC;\n",
              "    }\n",
              "\n",
              "    [theme=dark] .colab-df-convert:hover {\n",
              "      background-color: #434B5C;\n",
              "      box-shadow: 0px 1px 3px 1px rgba(0, 0, 0, 0.15);\n",
              "      filter: drop-shadow(0px 1px 2px rgba(0, 0, 0, 0.3));\n",
              "      fill: #FFFFFF;\n",
              "    }\n",
              "  </style>\n",
              "\n",
              "      <script>\n",
              "        const buttonEl =\n",
              "          document.querySelector('#df-47590cd7-86c1-4de3-bc15-fc0445610ff3 button.colab-df-convert');\n",
              "        buttonEl.style.display =\n",
              "          google.colab.kernel.accessAllowed ? 'block' : 'none';\n",
              "\n",
              "        async function convertToInteractive(key) {\n",
              "          const element = document.querySelector('#df-47590cd7-86c1-4de3-bc15-fc0445610ff3');\n",
              "          const dataTable =\n",
              "            await google.colab.kernel.invokeFunction('convertToInteractive',\n",
              "                                                     [key], {});\n",
              "          if (!dataTable) return;\n",
              "\n",
              "          const docLinkHtml = 'Like what you see? Visit the ' +\n",
              "            '<a target=\"_blank\" href=https://colab.research.google.com/notebooks/data_table.ipynb>data table notebook</a>'\n",
              "            + ' to learn more about interactive tables.';\n",
              "          element.innerHTML = '';\n",
              "          dataTable['output_type'] = 'display_data';\n",
              "          await google.colab.output.renderOutput(dataTable, element);\n",
              "          const docLink = document.createElement('div');\n",
              "          docLink.innerHTML = docLinkHtml;\n",
              "          element.appendChild(docLink);\n",
              "        }\n",
              "      </script>\n",
              "    </div>\n",
              "  </div>\n",
              "  "
            ]
          },
          "metadata": {},
          "execution_count": 9
        }
      ]
    },
    {
      "cell_type": "code",
      "source": [
        "data.isnull().sum() #Checks for null value"
      ],
      "metadata": {
        "colab": {
          "base_uri": "https://localhost:8080/"
        },
        "id": "OrZk5D3a7rN1",
        "outputId": "4be8e7bf-644d-49ef-a161-377062c67dd8"
      },
      "execution_count": null,
      "outputs": [
        {
          "output_type": "execute_result",
          "data": {
            "text/plain": [
              "episode_number              0\n",
              "startup_number              0\n",
              "brand_name                  0\n",
              "description                 0\n",
              "deal_offered                0\n",
              "startup_ask_amount_lakhs    0\n",
              "startup_ask_percentage      0\n",
              "startup_ask_valuation       0\n",
              "deal_amount_lakhs           0\n",
              "deal_equity                 0\n",
              "deal_valuation              0\n",
              "loan_element_present        0\n",
              "loan_amount                 0\n",
              "rannvijay_present           0\n",
              "abish_present               0\n",
              "aman_present                0\n",
              "aman_invested               0\n",
              "anupam_present              0\n",
              "anupam_invested             0\n",
              "ashneer_present             0\n",
              "ashneer_invested            0\n",
              "ghazal_present              0\n",
              "ghazal_invested             0\n",
              "namita_present              0\n",
              "namita_invested             0\n",
              "peyush_present              0\n",
              "peyush_invested             0\n",
              "vineeta_present             0\n",
              "vineeta_invested            0\n",
              "sharks_offering             0\n",
              "amount_per_shark            0\n",
              "equity_per_shark            0\n",
              "dtype: int64"
            ]
          },
          "metadata": {},
          "execution_count": 10
        }
      ]
    },
    {
      "cell_type": "markdown",
      "source": [
        "\n",
        "<h2>From here</h2>(https://colab.research.google.com/drive/1xPZuhBG0mf-eUBbg_mc7Quxzk_W6gJ9_#scrollTo=TxXkVVq48pLk&line=1&uniqifier=1)\n",
        "<p>the key as mentioned starts of 0's and 1's</p>"
      ],
      "metadata": {
        "id": "e2DVoY8vQRUj"
      }
    },
    {
      "cell_type": "markdown",
      "source": [
        "<h2>Deals offered</h2>\n",
        "<p>As per the report 68 companies got investment for their pitches</p>"
      ],
      "metadata": {
        "id": "wDfB6VrKM1rm"
      }
    },
    {
      "cell_type": "code",
      "source": [
        "data['deal_offered'].value_counts() #values are counted here "
      ],
      "metadata": {
        "colab": {
          "base_uri": "https://localhost:8080/"
        },
        "id": "TxXkVVq48pLk",
        "outputId": "3577c747-d1f9-48ba-fcee-88d0fa448bf8"
      },
      "execution_count": null,
      "outputs": [
        {
          "output_type": "execute_result",
          "data": {
            "text/plain": [
              "1    68\n",
              "0    53\n",
              "Name: deal_offered, dtype: int64"
            ]
          },
          "metadata": {},
          "execution_count": 11
        }
      ]
    },
    {
      "cell_type": "markdown",
      "source": [
        "<h3>Important thing to note</h3>\n",
        "<p>The present absent are deal wise not episode wise<p>"
      ],
      "metadata": {
        "id": "pZZKv8auPhhE"
      }
    },
    {
      "cell_type": "code",
      "source": [
        "data['aman_present'].value_counts() "
      ],
      "metadata": {
        "colab": {
          "base_uri": "https://localhost:8080/"
        },
        "id": "JbqEgcan-HOK",
        "outputId": "250aba46-a964-4486-fbdd-4f151de0c1a8"
      },
      "execution_count": null,
      "outputs": [
        {
          "output_type": "execute_result",
          "data": {
            "text/plain": [
              "1    102\n",
              "0     19\n",
              "Name: aman_present, dtype: int64"
            ]
          },
          "metadata": {},
          "execution_count": 12
        }
      ]
    },
    {
      "cell_type": "code",
      "source": [
        "data['anupam_present'].value_counts()"
      ],
      "metadata": {
        "colab": {
          "base_uri": "https://localhost:8080/"
        },
        "id": "TQNWM6Np-wMC",
        "outputId": "f53e7e83-30f9-4862-9888-3d7c481f1954"
      },
      "execution_count": null,
      "outputs": [
        {
          "output_type": "execute_result",
          "data": {
            "text/plain": [
              "1    121\n",
              "Name: anupam_present, dtype: int64"
            ]
          },
          "metadata": {},
          "execution_count": 13
        }
      ]
    },
    {
      "cell_type": "code",
      "source": [
        "data['ashneer_present'].value_counts() "
      ],
      "metadata": {
        "colab": {
          "base_uri": "https://localhost:8080/"
        },
        "id": "eoM10e81_Xsq",
        "outputId": "08eec0d5-acf0-487b-8dc8-802430f572a9"
      },
      "execution_count": null,
      "outputs": [
        {
          "output_type": "execute_result",
          "data": {
            "text/plain": [
              "1    98\n",
              "0    23\n",
              "Name: ashneer_present, dtype: int64"
            ]
          },
          "metadata": {},
          "execution_count": 14
        }
      ]
    },
    {
      "cell_type": "code",
      "source": [
        "data['ghazal_present'].value_counts() "
      ],
      "metadata": {
        "colab": {
          "base_uri": "https://localhost:8080/"
        },
        "id": "7BkRTFHT_dxh",
        "outputId": "837fb99b-33a5-4605-ee74-7b92d4030704"
      },
      "execution_count": null,
      "outputs": [
        {
          "output_type": "execute_result",
          "data": {
            "text/plain": [
              "0    95\n",
              "1    26\n",
              "Name: ghazal_present, dtype: int64"
            ]
          },
          "metadata": {},
          "execution_count": 15
        }
      ]
    },
    {
      "cell_type": "code",
      "source": [
        "data['peyush_present'].value_counts()"
      ],
      "metadata": {
        "colab": {
          "base_uri": "https://localhost:8080/"
        },
        "id": "Yujl5Xwg_yod",
        "outputId": "ce4afb13-b2e4-4b40-d3ce-9b9ad092e6ad"
      },
      "execution_count": null,
      "outputs": [
        {
          "output_type": "execute_result",
          "data": {
            "text/plain": [
              "1    92\n",
              "0    29\n",
              "Name: peyush_present, dtype: int64"
            ]
          },
          "metadata": {},
          "execution_count": 16
        }
      ]
    },
    {
      "cell_type": "code",
      "source": [
        "data['rannvijay_present'].value_counts()"
      ],
      "metadata": {
        "colab": {
          "base_uri": "https://localhost:8080/"
        },
        "id": "-xhIJplLADKD",
        "outputId": "6563129d-06b7-429e-f199-fa3511451654"
      },
      "execution_count": null,
      "outputs": [
        {
          "output_type": "execute_result",
          "data": {
            "text/plain": [
              "1    117\n",
              "0      4\n",
              "Name: rannvijay_present, dtype: int64"
            ]
          },
          "metadata": {},
          "execution_count": 17
        }
      ]
    },
    {
      "cell_type": "code",
      "source": [
        "data['abish_present'].value_counts()\n"
      ],
      "metadata": {
        "colab": {
          "base_uri": "https://localhost:8080/"
        },
        "id": "xzLqdJEjEeb0",
        "outputId": "edd0c12f-49a0-4a78-8adb-fbbce1dfedd2"
      },
      "execution_count": null,
      "outputs": [
        {
          "output_type": "execute_result",
          "data": {
            "text/plain": [
              "0    117\n",
              "1      4\n",
              "Name: abish_present, dtype: int64"
            ]
          },
          "metadata": {},
          "execution_count": 18
        }
      ]
    },
    {
      "cell_type": "code",
      "source": [
        "data['vineeta_present'].value_counts()"
      ],
      "metadata": {
        "colab": {
          "base_uri": "https://localhost:8080/"
        },
        "id": "quWNZ3qvFjHU",
        "outputId": "f520030a-b685-47a0-e2fa-46e2b2ea3e78"
      },
      "execution_count": null,
      "outputs": [
        {
          "output_type": "execute_result",
          "data": {
            "text/plain": [
              "1    70\n",
              "0    51\n",
              "Name: vineeta_present, dtype: int64"
            ]
          },
          "metadata": {},
          "execution_count": 19
        }
      ]
    },
    {
      "cell_type": "code",
      "source": [
        "data['namita_present'].value_counts()"
      ],
      "metadata": {
        "colab": {
          "base_uri": "https://localhost:8080/"
        },
        "id": "wANN9l2sFzz1",
        "outputId": "c49c04a5-01cf-436d-92c5-346aa4e03f93"
      },
      "execution_count": null,
      "outputs": [
        {
          "output_type": "execute_result",
          "data": {
            "text/plain": [
              "1    110\n",
              "0     11\n",
              "Name: namita_present, dtype: int64"
            ]
          },
          "metadata": {},
          "execution_count": 20
        }
      ]
    },
    {
      "cell_type": "markdown",
      "source": [
        "<h2>Analysis</h2>\n",
        "<p> Here Rannvijay and Abish were hosts and remaining were sharks So this is the data for how many deals each one was present shon above</p>"
      ],
      "metadata": {
        "id": "JDLYfNhkS3el"
      }
    },
    {
      "cell_type": "markdown",
      "source": [
        "<h1>Graphs Begin here</h1>\n",
        "<p> We use plt to degisin graphs python</p>"
      ],
      "metadata": {
        "id": "SBts7148UKIb"
      }
    },
    {
      "cell_type": "code",
      "source": [
        "aman_present = len(data[data.aman_present == 1])      #these variables store data as to how many pitches they were present for\n",
        "anupam_present = len(data[data.anupam_present == 1])  #They collect lenght of data is colected only where the value = 1\n",
        "ashneer_present = len(data[data.ashneer_present == 1]) \n",
        "ghazal_present = len(data[data.ghazal_present == 1]) \n",
        "namita_present = len(data[data.namita_present == 1]) \n",
        "peyush_present = len(data[data.peyush_present == 1]) \n",
        "vineeta_present = len(data[data.vineeta_present == 1])"
      ],
      "metadata": {
        "id": "2qneGkuJGMwZ"
      },
      "execution_count": null,
      "outputs": []
    },
    {
      "cell_type": "code",
      "source": [
        "fig = plt.figure(figsize = (10, 5)) #lxb image\n",
        "present = [aman_present, anupam_present, ashneer_present, ghazal_present, namita_present, peyush_present, vineeta_present] #takes variables from above\n",
        "names = ['Aman','Anupam', 'Ashneer', 'Ghazal',  'Namita', 'Peyush', 'Vineeta'] #name of\n",
        "plt.bar(names, present, color ='red',width = 0.4) #x axis, y axis, color, width \n",
        "plt.xlabel(\"Candidate Name\") #title of x axis\n",
        "plt.ylabel(\"Candidate Present\") #title of y axis\n",
        "plt.title(\"Candidate Present vs Name\") #title of the graph\n",
        "plt.show() #this excecutes print statement for graph\n"
      ],
      "metadata": {
        "colab": {
          "base_uri": "https://localhost:8080/",
          "height": 350
        },
        "id": "7Vo6PXM5GOZY",
        "outputId": "2561cdb1-6446-483d-f743-6de2b33ac011"
      },
      "execution_count": null,
      "outputs": [
        {
          "output_type": "display_data",
          "data": {
            "text/plain": [
              "<Figure size 720x360 with 1 Axes>"
            ],
            "image/png": "[encoded data removed]"
          },
          "metadata": {
            "needs_background": "light"
          }
        }
      ]
    },
    {
      "cell_type": "code",
      "source": [
        "plt.pie(present, labels = names, radius = 2.0, autopct = '%0.1f%%') #label shows names , d = 4 and shows % upto 1 decimal\n",
        "plt.suptitle('Percentage of candidates present', x = 0.55,  # gives x,y coordinate of title and its color\n",
        "y = 1.15, color = 'red') \n",
        "plt.show() \n"
      ],
      "metadata": {
        "colab": {
          "base_uri": "https://localhost:8080/",
          "height": 408
        },
        "id": "nA33azuiGpju",
        "outputId": "fb6ac1fd-7c8f-4e78-912b-c592ce1ceb03"
      },
      "execution_count": null,
      "outputs": [
        {
          "output_type": "display_data",
          "data": {
            "text/plain": [
              "<Figure size 432x288 with 1 Axes>"
            ],
            "image/png": "[encoded data removed]"
          },
          "metadata": {}
        }
      ]
    },
    {
      "cell_type": "markdown",
      "source": [
        "<h1>Another thing to notice</h1>\n",
        "<p>Not all pitches got investment so this part shows how many pitches each shark invested in</p>\n",
        "<p>This is like the above data</p>"
      ],
      "metadata": {
        "id": "KnozBL4uueRp"
      }
    },
    {
      "cell_type": "code",
      "source": [
        "data['aman_invested'].value_counts() "
      ],
      "metadata": {
        "colab": {
          "base_uri": "https://localhost:8080/"
        },
        "id": "dgGpPnh0HpMg",
        "outputId": "5546cef9-1237-461b-8791-af0e82cc93a2"
      },
      "execution_count": null,
      "outputs": [
        {
          "output_type": "execute_result",
          "data": {
            "text/plain": [
              "0    92\n",
              "1    29\n",
              "Name: aman_invested, dtype: int64"
            ]
          },
          "metadata": {},
          "execution_count": 24
        }
      ]
    },
    {
      "cell_type": "code",
      "source": [
        "data['anupam_invested'].value_counts()"
      ],
      "metadata": {
        "colab": {
          "base_uri": "https://localhost:8080/"
        },
        "id": "o59ed20_IKKj",
        "outputId": "a800a732-91d2-43cc-dda5-a1ba8312b49d"
      },
      "execution_count": null,
      "outputs": [
        {
          "output_type": "execute_result",
          "data": {
            "text/plain": [
              "0    97\n",
              "1    24\n",
              "Name: anupam_invested, dtype: int64"
            ]
          },
          "metadata": {},
          "execution_count": 25
        }
      ]
    },
    {
      "cell_type": "code",
      "source": [
        "data['ashneer_invested'].value_counts() "
      ],
      "metadata": {
        "colab": {
          "base_uri": "https://localhost:8080/"
        },
        "id": "Ca7AsxtSIREO",
        "outputId": "6c61317d-581d-4949-fb67-4510bb536277"
      },
      "execution_count": null,
      "outputs": [
        {
          "output_type": "execute_result",
          "data": {
            "text/plain": [
              "0    100\n",
              "1     21\n",
              "Name: ashneer_invested, dtype: int64"
            ]
          },
          "metadata": {},
          "execution_count": 26
        }
      ]
    },
    {
      "cell_type": "code",
      "source": [
        "data['ghazal_invested'].value_counts()"
      ],
      "metadata": {
        "colab": {
          "base_uri": "https://localhost:8080/"
        },
        "id": "JSo0EdECMm2o",
        "outputId": "3af64a62-34ca-4418-b335-579b3962ec1f"
      },
      "execution_count": null,
      "outputs": [
        {
          "output_type": "execute_result",
          "data": {
            "text/plain": [
              "0    114\n",
              "1      7\n",
              "Name: ghazal_invested, dtype: int64"
            ]
          },
          "metadata": {},
          "execution_count": 27
        }
      ]
    },
    {
      "cell_type": "code",
      "source": [
        "data['namita_invested'].value_counts() "
      ],
      "metadata": {
        "colab": {
          "base_uri": "https://localhost:8080/"
        },
        "id": "8Vst_NoCMq6V",
        "outputId": "2d05ec4a-b9b0-412a-ac7d-c585900caf6d"
      },
      "execution_count": null,
      "outputs": [
        {
          "output_type": "execute_result",
          "data": {
            "text/plain": [
              "0    97\n",
              "1    24\n",
              "Name: namita_invested, dtype: int64"
            ]
          },
          "metadata": {},
          "execution_count": 28
        }
      ]
    },
    {
      "cell_type": "code",
      "source": [
        "data['peyush_invested'].value_counts()"
      ],
      "metadata": {
        "colab": {
          "base_uri": "https://localhost:8080/"
        },
        "id": "fWY6mow9M42Z",
        "outputId": "74d43330-02bb-455c-9e64-06877ad56971"
      },
      "execution_count": null,
      "outputs": [
        {
          "output_type": "execute_result",
          "data": {
            "text/plain": [
              "0    93\n",
              "1    28\n",
              "Name: peyush_invested, dtype: int64"
            ]
          },
          "metadata": {},
          "execution_count": 29
        }
      ]
    },
    {
      "cell_type": "code",
      "source": [
        "data['vineeta_invested'].value_counts()"
      ],
      "metadata": {
        "colab": {
          "base_uri": "https://localhost:8080/"
        },
        "id": "at-Hzsu2NBIn",
        "outputId": "675cd1bd-7f64-45e9-f1a8-9a84df806e13"
      },
      "execution_count": null,
      "outputs": [
        {
          "output_type": "execute_result",
          "data": {
            "text/plain": [
              "0    105\n",
              "1     16\n",
              "Name: vineeta_invested, dtype: int64"
            ]
          },
          "metadata": {},
          "execution_count": 30
        }
      ]
    },
    {
      "cell_type": "code",
      "source": [
        "aman_invested = len(data[data.aman_invested == 1]) \n",
        "anupam_invested = len(data[data.anupam_invested == 1]) \n",
        "ashneer_invested = len(data[data.ashneer_invested == 1]) \n",
        "ghazal_invested = len(data[data.ghazal_invested == 1]) \n",
        "namita_invested = len(data[data.namita_invested == 1]) \n",
        "peyush_invested = len(data[data.peyush_invested == 1]) \n",
        "vineeta_invested = len(data[data.vineeta_invested == 1]) "
      ],
      "metadata": {
        "id": "Nv3RBg7fNMWR"
      },
      "execution_count": null,
      "outputs": []
    },
    {
      "cell_type": "code",
      "source": [
        "fig = plt.figure(figsize = (10, 5)) \n",
        "invested = [aman_invested, anupam_invested, ashneer_invested, ghazal_invested, namita_invested, peyush_invested, vineeta_invested] \n",
        "names = ['Aman','Anupam', 'Ashneer', 'Ghazal', 'Namita', 'Peyush', 'Vineeta'] \n",
        "plt.bar(names, invested, color ='orange',width = 0.4) \n",
        "plt.xlabel(\"Candidate Name\") \n",
        "plt.ylabel(\"Candidate Invested\") \n",
        "plt.title(\"Candidate Invested vs Name\") \n",
        "plt.show()\n"
      ],
      "metadata": {
        "id": "aG-smnHJNrwP",
        "colab": {
          "base_uri": "https://localhost:8080/",
          "height": 350
        },
        "outputId": "748ad64a-1321-4db2-d9ed-6a8dec2d9ce3"
      },
      "execution_count": null,
      "outputs": [
        {
          "output_type": "display_data",
          "data": {
            "text/plain": [
              "<Figure size 720x360 with 1 Axes>"
            ],
            "image/png": "[encoded data removed]"
          },
          "metadata": {
            "needs_background": "light"
          }
        }
      ]
    },
    {
      "cell_type": "code",
      "source": [
        "plt.pie(invested, labels = names, radius = 2.0, autopct = '%0.1f%%', \n",
        "        explode = [0.25,0.25,0.25,0.25,0.25,0.25,0.25]) \n",
        "plt.suptitle('Percentage of candidates invested', x = 0.55, \n",
        "y = 1.5, color = 'black') \n",
        "plt.show()\n"
      ],
      "metadata": {
        "id": "3pYFSFz8OBu_",
        "colab": {
          "base_uri": "https://localhost:8080/",
          "height": 526
        },
        "outputId": "9dcaa54b-73e2-45a9-813e-903db73abb6a"
      },
      "execution_count": null,
      "outputs": [
        {
          "output_type": "display_data",
          "data": {
            "text/plain": [
              "<Figure size 432x288 with 1 Axes>"
            ],
            "image/png": "[encoded data removed]"
          },
          "metadata": {}
        }
      ]
    },
    {
      "cell_type": "markdown",
      "source": [
        "<h3>This shows what % a person invested</h3>\n",
        "<p>For analysing this we need the no of deals for which they were present only</p>\n"
      ],
      "metadata": {
        "id": "U_Hw_qmxwY2Q"
      }
    },
    {
      "cell_type": "code",
      "source": [
        "aman_percent = (aman_invested/aman_present)*100 \n",
        "anupam_percent = (anupam_invested/anupam_present)*100 \n",
        "ashneer_percent = (ashneer_invested/ashneer_present)*100 \n",
        "ghazal_percent = (ghazal_invested/ghazal_present)*100 \n",
        "namita_percent = (namita_invested/namita_present)*100 \n",
        "peyush_percent = (peyush_invested/peyush_present)*100 \n",
        "vineeta_percent = (vineeta_invested/vineeta_present)*100 "
      ],
      "metadata": {
        "id": "qPGJsO8vPcPE"
      },
      "execution_count": null,
      "outputs": []
    },
    {
      "cell_type": "code",
      "source": [
        "fig = plt.figure(figsize = (10, 5)) \n",
        "percentage = [aman_percent, anupam_percent, ashneer_percent, ghazal_percent, namita_percent, peyush_percent, vineeta_percent] \n",
        "names = ['Aman','Anupam', 'Ashneer', 'Ghazal', 'Namita', 'Peyush', 'Vineeta'] \n",
        "plt.bar(names, percentage, color ='blue',width = 0.4) \n",
        "plt.xlabel(\"Candidate Name\") \n",
        "plt.ylabel(\"Candidate Invested - Percentage\") \n",
        "plt.title(\"Candidate Invested - Percentage vs Name\") \n",
        "plt.show()\n"
      ],
      "metadata": {
        "id": "VILOElhoPoqT",
        "colab": {
          "base_uri": "https://localhost:8080/",
          "height": 350
        },
        "outputId": "ac4ff652-67f7-4231-81e3-edbec7f93c19"
      },
      "execution_count": null,
      "outputs": [
        {
          "output_type": "display_data",
          "data": {
            "text/plain": [
              "<Figure size 720x360 with 1 Axes>"
            ],
            "image/png": "[encoded data removed]"
          },
          "metadata": {
            "needs_background": "light"
          }
        }
      ]
    },
    {
      "cell_type": "code",
      "source": [
        "plt.pie(percentage, labels = names, radius = 2.0, autopct = '%0.1f%%', explode = [0.25,0.25,0.25,0.25,0.25,0.25,0.25]) \n",
        "plt.show()\n"
      ],
      "metadata": {
        "id": "9XLEbyp0QLFA",
        "colab": {
          "base_uri": "https://localhost:8080/",
          "height": 461
        },
        "outputId": "cb0e6bd7-be4b-4081-9a7d-18d54de3a817"
      },
      "execution_count": null,
      "outputs": [
        {
          "output_type": "display_data",
          "data": {
            "text/plain": [
              "<Figure size 432x288 with 1 Axes>"
            ],
            "image/png": "[encoded data removed]"
          },
          "metadata": {}
        }
      ]
    }
  ]
}