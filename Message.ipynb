{
  "nbformat": 4,
  "nbformat_minor": 0,
  "metadata": {
    "colab": {
      "name": "Message.ipynb",
      "provenance": [],
      "collapsed_sections": [],
      "authorship_tag": "ABX9TyPtEeU17wVM7wwak3gz4MZP",
      "include_colab_link": true
    },
    "kernelspec": {
      "name": "python3",
      "display_name": "Python 3"
    },
    "language_info": {
      "name": "python"
    }
  },
  "cells": [
    {
      "cell_type": "markdown",
      "metadata": {
        "id": "view-in-github",
        "colab_type": "text"
      },
      "source": [
        "<a href=\"https://colab.research.google.com/github/Advitiya0408/data/blob/main/Message.ipynb\" target=\"_parent\"><img src=\"https://colab.research.google.com/assets/colab-badge.svg\" alt=\"Open In Colab\"/></a>"
      ]
    },
    {
      "cell_type": "code",
      "execution_count": null,
      "metadata": {
        "id": "K1mdtw-pZ_7N"
      },
      "outputs": [],
      "source": [
        "noun1 = input(\"Please enter your name: \")\n",
        "verb1 = input(\"Please enter your hobby: \")\n",
        "adj1 = input(\"Please enter an adjective: \")\n",
        "hero = input(\"Your favorite hero: \")\n",
        "act = input(\"Any favourite activity: \")\n",
        "print(f\"\"\"\n",
        "Hi,This is {noun1} and I love to {verb1} which makes me feel {adj1}\n",
        "It makes me feel like {hero} who can {act} all day \"\"\" )"
      ]
    }
  ]
}