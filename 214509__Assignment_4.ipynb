{
  "cells": [
    {
      "cell_type": "markdown",
      "metadata": {
        "id": "view-in-github",
        "colab_type": "text"
      },
      "source": [
        "<a href=\"https://colab.research.google.com/github/Advitiya0408/data/blob/main/214509__Assignment_4.ipynb\" target=\"_parent\"><img src=\"https://colab.research.google.com/assets/colab-badge.svg\" alt=\"Open In Colab\"/></a>"
      ]
    },
    {
      "cell_type": "markdown",
      "metadata": {
        "id": "Gvvx7fvAEQhK"
      },
      "source": [
        "## Q. What exactly is []?\n",
        "## Answer: It is used to create list which contains many values seprated by commas.Simply a vriable holding different types of data."
      ]
    },
    {
      "cell_type": "code",
      "execution_count": null,
      "metadata": {
        "id": "Ufi61RwjEQhP",
        "outputId": "fbf803d3-6d1d-409c-a19d-82352299d4aa",
        "colab": {
          "base_uri": "https://localhost:8080/"
        }
      },
      "outputs": [
        {
          "output_type": "execute_result",
          "data": {
            "text/plain": [
              "[2, 4, 6, 'Hello', 8, 10]"
            ]
          },
          "metadata": {},
          "execution_count": 1
        }
      ],
      "source": [
        "spam = [2,4,6,8,10]\n",
        "spam.insert(3,'Hello')\n",
        "spam"
      ]
    },
    {
      "cell_type": "code",
      "execution_count": null,
      "metadata": {
        "id": "6CXa5T9jEQhR",
        "outputId": "056cc735-732c-4cc8-f70c-3e620c8fed0c"
      },
      "outputs": [
        {
          "data": {
            "text/plain": [
              "'d'"
            ]
          },
          "execution_count": 6,
          "metadata": {},
          "output_type": "execute_result"
        }
      ],
      "source": [
        "spam = ['a', 'b', 'c', 'd']\n",
        "## Here we got d because we are performing index operations which results to 3 which is nothing but d\n",
        "spam[int(int('3' * 2) / 11)]"
      ]
    },
    {
      "cell_type": "code",
      "execution_count": null,
      "metadata": {
        "id": "c8X5DvvREQhS",
        "outputId": "d7728285-ac7b-4fb7-f72d-6fa2d5c84fc1",
        "colab": {
          "base_uri": "https://localhost:8080/"
        }
      },
      "outputs": [
        {
          "output_type": "execute_result",
          "data": {
            "text/plain": [
              "3"
            ]
          },
          "metadata": {},
          "execution_count": 2
        }
      ],
      "source": [
        "## we get d as output because spam[3] = 'd'\n",
        "int(int('3' * 2)/11)"
      ]
    },
    {
      "cell_type": "code",
      "execution_count": null,
      "metadata": {
        "id": "o8lg40g0EQhT",
        "outputId": "9855f99d-0b95-41b1-bb7e-3fed6670cea5"
      },
      "outputs": [
        {
          "data": {
            "text/plain": [
              "'d'"
            ]
          },
          "execution_count": 10,
          "metadata": {},
          "output_type": "execute_result"
        }
      ],
      "source": [
        "## backward indexing when moving from end to start \n",
        "spam[-1]"
      ]
    },
    {
      "cell_type": "code",
      "execution_count": null,
      "metadata": {
        "id": "9XU5bmZtEQhT",
        "outputId": "d0c1f9f3-06a9-4ade-a7a9-3695a8edd2e6"
      },
      "outputs": [
        {
          "data": {
            "text/plain": [
              "['a', 'b']"
            ]
          },
          "execution_count": 11,
          "metadata": {},
          "output_type": "execute_result"
        }
      ],
      "source": [
        "## here it picks value from 0 to 1 excluding 2.As we haven't used start index it bydefaults starts from 0\n",
        "spam[:2]"
      ]
    },
    {
      "cell_type": "code",
      "execution_count": null,
      "metadata": {
        "id": "v9pbJAlqEQhU",
        "outputId": "9e9335c1-fd87-46ef-daae-b77257b3d743"
      },
      "outputs": [
        {
          "data": {
            "text/plain": [
              "'cat'"
            ]
          },
          "execution_count": 25,
          "metadata": {},
          "output_type": "execute_result"
        }
      ],
      "source": [
        "bacon = [3.14, 'cat', 11, 'cat', True] \n",
        "bacon[1]"
      ]
    },
    {
      "cell_type": "code",
      "execution_count": null,
      "metadata": {
        "id": "oAPQh-NKEQhU",
        "outputId": "9e3b9c59-d4dd-4009-83bd-d74a2f932698"
      },
      "outputs": [
        {
          "data": {
            "text/plain": [
              "[3.14, 'cat', 11, 'cat', True, 99]"
            ]
          },
          "execution_count": 26,
          "metadata": {},
          "output_type": "execute_result"
        }
      ],
      "source": [
        "## append basically adds element at the end of the list\n",
        "bacon.append(99)\n",
        "bacon"
      ]
    },
    {
      "cell_type": "code",
      "execution_count": null,
      "metadata": {
        "id": "LkDbcVf2EQhV",
        "outputId": "4610fa0d-9654-4388-c618-09a4338050a1"
      },
      "outputs": [
        {
          "data": {
            "text/plain": [
              "[3.14, 11, 'cat', True, 99]"
            ]
          },
          "execution_count": 27,
          "metadata": {},
          "output_type": "execute_result"
        }
      ],
      "source": [
        "## It basically removes the first element from the list which matches the given value.\n",
        "bacon.remove('cat')\n",
        "bacon"
      ]
    },
    {
      "cell_type": "code",
      "execution_count": null,
      "metadata": {
        "id": "TkGnYxOLEQhW",
        "outputId": "fba3ca54-b304-455a-a2e6-39537a3569ed"
      },
      "outputs": [
        {
          "name": "stdout",
          "output_type": "stream",
          "text": [
            "After concating:  [1, 2, 3, 4, 5, 6, 7, 8]\n",
            "After Replicating:  [1, 2, 3, 4, 5, 6, 7, 8, 1, 2, 3, 4, 5, 6, 7, 8, 1, 2, 3, 4, 5, 6, 7, 8]\n"
          ]
        }
      ],
      "source": [
        "## List concatination means you do add two list in one list and operator used for concatinating is +\n",
        "a = [1,2,3,4]\n",
        "b = [5,6,7,8]\n",
        "z = a+b\n",
        "print(\"After concating: \",z)\n",
        "## List replication means you create duplicates of that list and operator used for it is *\n",
        "t = z*3\n",
        "print(\"After Replicating: \",t)"
      ]
    },
    {
      "cell_type": "markdown",
      "metadata": {
        "id": "x9WWpAoNEQhX"
      },
      "source": [
        "## Difference between append and insert is that append adds element at the end of the List whereas, insert you can add element on specific position. "
      ]
    },
    {
      "cell_type": "code",
      "execution_count": null,
      "metadata": {
        "id": "7-Pw8sN_EQhX",
        "outputId": "5cc37993-ae46-4d8f-8376-15056fe2e034"
      },
      "outputs": [
        {
          "name": "stdout",
          "output_type": "stream",
          "text": [
            "Deleted Element is:  Adarsh\n",
            "Updated List:  [2, 5]\n"
          ]
        }
      ],
      "source": [
        "## The two methods for removing items for the list are pop and remove\n",
        "g = ['Akash',2,5,'Adarsh']\n",
        "## pop removes the last element of the list returning the deleted value\n",
        "print(\"Deleted Element is: \",g.pop())\n",
        "## remove function is used to remove element on specific index\n",
        "g.remove('Akash')\n",
        "print('Updated List: ',g)"
      ]
    },
    {
      "cell_type": "markdown",
      "metadata": {
        "id": "krsvaBT2EQhY"
      },
      "source": [
        "## The Difference between Lists and Tuples is List are mutable which means we can modify elements in the List, whereas in tuple you cannot modify elements once created.\n",
        "\n"
      ]
    },
    {
      "cell_type": "code",
      "execution_count": null,
      "metadata": {
        "id": "TstCCe8XEQhY",
        "outputId": "581493f2-24d6-4783-8761-7789069beac2"
      },
      "outputs": [
        {
          "data": {
            "text/plain": [
              "True"
            ]
          },
          "execution_count": 51,
          "metadata": {},
          "output_type": "execute_result"
        }
      ],
      "source": [
        "## list values and string values are identical as we can perform string operations on list.\n",
        "stuff = ['this', 'that', 'these', 'those']\n",
        "'these' in stuff"
      ]
    },
    {
      "cell_type": "code",
      "execution_count": null,
      "metadata": {
        "id": "cMIVK1tAEQhZ",
        "outputId": "780936bd-8474-4641-c01f-c82152a0907f"
      },
      "outputs": [
        {
          "data": {
            "text/plain": [
              "False"
            ]
          },
          "execution_count": 53,
          "metadata": {},
          "output_type": "execute_result"
        }
      ],
      "source": [
        "'buffalo' in stuff"
      ]
    },
    {
      "cell_type": "code",
      "execution_count": null,
      "metadata": {
        "id": "IR2cVKSPEQhZ",
        "outputId": "51f7c069-6352-4663-f7dc-a4c09be1a11c"
      },
      "outputs": [
        {
          "data": {
            "text/plain": [
              "tuple"
            ]
          },
          "execution_count": 76,
          "metadata": {},
          "output_type": "execute_result"
        }
      ],
      "source": [
        "tup = (43,)\n",
        "tup\n",
        "type(tup)"
      ]
    },
    {
      "cell_type": "code",
      "execution_count": null,
      "metadata": {
        "id": "QCdE3vX-EQhZ",
        "outputId": "593ba03a-7d34-4910-a2dc-bd61fed5ba41"
      },
      "outputs": [
        {
          "name": "stdout",
          "output_type": "stream",
          "text": [
            "Before typecasting:  <class 'list'>\n",
            "After typecasting <class 'tuple'>\n"
          ]
        }
      ],
      "source": [
        "## we can make tuple to list and list to tuple by typecasting\n",
        "v = [1,2,\"Akash\"]\n",
        "print('Before typecasting: ',type(v))\n",
        "## Here we need to store the converted object into different variable because v is already list is assigned\n",
        "j=tuple(v)\n",
        "print('After typecasting: ',type(j))"
      ]
    },
    {
      "cell_type": "markdown",
      "metadata": {
        "id": "8fwm22CXEQha"
      },
      "source": [
        "## Q.Variables that \"contain\" list values are not necessarily lists themselves. Instead, what do they contain?\n",
        "## Ans. Variables can hold nested list inside a list , single values of different data types.\n"
      ]
    },
    {
      "cell_type": "code",
      "execution_count": null,
      "metadata": {
        "id": "KUHXyAT9EQha",
        "outputId": "68fa7e1c-a508-411c-9ab8-b12387b75207"
      },
      "outputs": [
        {
          "name": "stdout",
          "output_type": "stream",
          "text": [
            "The n list:  [1, 6, 89, 27]\n",
            "The m list:  [1, 6, 89, 27]\n",
            "After modification in n list:  [1, 6, 40, 27]\n",
            "The m list remains unchanged:  [1, 6, 89, 27]\n"
          ]
        }
      ],
      "source": [
        "## Shallow Copy basically creates a different memory location so even if you change values of list n it wont affect m list.\n",
        "n = [1,6,89,27]\n",
        "m = n.copy()\n",
        "print('The n list: ',n)\n",
        "print('The m list: ',m)\n",
        "n[2] = 40\n",
        "## here due to shallow copy we arent referencing it to same memory location\n",
        "print('After modification in n list: ',n)\n",
        "print('The m list remains unchanged: ',m)\n"
      ]
    },
    {
      "cell_type": "code",
      "execution_count": null,
      "metadata": {
        "id": "Q5ODvWlPEQha",
        "outputId": "80c9d3d2-7e15-40f1-d8f6-c6d1d175f637"
      },
      "outputs": [
        {
          "name": "stdout",
          "output_type": "stream",
          "text": [
            "After modification in q list:  [[99, 66, 44, 33], [55, 77, 88, 220, 11]]\n",
            "Modification of q list in w list:  [[99, 66, 44, 33], [55, 77, 88, 220, 11]]\n",
            "Items in q list remains same:  [[99, 66, 44, 33], [55, 77, 88, 220, 11]]\n",
            "Appended item change in w list:  [[99, 66, 44, 33], [55, 77, 88, 220, 11], [2, 4, 6, 8]]\n"
          ]
        }
      ],
      "source": [
        "## problem with shallow copy is it behaves differently when it has nested lists\n",
        "q = [[99,66,44,33],[55,77,88,22,11]]\n",
        "w = q.copy()\n",
        "## modifying q list\n",
        "## here the changed value gets copied in both the list because it is referring to same object inside the nested list\n",
        "## both variables are referring to the same object that is present inside the list\n",
        "## if you try to change the values in list then it reflects change in other list\n",
        "q[1][3] = 220\n",
        "print('After modification in q list: ',q)\n",
        "print('Modification of q list in w list: ',w)\n",
        "## if you try to insert something there would be no affect in q list \n",
        "w.append([2,4,6,8])\n",
        "print('Items in q list remains same: ',q)\n",
        "print('Appended item change in w list: ',w)"
      ]
    },
    {
      "cell_type": "code",
      "execution_count": null,
      "metadata": {
        "id": "9wMIsdNaEQhb",
        "outputId": "ccd5b4f3-81e8-445e-a5a0-7b0784a2e090"
      },
      "outputs": [
        {
          "name": "stdout",
          "output_type": "stream",
          "text": [
            "After modification in lst1 remains same:  [[4, 2, 'Akash'], [3, 6, 'Borgalli']]\n",
            "Modification in lst2 only gets changed:  [[4, 2, 'Akash'], [3, 250, 'Borgalli']]\n"
          ]
        }
      ],
      "source": [
        "## To overcome this problem we have deepcopy() function\n",
        "import copy\n",
        "lst1=[[4,2,'Akash'],[3,6,'Borgalli']]\n",
        "lst2=copy.deepcopy(lst1)\n",
        "lst2[1][1]=250\n",
        "print('After modification in lst1 remains same: ',lst1)\n",
        "print('Modification in lst2 only gets changed: ',lst2)"
      ]
    }
  ],
  "metadata": {
    "kernelspec": {
      "display_name": "Python 3",
      "language": "python",
      "name": "python3"
    },
    "language_info": {
      "codemirror_mode": {
        "name": "ipython",
        "version": 3
      },
      "file_extension": ".py",
      "mimetype": "text/x-python",
      "name": "python",
      "nbconvert_exporter": "python",
      "pygments_lexer": "ipython3",
      "version": "3.8.5"
    },
    "colab": {
      "name": "214509_ Assignment-4.ipynb",
      "provenance": [],
      "include_colab_link": true
    }
  },
  "nbformat": 4,
  "nbformat_minor": 0
}